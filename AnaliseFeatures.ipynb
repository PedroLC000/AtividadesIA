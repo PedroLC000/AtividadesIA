{
  "cells": [
    {
      "cell_type": "code",
      "execution_count": null,
      "metadata": {
        "id": "TH8XJc6Kwc9o"
      },
      "outputs": [],
      "source": [
        "import pandas as pd\n",
        "import numpy as np\n",
        "from scipy.spatial import distance"
      ]
    },
    {
      "cell_type": "code",
      "execution_count": null,
      "metadata": {
        "id": "u1jtaQfT0rmj"
      },
      "outputs": [],
      "source": [
        "def distEuclidiana(dfVez, validacao):\n",
        "  soma = 0\n",
        "  cont = 0\n",
        "  if(validacao == 1):\n",
        "    for i in dfVez:\n",
        "      hist_gI = (list(i.split(\", \")))\n",
        "      integer_mapI = map(float, hist_gI)\n",
        "      integer_listI = list(integer_mapI)\n",
        "      for a in dfVez:\n",
        "        hist_gA = (list(a.split(\", \")))\n",
        "        integer_mapA = map(float, hist_gA)\n",
        "        integer_listA = list(integer_mapA)\n",
        "        if(integer_listA != integer_listI):\n",
        "            soma = soma + distance.euclidean(integer_listA, integer_listI)\n",
        "            cont = cont + 1\n",
        "  else:\n",
        "      for i in dfVez:\n",
        "        for a in dfVez:\n",
        "          if(a != i):\n",
        "              soma = soma + np.linalg.norm(a-i)\n",
        "              cont = cont + 1\n",
        "\n",
        "  return (soma/cont)"
      ]
    },
    {
      "cell_type": "code",
      "execution_count": null,
      "metadata": {
        "id": "Y3Pd8PUapOts"
      },
      "outputs": [],
      "source": [
        "df = pd.read_csv('csv\\output.csv')\n",
        "dfEsporos = pd.read_csv('csv\\output_Esporos.csv')"
      ]
    },
    {
      "cell_type": "code",
      "execution_count": null,
      "metadata": {
        "colab": {
          "base_uri": "https://localhost:8080/",
          "height": 441
        },
        "id": "0LeWsu468fQR",
        "outputId": "3e1640e3-6cc4-4c1f-c5b9-19714276adda"
      },
      "outputs": [
        {
          "data": {
            "text/html": [
              "<div>\n",
              "<style scoped>\n",
              "    .dataframe tbody tr th:only-of-type {\n",
              "        vertical-align: middle;\n",
              "    }\n",
              "\n",
              "    .dataframe tbody tr th {\n",
              "        vertical-align: top;\n",
              "    }\n",
              "\n",
              "    .dataframe thead th {\n",
              "        text-align: right;\n",
              "    }\n",
              "</style>\n",
              "<table border=\"1\" class=\"dataframe\">\n",
              "  <thead>\n",
              "    <tr style=\"text-align: right;\">\n",
              "      <th></th>\n",
              "      <th>Name</th>\n",
              "      <th>Histograma_G</th>\n",
              "      <th>Mean_Colors</th>\n",
              "      <th>meanExG</th>\n",
              "      <th>meanCIVE</th>\n",
              "      <th>meanNVDI</th>\n",
              "      <th>Haralick</th>\n",
              "      <th>Zernike</th>\n",
              "      <th>LBP</th>\n",
              "      <th>Equi_diameter</th>\n",
              "      <th>Area</th>\n",
              "      <th>Aspect_Ratio</th>\n",
              "    </tr>\n",
              "  </thead>\n",
              "  <tbody>\n",
              "    <tr>\n",
              "      <th>0</th>\n",
              "      <td>10-11-2022_Frame160_crop81.png</td>\n",
              "      <td>0, 0, 0, 0, 0, 0, 0, 0, 0, 0, 0, 0, 0, 0, 0, 1...</td>\n",
              "      <td>94.35105204872646, 80.8062015503876, 97.502214...</td>\n",
              "      <td>3, 0, 0, 2, 0, 2, 0, 0, 1, 0, 1, 0, 2, 2, 0, 1...</td>\n",
              "      <td>2, 0, 1, 1, 0, 1, 0, 0, 0, 0, 0, 0, 0, 0, 0, 0...</td>\n",
              "      <td>1, 0, 0, 0, 1, 0, 0, 1, 2, 2, 2, 0, 0, 2, 2, 2...</td>\n",
              "      <td>0.0022935423989581087, 121.0553746834336, 0.97...</td>\n",
              "      <td>0.31830988618378997, 0.011640396366343713, 0.0...</td>\n",
              "      <td>1806.0, 0.0, 0.0, 0.0, 0.0, 0.0, 0.0, 0.0</td>\n",
              "      <td>44.431497</td>\n",
              "      <td>1550.5</td>\n",
              "      <td>0.976744</td>\n",
              "    </tr>\n",
              "    <tr>\n",
              "      <th>1</th>\n",
              "      <td>10-11-2022_Frame164_crop98.png</td>\n",
              "      <td>0, 3, 7, 18, 143, 525, 248, 234, 208, 110, 76,...</td>\n",
              "      <td>77.76042328042328, 71.27068783068783, 80.49291...</td>\n",
              "      <td>2, 0, 0, 0, 0, 0, 0, 0, 2, 0, 2, 0, 2, 0, 1, 0...</td>\n",
              "      <td>4, 0, 0, 1, 0, 0, 0, 0, 1, 0, 0, 4, 1, 1, 1, 7...</td>\n",
              "      <td>2, 1, 0, 0, 0, 0, 0, 0, 0, 0, 0, 0, 1, 1, 0, 0...</td>\n",
              "      <td>0.0069256413909304735, 81.83735683840521, 0.98...</td>\n",
              "      <td>0.31830988618378986, 0.120118570279747, 0.0388...</td>\n",
              "      <td>4725.0, 0.0, 0.0, 0.0, 0.0, 0.0, 0.0, 0.0</td>\n",
              "      <td>67.862415</td>\n",
              "      <td>3617.0</td>\n",
              "      <td>1.190476</td>\n",
              "    </tr>\n",
              "    <tr>\n",
              "      <th>2</th>\n",
              "      <td>10-11-2022_Frame166_crop106.png</td>\n",
              "      <td>0, 0, 0, 0, 0, 0, 0, 0, 0, 0, 0, 0, 2, 3, 37, ...</td>\n",
              "      <td>85.98341013824884, 78.64562211981567, 87.42165...</td>\n",
              "      <td>2, 0, 0, 0, 0, 0, 1, 0, 0, 0, 0, 0, 0, 0, 0, 1...</td>\n",
              "      <td>1, 3, 0, 0, 0, 0, 4, 1, 0, 4, 3, 0, 0, 0, 1, 1...</td>\n",
              "      <td>2, 0, 0, 0, 0, 0, 0, 0, 0, 0, 0, 0, 0, 0, 1, 0...</td>\n",
              "      <td>0.002559757057620096, 107.9138441045376, 0.979...</td>\n",
              "      <td>0.31830988618379075, 0.025901158852661792, 0.0...</td>\n",
              "      <td>2170.0, 0.0, 0.0, 0.0, 0.0, 0.0, 0.0, 0.0</td>\n",
              "      <td>48.349434</td>\n",
              "      <td>1836.0</td>\n",
              "      <td>1.771429</td>\n",
              "    </tr>\n",
              "    <tr>\n",
              "      <th>3</th>\n",
              "      <td>10-11-2022_Frame169_crop120.png</td>\n",
              "      <td>0, 0, 1, 9, 8, 20, 59, 81, 63, 37, 37, 43, 28,...</td>\n",
              "      <td>96.80509355509356, 88.10135135135135, 95.59667...</td>\n",
              "      <td>3, 0, 2, 0, 0, 0, 0, 0, 7, 0, 0, 8, 0, 0, 0, 0...</td>\n",
              "      <td>23, 5, 0, 0, 6, 0, 0, 0, 8, 51, 3, 2, 1, 12, 1...</td>\n",
              "      <td>1, 0, 0, 0, 0, 0, 0, 0, 0, 2, 2, 3, 2, 0, 0, 0...</td>\n",
              "      <td>0.007226450918733984, 143.40259348715233, 0.97...</td>\n",
              "      <td>0.31830988618379064, 0.12334648657364185, 0.16...</td>\n",
              "      <td>1924.0, 0.0, 0.0, 0.0, 0.0, 0.0, 0.0, 0.0</td>\n",
              "      <td>41.096864</td>\n",
              "      <td>1326.5</td>\n",
              "      <td>1.405405</td>\n",
              "    </tr>\n",
              "    <tr>\n",
              "      <th>4</th>\n",
              "      <td>10-11-2022_Frame169_crop122.png</td>\n",
              "      <td>0, 0, 0, 0, 8, 42, 66, 97, 78, 120, 92, 63, 78...</td>\n",
              "      <td>83.33679354094579, 73.64552095347943, 87.95194...</td>\n",
              "      <td>1, 0, 0, 0, 1, 0, 0, 0, 0, 4, 0, 25, 0, 7, 0, ...</td>\n",
              "      <td>1, 1, 2, 0, 0, 0, 2, 0, 0, 0, 0, 1, 6, 4, 12, ...</td>\n",
              "      <td>8, 0, 0, 0, 0, 0, 0, 0, 0, 0, 22, 0, 0, 20, 0,...</td>\n",
              "      <td>0.005496646981930026, 102.92439607843137, 0.98...</td>\n",
              "      <td>0.31830988618378947, 0.015824133804991956, 0.0...</td>\n",
              "      <td>2601.0, 0.0, 0.0, 0.0, 0.0, 0.0, 0.0, 0.0</td>\n",
              "      <td>51.356749</td>\n",
              "      <td>2071.5</td>\n",
              "      <td>1.000000</td>\n",
              "    </tr>\n",
              "  </tbody>\n",
              "</table>\n",
              "</div>"
            ],
            "text/plain": [
              "                              Name  \\\n",
              "0   10-11-2022_Frame160_crop81.png   \n",
              "1   10-11-2022_Frame164_crop98.png   \n",
              "2  10-11-2022_Frame166_crop106.png   \n",
              "3  10-11-2022_Frame169_crop120.png   \n",
              "4  10-11-2022_Frame169_crop122.png   \n",
              "\n",
              "                                        Histograma_G  \\\n",
              "0  0, 0, 0, 0, 0, 0, 0, 0, 0, 0, 0, 0, 0, 0, 0, 1...   \n",
              "1  0, 3, 7, 18, 143, 525, 248, 234, 208, 110, 76,...   \n",
              "2  0, 0, 0, 0, 0, 0, 0, 0, 0, 0, 0, 0, 2, 3, 37, ...   \n",
              "3  0, 0, 1, 9, 8, 20, 59, 81, 63, 37, 37, 43, 28,...   \n",
              "4  0, 0, 0, 0, 8, 42, 66, 97, 78, 120, 92, 63, 78...   \n",
              "\n",
              "                                         Mean_Colors  \\\n",
              "0  94.35105204872646, 80.8062015503876, 97.502214...   \n",
              "1  77.76042328042328, 71.27068783068783, 80.49291...   \n",
              "2  85.98341013824884, 78.64562211981567, 87.42165...   \n",
              "3  96.80509355509356, 88.10135135135135, 95.59667...   \n",
              "4  83.33679354094579, 73.64552095347943, 87.95194...   \n",
              "\n",
              "                                             meanExG  \\\n",
              "0  3, 0, 0, 2, 0, 2, 0, 0, 1, 0, 1, 0, 2, 2, 0, 1...   \n",
              "1  2, 0, 0, 0, 0, 0, 0, 0, 2, 0, 2, 0, 2, 0, 1, 0...   \n",
              "2  2, 0, 0, 0, 0, 0, 1, 0, 0, 0, 0, 0, 0, 0, 0, 1...   \n",
              "3  3, 0, 2, 0, 0, 0, 0, 0, 7, 0, 0, 8, 0, 0, 0, 0...   \n",
              "4  1, 0, 0, 0, 1, 0, 0, 0, 0, 4, 0, 25, 0, 7, 0, ...   \n",
              "\n",
              "                                            meanCIVE  \\\n",
              "0  2, 0, 1, 1, 0, 1, 0, 0, 0, 0, 0, 0, 0, 0, 0, 0...   \n",
              "1  4, 0, 0, 1, 0, 0, 0, 0, 1, 0, 0, 4, 1, 1, 1, 7...   \n",
              "2  1, 3, 0, 0, 0, 0, 4, 1, 0, 4, 3, 0, 0, 0, 1, 1...   \n",
              "3  23, 5, 0, 0, 6, 0, 0, 0, 8, 51, 3, 2, 1, 12, 1...   \n",
              "4  1, 1, 2, 0, 0, 0, 2, 0, 0, 0, 0, 1, 6, 4, 12, ...   \n",
              "\n",
              "                                            meanNVDI  \\\n",
              "0  1, 0, 0, 0, 1, 0, 0, 1, 2, 2, 2, 0, 0, 2, 2, 2...   \n",
              "1  2, 1, 0, 0, 0, 0, 0, 0, 0, 0, 0, 0, 1, 1, 0, 0...   \n",
              "2  2, 0, 0, 0, 0, 0, 0, 0, 0, 0, 0, 0, 0, 0, 1, 0...   \n",
              "3  1, 0, 0, 0, 0, 0, 0, 0, 0, 2, 2, 3, 2, 0, 0, 0...   \n",
              "4  8, 0, 0, 0, 0, 0, 0, 0, 0, 0, 22, 0, 0, 20, 0,...   \n",
              "\n",
              "                                            Haralick  \\\n",
              "0  0.0022935423989581087, 121.0553746834336, 0.97...   \n",
              "1  0.0069256413909304735, 81.83735683840521, 0.98...   \n",
              "2  0.002559757057620096, 107.9138441045376, 0.979...   \n",
              "3  0.007226450918733984, 143.40259348715233, 0.97...   \n",
              "4  0.005496646981930026, 102.92439607843137, 0.98...   \n",
              "\n",
              "                                             Zernike  \\\n",
              "0  0.31830988618378997, 0.011640396366343713, 0.0...   \n",
              "1  0.31830988618378986, 0.120118570279747, 0.0388...   \n",
              "2  0.31830988618379075, 0.025901158852661792, 0.0...   \n",
              "3  0.31830988618379064, 0.12334648657364185, 0.16...   \n",
              "4  0.31830988618378947, 0.015824133804991956, 0.0...   \n",
              "\n",
              "                                         LBP  Equi_diameter    Area  \\\n",
              "0  1806.0, 0.0, 0.0, 0.0, 0.0, 0.0, 0.0, 0.0      44.431497  1550.5   \n",
              "1  4725.0, 0.0, 0.0, 0.0, 0.0, 0.0, 0.0, 0.0      67.862415  3617.0   \n",
              "2  2170.0, 0.0, 0.0, 0.0, 0.0, 0.0, 0.0, 0.0      48.349434  1836.0   \n",
              "3  1924.0, 0.0, 0.0, 0.0, 0.0, 0.0, 0.0, 0.0      41.096864  1326.5   \n",
              "4  2601.0, 0.0, 0.0, 0.0, 0.0, 0.0, 0.0, 0.0      51.356749  2071.5   \n",
              "\n",
              "   Aspect_Ratio  \n",
              "0      0.976744  \n",
              "1      1.190476  \n",
              "2      1.771429  \n",
              "3      1.405405  \n",
              "4      1.000000  "
            ]
          },
          "execution_count": 4,
          "metadata": {},
          "output_type": "execute_result"
        }
      ],
      "source": [
        "df.head()"
      ]
    },
    {
      "cell_type": "code",
      "execution_count": null,
      "metadata": {
        "colab": {
          "base_uri": "https://localhost:8080/",
          "height": 424
        },
        "id": "CF93dTN18fmv",
        "outputId": "5274fd54-0abc-436e-8d1c-d123f379956f"
      },
      "outputs": [
        {
          "data": {
            "text/html": [
              "<div>\n",
              "<style scoped>\n",
              "    .dataframe tbody tr th:only-of-type {\n",
              "        vertical-align: middle;\n",
              "    }\n",
              "\n",
              "    .dataframe tbody tr th {\n",
              "        vertical-align: top;\n",
              "    }\n",
              "\n",
              "    .dataframe thead th {\n",
              "        text-align: right;\n",
              "    }\n",
              "</style>\n",
              "<table border=\"1\" class=\"dataframe\">\n",
              "  <thead>\n",
              "    <tr style=\"text-align: right;\">\n",
              "      <th></th>\n",
              "      <th>Name</th>\n",
              "      <th>Histograma_G</th>\n",
              "      <th>Mean_Colors</th>\n",
              "      <th>meanExG</th>\n",
              "      <th>meanCIVE</th>\n",
              "      <th>meanNVDI</th>\n",
              "      <th>Haralick</th>\n",
              "      <th>Zernike</th>\n",
              "      <th>LBP</th>\n",
              "      <th>Equi_diameter</th>\n",
              "      <th>Area</th>\n",
              "      <th>Aspect_Ratio</th>\n",
              "    </tr>\n",
              "  </thead>\n",
              "  <tbody>\n",
              "    <tr>\n",
              "      <th>0</th>\n",
              "      <td>10-11-2022_Frame1050_crop4328.png</td>\n",
              "      <td>0, 0, 0, 0, 0, 0, 0, 0, 0, 0, 0, 0, 0, 0, 0, 0...</td>\n",
              "      <td>81.44747474747474, 81.28686868686869, 95.02525...</td>\n",
              "      <td>4, 0, 0, 2, 0, 0, 4, 0, 0, 8, 0, 0, 0, 3, 0, 0...</td>\n",
              "      <td>1, 0, 0, 0, 0, 0, 0, 0, 0, 0, 0, 0, 1, 0, 1, 0...</td>\n",
              "      <td>1, 0, 1, 2, 3, 0, 0, 1, 7, 3, 2, 0, 8, 5, 0, 6...</td>\n",
              "      <td>0.002192667937659057, 225.70938806165103, 0.94...</td>\n",
              "      <td>0.3183098861837904, 0.11928142388172264, 0.006...</td>\n",
              "      <td>990.0, 0.0, 0.0, 0.0, 0.0, 0.0, 0.0, 0.0</td>\n",
              "      <td>34.373919</td>\n",
              "      <td>928.0</td>\n",
              "      <td>0.909091</td>\n",
              "    </tr>\n",
              "    <tr>\n",
              "      <th>1</th>\n",
              "      <td>10-11-2022_Frame1274_crop5551.png</td>\n",
              "      <td>0, 0, 0, 0, 0, 0, 0, 0, 0, 0, 0, 0, 0, 0, 0, 0...</td>\n",
              "      <td>87.21031746031746, 84.96825396825396, 96.08095...</td>\n",
              "      <td>1, 0, 0, 0, 0, 0, 2, 0, 0, 0, 1, 0, 0, 4, 0, 0...</td>\n",
              "      <td>2, 0, 0, 2, 0, 0, 0, 0, 0, 0, 0, 0, 0, 0, 0, 0...</td>\n",
              "      <td>1, 0, 0, 0, 2, 2, 0, 0, 0, 0, 6, 2, 0, 0, 0, 7...</td>\n",
              "      <td>0.002106630448356948, 154.85337418398814, 0.97...</td>\n",
              "      <td>0.31830988618379047, 0.1431942501253348, 0.081...</td>\n",
              "      <td>1260.0, 0.0, 0.0, 0.0, 0.0, 0.0, 0.0, 0.0</td>\n",
              "      <td>36.607166</td>\n",
              "      <td>1052.5</td>\n",
              "      <td>1.400000</td>\n",
              "    </tr>\n",
              "    <tr>\n",
              "      <th>2</th>\n",
              "      <td>10-11-2022_Frame1375_crop6132.png</td>\n",
              "      <td>0, 0, 0, 0, 0, 0, 0, 0, 0, 0, 0, 0, 0, 1, 3, 8...</td>\n",
              "      <td>103.22107843137255, 101.65392156862745, 115.09...</td>\n",
              "      <td>1, 1, 0, 0, 0, 0, 1, 1, 0, 0, 0, 0, 3, 0, 0, 0...</td>\n",
              "      <td>1, 0, 1, 0, 0, 1, 1, 0, 0, 2, 0, 2, 0, 0, 0, 0...</td>\n",
              "      <td>1, 0, 1, 0, 0, 0, 0, 0, 0, 1, 0, 0, 0, 5, 0, 1...</td>\n",
              "      <td>0.002718226492472045, 170.7979158496732, 0.972...</td>\n",
              "      <td>0.3183098861837905, 0.16713770591498986, 0.076...</td>\n",
              "      <td>2040.0, 0.0, 0.0, 0.0, 0.0, 0.0, 0.0, 0.0</td>\n",
              "      <td>43.402280</td>\n",
              "      <td>1479.5</td>\n",
              "      <td>1.275000</td>\n",
              "    </tr>\n",
              "    <tr>\n",
              "      <th>3</th>\n",
              "      <td>10-11-2022_Frame444_crop1293.png</td>\n",
              "      <td>0, 0, 0, 0, 0, 0, 0, 0, 0, 0, 0, 0, 0, 0, 0, 0...</td>\n",
              "      <td>108.1934046345811, 108.04010695187165, 106.849...</td>\n",
              "      <td>1, 0, 0, 4, 0, 0, 0, 1, 0, 0, 0, 12, 0, 0, 0, ...</td>\n",
              "      <td>1, 1, 0, 0, 0, 0, 0, 0, 0, 0, 0, 0, 0, 0, 1, 1...</td>\n",
              "      <td>1, 0, 0, 0, 0, 1, 0, 1, 2, 1, 2, 1, 1, 3, 0, 0...</td>\n",
              "      <td>0.0010086931759016975, 93.73647382076105, 0.95...</td>\n",
              "      <td>0.31830988618379064, 0.06613899594810417, 0.00...</td>\n",
              "      <td>1122.0, 0.0, 0.0, 0.0, 0.0, 0.0, 0.0, 0.0</td>\n",
              "      <td>35.691402</td>\n",
              "      <td>1000.5</td>\n",
              "      <td>1.030303</td>\n",
              "    </tr>\n",
              "    <tr>\n",
              "      <th>4</th>\n",
              "      <td>10-11-2022_Frame984_crop4037.png</td>\n",
              "      <td>0, 0, 0, 0, 0, 0, 0, 0, 0, 0, 0, 0, 0, 0, 0, 0...</td>\n",
              "      <td>114.95405669599218, 105.33724340175954, 117.12...</td>\n",
              "      <td>1, 0, 0, 0, 0, 6, 0, 0, 6, 0, 0, 2, 0, 0, 2, 0...</td>\n",
              "      <td>3, 0, 0, 0, 1, 0, 0, 0, 0, 1, 0, 1, 0, 1, 0, 0...</td>\n",
              "      <td>1, 0, 0, 0, 0, 0, 0, 0, 0, 0, 0, 1, 0, 0, 0, 0...</td>\n",
              "      <td>0.0014498134609376217, 162.55375962243403, 0.9...</td>\n",
              "      <td>0.3183098861837923, 0.08124362943867204, 0.020...</td>\n",
              "      <td>1023.0, 0.0, 0.0, 0.0, 0.0, 0.0, 0.0, 0.0</td>\n",
              "      <td>33.813741</td>\n",
              "      <td>898.0</td>\n",
              "      <td>0.939394</td>\n",
              "    </tr>\n",
              "  </tbody>\n",
              "</table>\n",
              "</div>"
            ],
            "text/plain": [
              "                                Name  \\\n",
              "0  10-11-2022_Frame1050_crop4328.png   \n",
              "1  10-11-2022_Frame1274_crop5551.png   \n",
              "2  10-11-2022_Frame1375_crop6132.png   \n",
              "3   10-11-2022_Frame444_crop1293.png   \n",
              "4   10-11-2022_Frame984_crop4037.png   \n",
              "\n",
              "                                        Histograma_G  \\\n",
              "0  0, 0, 0, 0, 0, 0, 0, 0, 0, 0, 0, 0, 0, 0, 0, 0...   \n",
              "1  0, 0, 0, 0, 0, 0, 0, 0, 0, 0, 0, 0, 0, 0, 0, 0...   \n",
              "2  0, 0, 0, 0, 0, 0, 0, 0, 0, 0, 0, 0, 0, 1, 3, 8...   \n",
              "3  0, 0, 0, 0, 0, 0, 0, 0, 0, 0, 0, 0, 0, 0, 0, 0...   \n",
              "4  0, 0, 0, 0, 0, 0, 0, 0, 0, 0, 0, 0, 0, 0, 0, 0...   \n",
              "\n",
              "                                         Mean_Colors  \\\n",
              "0  81.44747474747474, 81.28686868686869, 95.02525...   \n",
              "1  87.21031746031746, 84.96825396825396, 96.08095...   \n",
              "2  103.22107843137255, 101.65392156862745, 115.09...   \n",
              "3  108.1934046345811, 108.04010695187165, 106.849...   \n",
              "4  114.95405669599218, 105.33724340175954, 117.12...   \n",
              "\n",
              "                                             meanExG  \\\n",
              "0  4, 0, 0, 2, 0, 0, 4, 0, 0, 8, 0, 0, 0, 3, 0, 0...   \n",
              "1  1, 0, 0, 0, 0, 0, 2, 0, 0, 0, 1, 0, 0, 4, 0, 0...   \n",
              "2  1, 1, 0, 0, 0, 0, 1, 1, 0, 0, 0, 0, 3, 0, 0, 0...   \n",
              "3  1, 0, 0, 4, 0, 0, 0, 1, 0, 0, 0, 12, 0, 0, 0, ...   \n",
              "4  1, 0, 0, 0, 0, 6, 0, 0, 6, 0, 0, 2, 0, 0, 2, 0...   \n",
              "\n",
              "                                            meanCIVE  \\\n",
              "0  1, 0, 0, 0, 0, 0, 0, 0, 0, 0, 0, 0, 1, 0, 1, 0...   \n",
              "1  2, 0, 0, 2, 0, 0, 0, 0, 0, 0, 0, 0, 0, 0, 0, 0...   \n",
              "2  1, 0, 1, 0, 0, 1, 1, 0, 0, 2, 0, 2, 0, 0, 0, 0...   \n",
              "3  1, 1, 0, 0, 0, 0, 0, 0, 0, 0, 0, 0, 0, 0, 1, 1...   \n",
              "4  3, 0, 0, 0, 1, 0, 0, 0, 0, 1, 0, 1, 0, 1, 0, 0...   \n",
              "\n",
              "                                            meanNVDI  \\\n",
              "0  1, 0, 1, 2, 3, 0, 0, 1, 7, 3, 2, 0, 8, 5, 0, 6...   \n",
              "1  1, 0, 0, 0, 2, 2, 0, 0, 0, 0, 6, 2, 0, 0, 0, 7...   \n",
              "2  1, 0, 1, 0, 0, 0, 0, 0, 0, 1, 0, 0, 0, 5, 0, 1...   \n",
              "3  1, 0, 0, 0, 0, 1, 0, 1, 2, 1, 2, 1, 1, 3, 0, 0...   \n",
              "4  1, 0, 0, 0, 0, 0, 0, 0, 0, 0, 0, 1, 0, 0, 0, 0...   \n",
              "\n",
              "                                            Haralick  \\\n",
              "0  0.002192667937659057, 225.70938806165103, 0.94...   \n",
              "1  0.002106630448356948, 154.85337418398814, 0.97...   \n",
              "2  0.002718226492472045, 170.7979158496732, 0.972...   \n",
              "3  0.0010086931759016975, 93.73647382076105, 0.95...   \n",
              "4  0.0014498134609376217, 162.55375962243403, 0.9...   \n",
              "\n",
              "                                             Zernike  \\\n",
              "0  0.3183098861837904, 0.11928142388172264, 0.006...   \n",
              "1  0.31830988618379047, 0.1431942501253348, 0.081...   \n",
              "2  0.3183098861837905, 0.16713770591498986, 0.076...   \n",
              "3  0.31830988618379064, 0.06613899594810417, 0.00...   \n",
              "4  0.3183098861837923, 0.08124362943867204, 0.020...   \n",
              "\n",
              "                                         LBP  Equi_diameter    Area  \\\n",
              "0   990.0, 0.0, 0.0, 0.0, 0.0, 0.0, 0.0, 0.0      34.373919   928.0   \n",
              "1  1260.0, 0.0, 0.0, 0.0, 0.0, 0.0, 0.0, 0.0      36.607166  1052.5   \n",
              "2  2040.0, 0.0, 0.0, 0.0, 0.0, 0.0, 0.0, 0.0      43.402280  1479.5   \n",
              "3  1122.0, 0.0, 0.0, 0.0, 0.0, 0.0, 0.0, 0.0      35.691402  1000.5   \n",
              "4  1023.0, 0.0, 0.0, 0.0, 0.0, 0.0, 0.0, 0.0      33.813741   898.0   \n",
              "\n",
              "   Aspect_Ratio  \n",
              "0      0.909091  \n",
              "1      1.400000  \n",
              "2      1.275000  \n",
              "3      1.030303  \n",
              "4      0.939394  "
            ]
          },
          "execution_count": 5,
          "metadata": {},
          "output_type": "execute_result"
        }
      ],
      "source": [
        "dfEsporos.head()"
      ]
    },
    {
      "cell_type": "markdown",
      "metadata": {
        "id": "KZyMDm3Y33Qt"
      },
      "source": [
        "**Cor**"
      ]
    },
    {
      "cell_type": "markdown",
      "metadata": {
        "id": "j6M2V6kAoNyf"
      },
      "source": [
        "\n",
        "\n",
        "```\n",
        "Distância Euclidiana Histograma_G\n",
        "```\n",
        "\n"
      ]
    },
    {
      "cell_type": "code",
      "execution_count": null,
      "metadata": {
        "colab": {
          "base_uri": "https://localhost:8080/"
        },
        "id": "08J6VJBOoUX-",
        "outputId": "3c7d49b7-f08b-42fe-bfae-6e4b44c84424"
      },
      "outputs": [
        {
          "name": "stdout",
          "output_type": "stream",
          "text": [
            "Distância Euclidiana Histograma_G - Classificados:  136.72324673229193\n",
            "Distância Euclidiana Histograma_G - Não Classificados:  499.6547315570571\n"
          ]
        }
      ],
      "source": [
        "print('Distância Euclidiana Histograma_G - Classificados: ', distEuclidiana(dfEsporos['Histograma_G'], 1))\n",
        "print('Distância Euclidiana Histograma_G - Não Classificados: ', distEuclidiana(df['Histograma_G'], 1))"
      ]
    },
    {
      "cell_type": "markdown",
      "metadata": {
        "id": "1dHOsqfLUonw"
      },
      "source": [
        "\n",
        "\n",
        "```\n",
        "Distância Euclidiana Mean_Colors\n",
        "```\n",
        "\n"
      ]
    },
    {
      "cell_type": "code",
      "execution_count": null,
      "metadata": {
        "colab": {
          "base_uri": "https://localhost:8080/"
        },
        "id": "b4RxtJhsUoOf",
        "outputId": "9d474799-e6ae-4930-d720-c5b2750d13f3"
      },
      "outputs": [
        {
          "name": "stdout",
          "output_type": "stream",
          "text": [
            "Distância Euclidiana Mean_Colors - Classificados:  24.4955630750617\n",
            "Distância Euclidiana Mean_Colors - Não Classificados:  28.87529319033895\n"
          ]
        }
      ],
      "source": [
        "print('Distância Euclidiana Mean_Colors - Classificados: ', distEuclidiana(dfEsporos['Mean_Colors'], 1))\n",
        "print('Distância Euclidiana Mean_Colors - Não Classificados: ', distEuclidiana(df['Mean_Colors'], 1))"
      ]
    },
    {
      "cell_type": "markdown",
      "metadata": {
        "id": "haxi7traaSr3"
      },
      "source": [
        "\n",
        "\n",
        "```\n",
        "Distância Euclidiana Indices Vegetativos\n",
        "```\n",
        "\n"
      ]
    },
    {
      "cell_type": "code",
      "execution_count": null,
      "metadata": {
        "id": "07O7xWWIaSr4",
        "outputId": "b3b18605-a0ed-47bf-9c1f-43cdc39a6373"
      },
      "outputs": [
        {
          "name": "stdout",
          "output_type": "stream",
          "text": [
            "Distância Euclidiana meanExG - Classificados:  244.7099474084502\n",
            "Distância Euclidiana meanExG - Não Classificados:  759.9802623222454\n"
          ]
        }
      ],
      "source": [
        "print('Distância Euclidiana meanExG - Classificados: ', distEuclidiana(dfEsporos['meanExG'], 1))\n",
        "print('Distância Euclidiana meanExG - Não Classificados: ', distEuclidiana(df['meanExG'], 1))"
      ]
    },
    {
      "cell_type": "code",
      "execution_count": null,
      "metadata": {
        "id": "1ZOkpPg4aSr8",
        "outputId": "9f43eeb2-c0cf-4c8f-8d2f-378bc53c9e64"
      },
      "outputs": [
        {
          "name": "stdout",
          "output_type": "stream",
          "text": [
            "Distância Euclidiana meanCIVE - Classificados:  134.49356295974704\n",
            "Distância Euclidiana meanCIVE - Não Classificados:  445.05141588137525\n"
          ]
        }
      ],
      "source": [
        "print('Distância Euclidiana meanCIVE - Classificados: ', distEuclidiana(dfEsporos['meanCIVE'], 1))\n",
        "print('Distância Euclidiana meanCIVE - Não Classificados: ', distEuclidiana(df['meanCIVE'], 1))"
      ]
    },
    {
      "cell_type": "code",
      "execution_count": null,
      "metadata": {
        "id": "TB3lLNDsaSr-",
        "outputId": "1ab5ad35-b46b-4f22-baf8-1927112ab2d7"
      },
      "outputs": [
        {
          "name": "stdout",
          "output_type": "stream",
          "text": [
            "Distância Euclidiana meanNDI - Classificados:  169.4310914201917\n",
            "Distância Euclidiana meanNDI - Não Classificados:  567.5614508769592\n"
          ]
        }
      ],
      "source": [
        "print('Distância Euclidiana meanNDI - Classificados: ', distEuclidiana(dfEsporos['meanNVDI'], 1))\n",
        "print('Distância Euclidiana meanNDI - Não Classificados: ', distEuclidiana(df['meanNVDI'], 1))"
      ]
    },
    {
      "cell_type": "markdown",
      "metadata": {
        "id": "ZI9JpfPK4EfG"
      },
      "source": [
        "**Textura**"
      ]
    },
    {
      "cell_type": "markdown",
      "metadata": {
        "id": "2taUceC5pIY5"
      },
      "source": [
        "\n",
        "\n",
        "```\n",
        "Distância Euclidiana Haralick\n",
        "```\n",
        "\n"
      ]
    },
    {
      "cell_type": "code",
      "execution_count": null,
      "metadata": {
        "colab": {
          "base_uri": "https://localhost:8080/"
        },
        "id": "RESKIlXepPaT",
        "outputId": "665e85d4-8a0e-4764-96f0-5bb82450e0e2"
      },
      "outputs": [
        {
          "name": "stdout",
          "output_type": "stream",
          "text": [
            "Distância Euclidiana Haralick - Classificados:  2764.1831386470158\n",
            "Distância Euclidiana Haralick - Não Classificados:  4348.036924282187\n"
          ]
        }
      ],
      "source": [
        "print('Distância Euclidiana Haralick - Classificados: ', distEuclidiana(dfEsporos['Haralick'], 1))\n",
        "print('Distância Euclidiana Haralick - Não Classificados: ', distEuclidiana(df['Haralick'], 1))"
      ]
    },
    {
      "cell_type": "markdown",
      "metadata": {
        "id": "XQ8izHuugBsj"
      },
      "source": [
        "\n",
        "\n",
        "```\n",
        "Distância Euclidiana Zernike\n",
        "```\n",
        "\n"
      ]
    },
    {
      "cell_type": "code",
      "execution_count": null,
      "metadata": {
        "colab": {
          "base_uri": "https://localhost:8080/"
        },
        "id": "GFwYpjUtgEVU",
        "outputId": "1b14e11d-05ce-4c9a-87e6-852e43fe67d4"
      },
      "outputs": [
        {
          "name": "stdout",
          "output_type": "stream",
          "text": [
            "Distância Euclidiana Zernike - Classificados:  0.11594195473024788\n",
            "Distância Euclidiana Zernike - Não Classificados:  0.10427783528946159\n"
          ]
        }
      ],
      "source": [
        "print('Distância Euclidiana Zernike - Classificados: ', distEuclidiana(dfEsporos['Zernike'], 1))\n",
        "print('Distância Euclidiana Zernike - Não Classificados: ', distEuclidiana(df['Zernike'], 1))"
      ]
    },
    {
      "cell_type": "markdown",
      "metadata": {
        "id": "rkTePRU1rgTC"
      },
      "source": [
        "\n",
        "\n",
        "```\n",
        "Distância Euclidiana LBP\n",
        "```\n",
        "\n"
      ]
    },
    {
      "cell_type": "code",
      "execution_count": null,
      "metadata": {
        "colab": {
          "base_uri": "https://localhost:8080/"
        },
        "id": "QbSVi_T1rf9d",
        "outputId": "df07922b-7240-43c7-e1b4-185cbb542204"
      },
      "outputs": [
        {
          "name": "stdout",
          "output_type": "stream",
          "text": [
            "Distância Euclidiana LBP - Classificados:  485.6666666666667\n",
            "Distância Euclidiana LBP - Não Classificados:  1381.535692618807\n"
          ]
        }
      ],
      "source": [
        "print('Distância Euclidiana LBP - Classificados: ', distEuclidiana(dfEsporos['LBP'], 1))\n",
        "print('Distância Euclidiana LBP - Não Classificados: ', distEuclidiana(df['LBP'], 1))"
      ]
    },
    {
      "cell_type": "markdown",
      "metadata": {
        "id": "QNFSYglJ74la"
      },
      "source": [
        "**Forma**\n",
        "\n",
        "\n",
        "\n"
      ]
    },
    {
      "cell_type": "markdown",
      "metadata": {
        "id": "vRsMLPN976eD"
      },
      "source": [
        "\n",
        "\n",
        "```\n",
        "Distância Euclidiana Area\n",
        "```\n",
        "\n"
      ]
    },
    {
      "cell_type": "code",
      "execution_count": null,
      "metadata": {
        "id": "OndVdm2K7-Tj"
      },
      "outputs": [],
      "source": [
        "print('Distância Euclidiana Média Area - Classificados: ', distEuclidiana(dfEsporos['Area'], 0))\n",
        "print('Distância Euclidiana Média Area - Não Classificados: ', distEuclidiana(df['Area'], 0))"
      ]
    },
    {
      "cell_type": "markdown",
      "metadata": {
        "id": "DJh7JVhUEGeY"
      },
      "source": [
        "\n",
        "\n",
        "```\n",
        "Distância Euclidiana Equi_diameter\n",
        "```\n",
        "\n"
      ]
    },
    {
      "cell_type": "code",
      "execution_count": null,
      "metadata": {
        "colab": {
          "base_uri": "https://localhost:8080/"
        },
        "id": "DVVLcsyI79_a",
        "outputId": "88e7788e-f30d-4e7d-a318-1ea297cf91fb"
      },
      "outputs": [
        {
          "name": "stdout",
          "output_type": "stream",
          "text": [
            "Distância Euclidiana Equi_diameter - Classificados:  11.279408909732277\n",
            "Distância Euclidiana Equi_diameter - Não Classificados:  52.82763288009945\n"
          ]
        }
      ],
      "source": [
        "print('Distância Euclidiana Equi_diameter - Classificados: ', distEuclidiana(dfEsporos['Equi_diameter'], 0))\n",
        "print('Distância Euclidiana Equi_diameter - Não Classificados: ', distEuclidiana(df['Equi_diameter'], 0))"
      ]
    },
    {
      "cell_type": "markdown",
      "metadata": {
        "id": "bf1UFDk1SboO"
      },
      "source": [
        "\n",
        "```\n",
        "Distância Euclidiana Aspect_Ratio\n",
        "```\n",
        "\n"
      ]
    },
    {
      "cell_type": "code",
      "execution_count": null,
      "metadata": {
        "colab": {
          "base_uri": "https://localhost:8080/"
        },
        "id": "4mp1z9MaSb5R",
        "outputId": "f476f680-2b26-4101-e595-7216fcc2b664"
      },
      "outputs": [
        {
          "name": "stdout",
          "output_type": "stream",
          "text": [
            "Distância Euclidiana Aspect_Ratio - Classificados:  0.39987740485785994\n",
            "Distância Euclidiana Aspect_Ratio - Não Classificados:  0.7737835358727309\n"
          ]
        }
      ],
      "source": [
        "print('Distância Euclidiana Aspect_Ratio - Classificados: ', distEuclidiana(dfEsporos['Aspect_Ratio'], 0))\n",
        "print('Distância Euclidiana Aspect_Ratio - Não Classificados: ', distEuclidiana(df['Aspect_Ratio'], 0))"
      ]
    },
    {
      "cell_type": "markdown",
      "source": [
        "Foi possível perceber que a distância euclidiana entre as características das imagens positivas foi menor que as imagens negativas, mostrando que existe algum tipo de padrão entre as características das imagens positivas."
      ],
      "metadata": {
        "id": "8Y63xV2-11Am"
      }
    }
  ],
  "metadata": {
    "colab": {
      "provenance": []
    },
    "kernelspec": {
      "display_name": "Python 3.10.8 64-bit (microsoft store)",
      "language": "python",
      "name": "python3"
    },
    "language_info": {
      "codemirror_mode": {
        "name": "ipython",
        "version": 3
      },
      "file_extension": ".py",
      "mimetype": "text/x-python",
      "name": "python",
      "nbconvert_exporter": "python",
      "pygments_lexer": "ipython3",
      "version": "3.10.8"
    },
    "vscode": {
      "interpreter": {
        "hash": "e0acaf148705ed9ed86cc5cad12259d7985e30670e5686e5f55604a9b3b84a55"
      }
    }
  },
  "nbformat": 4,
  "nbformat_minor": 0
}