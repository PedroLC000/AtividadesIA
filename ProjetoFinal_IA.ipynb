{
  "cells": [
    {
      "cell_type": "markdown",
      "metadata": {
        "id": "of9fRQ1WIZ0y"
      },
      "source": [
        "##Projeto Aprendizado de Máquina -\n",
        "\n",
        "- Conjunto de dados:\n",
        "Utilizar apenas o conjunto treino (train.csv) e realizar a separação entre treino (com 70%) e\n",
        "teste (30%);\n",
        "- Classificadores: Poderá ser utilizado outros classificadores, além daqueles abordados em\n",
        "sala de aula (Decision Tree, Randon Forest, KNN e SVM).\n",
        "\n",
        "- Limpeza e pré-processamento dos dados(Remoção de dados faltantes NaN, transformação de dados categóricos e normalização);\n",
        "- Avaliação com pelo menos 3 classificadores;\n",
        "- Ajuste dos hiperparâmetros com GridSearchCV e RandonSearchCV;\n",
        "- Amostragem por validação cruzada estratificada (10 folds);\n",
        "- Apresentação da Acurácia nos conjuntos treino (10 folds) e também conjunto teste;\n",
        "- Apresentação da Matriz confusão;\n",
        "- Redução da base de dados com seleção de características RFE;"
      ]
    },
    {
      "cell_type": "code",
      "execution_count": null,
      "metadata": {
        "id": "v2SBjIeCIyyJ"
      },
      "outputs": [],
      "source": [
        "import pandas as pd\n",
        "from sklearn.preprocessing import LabelEncoder\n",
        "from sklearn.impute import SimpleImputer\n",
        "import numpy as np\n",
        "from sklearn.preprocessing import StandardScaler\n",
        "from sklearn.model_selection import train_test_split\n",
        "from sklearn.model_selection import GridSearchCV\n",
        "from sklearn.model_selection import RandomizedSearchCV\n",
        "from sklearn.model_selection import StratifiedKFold\n",
        "from sklearn.metrics import confusion_matrix, ConfusionMatrixDisplay\n",
        "import seaborn as sns\n",
        "from sklearn.feature_selection import RFE\n",
        "from sklearn.neighbors import KNeighborsClassifier\n",
        "from sklearn import metrics\n",
        "import matplotlib.pyplot as plt\n",
        "import statistics as sts\n",
        "from sklearn.model_selection import cross_val_score\n",
        "from sklearn.svm import SVC\n",
        "from sklearn.ensemble import RandomForestClassifier\n",
        "from sklearn.metrics import accuracy_score\n",
        "from sklearn.metrics import classification_report"
      ]
    },
    {
      "cell_type": "code",
      "execution_count": null,
      "metadata": {
        "id": "UdZAf-CpHreF"
      },
      "outputs": [],
      "source": [
        "df=pd.read_csv('/content/train.csv')"
      ]
    },
    {
      "cell_type": "code",
      "execution_count": null,
      "metadata": {
        "colab": {
          "base_uri": "https://localhost:8080/",
          "height": 206
        },
        "id": "Sqe0DZl6IrBQ",
        "outputId": "552b1388-62ba-43e1-dee7-1fe0bb1ecf9e"
      },
      "outputs": [
        {
          "data": {
            "text/html": [
              "\n",
              "  <div id=\"df-86fa23ed-bf92-4264-aaba-4b25c7da8bb2\">\n",
              "    <div class=\"colab-df-container\">\n",
              "      <div>\n",
              "<style scoped>\n",
              "    .dataframe tbody tr th:only-of-type {\n",
              "        vertical-align: middle;\n",
              "    }\n",
              "\n",
              "    .dataframe tbody tr th {\n",
              "        vertical-align: top;\n",
              "    }\n",
              "\n",
              "    .dataframe thead th {\n",
              "        text-align: right;\n",
              "    }\n",
              "</style>\n",
              "<table border=\"1\" class=\"dataframe\">\n",
              "  <thead>\n",
              "    <tr style=\"text-align: right;\">\n",
              "      <th></th>\n",
              "      <th>PassengerId</th>\n",
              "      <th>HomePlanet</th>\n",
              "      <th>CryoSleep</th>\n",
              "      <th>Cabin</th>\n",
              "      <th>Destination</th>\n",
              "      <th>Age</th>\n",
              "      <th>VIP</th>\n",
              "      <th>RoomService</th>\n",
              "      <th>FoodCourt</th>\n",
              "      <th>ShoppingMall</th>\n",
              "      <th>Spa</th>\n",
              "      <th>VRDeck</th>\n",
              "      <th>Name</th>\n",
              "      <th>Transported</th>\n",
              "    </tr>\n",
              "  </thead>\n",
              "  <tbody>\n",
              "    <tr>\n",
              "      <th>0</th>\n",
              "      <td>0001_01</td>\n",
              "      <td>Europa</td>\n",
              "      <td>False</td>\n",
              "      <td>B/0/P</td>\n",
              "      <td>TRAPPIST-1e</td>\n",
              "      <td>39.0</td>\n",
              "      <td>False</td>\n",
              "      <td>0.0</td>\n",
              "      <td>0.0</td>\n",
              "      <td>0.0</td>\n",
              "      <td>0.0</td>\n",
              "      <td>0.0</td>\n",
              "      <td>Maham Ofracculy</td>\n",
              "      <td>False</td>\n",
              "    </tr>\n",
              "    <tr>\n",
              "      <th>1</th>\n",
              "      <td>0002_01</td>\n",
              "      <td>Earth</td>\n",
              "      <td>False</td>\n",
              "      <td>F/0/S</td>\n",
              "      <td>TRAPPIST-1e</td>\n",
              "      <td>24.0</td>\n",
              "      <td>False</td>\n",
              "      <td>109.0</td>\n",
              "      <td>9.0</td>\n",
              "      <td>25.0</td>\n",
              "      <td>549.0</td>\n",
              "      <td>44.0</td>\n",
              "      <td>Juanna Vines</td>\n",
              "      <td>True</td>\n",
              "    </tr>\n",
              "    <tr>\n",
              "      <th>2</th>\n",
              "      <td>0003_01</td>\n",
              "      <td>Europa</td>\n",
              "      <td>False</td>\n",
              "      <td>A/0/S</td>\n",
              "      <td>TRAPPIST-1e</td>\n",
              "      <td>58.0</td>\n",
              "      <td>True</td>\n",
              "      <td>43.0</td>\n",
              "      <td>3576.0</td>\n",
              "      <td>0.0</td>\n",
              "      <td>6715.0</td>\n",
              "      <td>49.0</td>\n",
              "      <td>Altark Susent</td>\n",
              "      <td>False</td>\n",
              "    </tr>\n",
              "    <tr>\n",
              "      <th>3</th>\n",
              "      <td>0003_02</td>\n",
              "      <td>Europa</td>\n",
              "      <td>False</td>\n",
              "      <td>A/0/S</td>\n",
              "      <td>TRAPPIST-1e</td>\n",
              "      <td>33.0</td>\n",
              "      <td>False</td>\n",
              "      <td>0.0</td>\n",
              "      <td>1283.0</td>\n",
              "      <td>371.0</td>\n",
              "      <td>3329.0</td>\n",
              "      <td>193.0</td>\n",
              "      <td>Solam Susent</td>\n",
              "      <td>False</td>\n",
              "    </tr>\n",
              "    <tr>\n",
              "      <th>4</th>\n",
              "      <td>0004_01</td>\n",
              "      <td>Earth</td>\n",
              "      <td>False</td>\n",
              "      <td>F/1/S</td>\n",
              "      <td>TRAPPIST-1e</td>\n",
              "      <td>16.0</td>\n",
              "      <td>False</td>\n",
              "      <td>303.0</td>\n",
              "      <td>70.0</td>\n",
              "      <td>151.0</td>\n",
              "      <td>565.0</td>\n",
              "      <td>2.0</td>\n",
              "      <td>Willy Santantines</td>\n",
              "      <td>True</td>\n",
              "    </tr>\n",
              "  </tbody>\n",
              "</table>\n",
              "</div>\n",
              "      <button class=\"colab-df-convert\" onclick=\"convertToInteractive('df-86fa23ed-bf92-4264-aaba-4b25c7da8bb2')\"\n",
              "              title=\"Convert this dataframe to an interactive table.\"\n",
              "              style=\"display:none;\">\n",
              "        \n",
              "  <svg xmlns=\"http://www.w3.org/2000/svg\" height=\"24px\"viewBox=\"0 0 24 24\"\n",
              "       width=\"24px\">\n",
              "    <path d=\"M0 0h24v24H0V0z\" fill=\"none\"/>\n",
              "    <path d=\"M18.56 5.44l.94 2.06.94-2.06 2.06-.94-2.06-.94-.94-2.06-.94 2.06-2.06.94zm-11 1L8.5 8.5l.94-2.06 2.06-.94-2.06-.94L8.5 2.5l-.94 2.06-2.06.94zm10 10l.94 2.06.94-2.06 2.06-.94-2.06-.94-.94-2.06-.94 2.06-2.06.94z\"/><path d=\"M17.41 7.96l-1.37-1.37c-.4-.4-.92-.59-1.43-.59-.52 0-1.04.2-1.43.59L10.3 9.45l-7.72 7.72c-.78.78-.78 2.05 0 2.83L4 21.41c.39.39.9.59 1.41.59.51 0 1.02-.2 1.41-.59l7.78-7.78 2.81-2.81c.8-.78.8-2.07 0-2.86zM5.41 20L4 18.59l7.72-7.72 1.47 1.35L5.41 20z\"/>\n",
              "  </svg>\n",
              "      </button>\n",
              "      \n",
              "  <style>\n",
              "    .colab-df-container {\n",
              "      display:flex;\n",
              "      flex-wrap:wrap;\n",
              "      gap: 12px;\n",
              "    }\n",
              "\n",
              "    .colab-df-convert {\n",
              "      background-color: #E8F0FE;\n",
              "      border: none;\n",
              "      border-radius: 50%;\n",
              "      cursor: pointer;\n",
              "      display: none;\n",
              "      fill: #1967D2;\n",
              "      height: 32px;\n",
              "      padding: 0 0 0 0;\n",
              "      width: 32px;\n",
              "    }\n",
              "\n",
              "    .colab-df-convert:hover {\n",
              "      background-color: #E2EBFA;\n",
              "      box-shadow: 0px 1px 2px rgba(60, 64, 67, 0.3), 0px 1px 3px 1px rgba(60, 64, 67, 0.15);\n",
              "      fill: #174EA6;\n",
              "    }\n",
              "\n",
              "    [theme=dark] .colab-df-convert {\n",
              "      background-color: #3B4455;\n",
              "      fill: #D2E3FC;\n",
              "    }\n",
              "\n",
              "    [theme=dark] .colab-df-convert:hover {\n",
              "      background-color: #434B5C;\n",
              "      box-shadow: 0px 1px 3px 1px rgba(0, 0, 0, 0.15);\n",
              "      filter: drop-shadow(0px 1px 2px rgba(0, 0, 0, 0.3));\n",
              "      fill: #FFFFFF;\n",
              "    }\n",
              "  </style>\n",
              "\n",
              "      <script>\n",
              "        const buttonEl =\n",
              "          document.querySelector('#df-86fa23ed-bf92-4264-aaba-4b25c7da8bb2 button.colab-df-convert');\n",
              "        buttonEl.style.display =\n",
              "          google.colab.kernel.accessAllowed ? 'block' : 'none';\n",
              "\n",
              "        async function convertToInteractive(key) {\n",
              "          const element = document.querySelector('#df-86fa23ed-bf92-4264-aaba-4b25c7da8bb2');\n",
              "          const dataTable =\n",
              "            await google.colab.kernel.invokeFunction('convertToInteractive',\n",
              "                                                     [key], {});\n",
              "          if (!dataTable) return;\n",
              "\n",
              "          const docLinkHtml = 'Like what you see? Visit the ' +\n",
              "            '<a target=\"_blank\" href=https://colab.research.google.com/notebooks/data_table.ipynb>data table notebook</a>'\n",
              "            + ' to learn more about interactive tables.';\n",
              "          element.innerHTML = '';\n",
              "          dataTable['output_type'] = 'display_data';\n",
              "          await google.colab.output.renderOutput(dataTable, element);\n",
              "          const docLink = document.createElement('div');\n",
              "          docLink.innerHTML = docLinkHtml;\n",
              "          element.appendChild(docLink);\n",
              "        }\n",
              "      </script>\n",
              "    </div>\n",
              "  </div>\n",
              "  "
            ],
            "text/plain": [
              "  PassengerId HomePlanet CryoSleep  Cabin  Destination   Age    VIP  \\\n",
              "0     0001_01     Europa     False  B/0/P  TRAPPIST-1e  39.0  False   \n",
              "1     0002_01      Earth     False  F/0/S  TRAPPIST-1e  24.0  False   \n",
              "2     0003_01     Europa     False  A/0/S  TRAPPIST-1e  58.0   True   \n",
              "3     0003_02     Europa     False  A/0/S  TRAPPIST-1e  33.0  False   \n",
              "4     0004_01      Earth     False  F/1/S  TRAPPIST-1e  16.0  False   \n",
              "\n",
              "   RoomService  FoodCourt  ShoppingMall     Spa  VRDeck               Name  \\\n",
              "0          0.0        0.0           0.0     0.0     0.0    Maham Ofracculy   \n",
              "1        109.0        9.0          25.0   549.0    44.0       Juanna Vines   \n",
              "2         43.0     3576.0           0.0  6715.0    49.0      Altark Susent   \n",
              "3          0.0     1283.0         371.0  3329.0   193.0       Solam Susent   \n",
              "4        303.0       70.0         151.0   565.0     2.0  Willy Santantines   \n",
              "\n",
              "   Transported  \n",
              "0        False  \n",
              "1         True  \n",
              "2        False  \n",
              "3        False  \n",
              "4         True  "
            ]
          },
          "execution_count": 684,
          "metadata": {},
          "output_type": "execute_result"
        }
      ],
      "source": [
        "df.head()"
      ]
    },
    {
      "cell_type": "code",
      "execution_count": null,
      "metadata": {
        "colab": {
          "base_uri": "https://localhost:8080/"
        },
        "id": "-VYI-xhSkF7D",
        "outputId": "873ad2c8-c369-4fa3-fdf6-a9b0b48b3388"
      },
      "outputs": [
        {
          "data": {
            "text/plain": [
              "True     4378\n",
              "False    4315\n",
              "Name: Transported, dtype: int64"
            ]
          },
          "execution_count": 685,
          "metadata": {},
          "output_type": "execute_result"
        }
      ],
      "source": [
        "df['Transported'].value_counts()\n",
        "df.info()"
      ]
    },
    {
      "cell_type": "markdown",
      "metadata": {
        "id": "Ll_5ZoZZQZ9k"
      },
      "source": [
        "###**Limpeza e pré-processamento dos dados**"
      ]
    },
    {
      "cell_type": "code",
      "execution_count": null,
      "metadata": {
        "id": "m3XTrdIpPyms"
      },
      "outputs": [],
      "source": [
        "# Como foi notado que a coluna Cabin tinha 3 informações contidas então foi necessário realizar a separação dessas informações em novas colunas a fim de facilitar o pré-processamento\n",
        "df['Cabin_Side'] = df['Cabin'].str.split(\"/\").str[2]\n",
        "df['Cabin_Num'] = df['Cabin'].str.split(\"/\").str[1]\n",
        "df['Cabin_Deck'] = df['Cabin'].str.split(\"/\").str[0]\n",
        "df = df.drop('Cabin',axis=1)"
      ]
    },
    {
      "cell_type": "code",
      "execution_count": null,
      "metadata": {
        "colab": {
          "base_uri": "https://localhost:8080/"
        },
        "id": "WMDB1hZ0eSI5",
        "outputId": "369c62b3-c6f2-417d-fad4-9cc282cf4d1e"
      },
      "outputs": [
        {
          "name": "stdout",
          "output_type": "stream",
          "text": [
            "<class 'pandas.core.frame.DataFrame'>\n",
            "RangeIndex: 8693 entries, 0 to 8692\n",
            "Data columns (total 16 columns):\n",
            " #   Column        Non-Null Count  Dtype  \n",
            "---  ------        --------------  -----  \n",
            " 0   PassengerId   8693 non-null   object \n",
            " 1   HomePlanet    8492 non-null   object \n",
            " 2   CryoSleep     8476 non-null   object \n",
            " 3   Destination   8511 non-null   object \n",
            " 4   Age           8514 non-null   float64\n",
            " 5   VIP           8490 non-null   object \n",
            " 6   RoomService   8512 non-null   float64\n",
            " 7   FoodCourt     8510 non-null   float64\n",
            " 8   ShoppingMall  8485 non-null   float64\n",
            " 9   Spa           8510 non-null   float64\n",
            " 10  VRDeck        8505 non-null   float64\n",
            " 11  Name          8493 non-null   object \n",
            " 12  Transported   8693 non-null   bool   \n",
            " 13  Cabin_Side    8494 non-null   object \n",
            " 14  Cabin_Num     8494 non-null   object \n",
            " 15  Cabin_Deck    8494 non-null   object \n",
            "dtypes: bool(1), float64(6), object(9)\n",
            "memory usage: 1.0+ MB\n"
          ]
        }
      ],
      "source": [
        "df.info()"
      ]
    },
    {
      "cell_type": "code",
      "execution_count": null,
      "metadata": {
        "colab": {
          "base_uri": "https://localhost:8080/"
        },
        "id": "D7ER3W7HeVkP",
        "outputId": "d7abf6c9-5368-443b-a6a1-979074d2dbe3"
      },
      "outputs": [
        {
          "name": "stdout",
          "output_type": "stream",
          "text": [
            "Linhas:  8693\n",
            "Colunas:  16\n",
            "\n",
            "Atributos : \n",
            " ['PassengerId', 'HomePlanet', 'CryoSleep', 'Destination', 'Age', 'VIP', 'RoomService', 'FoodCourt', 'ShoppingMall', 'Spa', 'VRDeck', 'Name', 'Transported', 'Cabin_Side', 'Cabin_Num', 'Cabin_Deck']\n",
            "\n",
            "Valores faltantes :   2722\n",
            "\n",
            "Valores únicos :  \n",
            " PassengerId     8693\n",
            "HomePlanet         3\n",
            "CryoSleep          2\n",
            "Destination        3\n",
            "Age               80\n",
            "VIP                2\n",
            "RoomService     1273\n",
            "FoodCourt       1507\n",
            "ShoppingMall    1115\n",
            "Spa             1327\n",
            "VRDeck          1306\n",
            "Name            8473\n",
            "Transported        2\n",
            "Cabin_Side         2\n",
            "Cabin_Num       1817\n",
            "Cabin_Deck         8\n",
            "dtype: int64\n"
          ]
        }
      ],
      "source": [
        "print (\"Linhas: \" , df.shape[0])\n",
        "print (\"Colunas: \" , df.shape[1])\n",
        "print (\"\\nAtributos : \\n\" , df.columns.tolist())\n",
        "print (\"\\nValores faltantes :  \", df.isnull().sum().values.sum())\n",
        "print (\"\\nValores únicos :  \\n\",df.nunique())"
      ]
    },
    {
      "cell_type": "code",
      "execution_count": null,
      "metadata": {
        "colab": {
          "base_uri": "https://localhost:8080/",
          "height": 468
        },
        "id": "OmJ9tuUHeXzP",
        "outputId": "c18f6d3a-5325-44a0-a546-1e29c673df5f"
      },
      "outputs": [
        {
          "data": {
            "text/html": [
              "\n",
              "  <div id=\"df-5df60d9f-2631-405c-a0cb-75cef140608e\">\n",
              "    <div class=\"colab-df-container\">\n",
              "      <div>\n",
              "<style scoped>\n",
              "    .dataframe tbody tr th:only-of-type {\n",
              "        vertical-align: middle;\n",
              "    }\n",
              "\n",
              "    .dataframe tbody tr th {\n",
              "        vertical-align: top;\n",
              "    }\n",
              "\n",
              "    .dataframe thead th {\n",
              "        text-align: right;\n",
              "    }\n",
              "</style>\n",
              "<table border=\"1\" class=\"dataframe\">\n",
              "  <thead>\n",
              "    <tr style=\"text-align: right;\">\n",
              "      <th></th>\n",
              "      <th>PassengerId</th>\n",
              "      <th>HomePlanet</th>\n",
              "      <th>CryoSleep</th>\n",
              "      <th>Destination</th>\n",
              "      <th>Age</th>\n",
              "      <th>VIP</th>\n",
              "      <th>RoomService</th>\n",
              "      <th>FoodCourt</th>\n",
              "      <th>ShoppingMall</th>\n",
              "      <th>Spa</th>\n",
              "      <th>VRDeck</th>\n",
              "      <th>Name</th>\n",
              "      <th>Transported</th>\n",
              "      <th>Cabin_Side</th>\n",
              "      <th>Cabin_Num</th>\n",
              "      <th>Cabin_Deck</th>\n",
              "    </tr>\n",
              "  </thead>\n",
              "  <tbody>\n",
              "    <tr>\n",
              "      <th>7</th>\n",
              "      <td>0006_02</td>\n",
              "      <td>Earth</td>\n",
              "      <td>True</td>\n",
              "      <td>TRAPPIST-1e</td>\n",
              "      <td>28.0</td>\n",
              "      <td>False</td>\n",
              "      <td>0.0</td>\n",
              "      <td>0.0</td>\n",
              "      <td>0.0</td>\n",
              "      <td>0.0</td>\n",
              "      <td>NaN</td>\n",
              "      <td>Candra Jacostaffey</td>\n",
              "      <td>True</td>\n",
              "      <td>S</td>\n",
              "      <td>0</td>\n",
              "      <td>G</td>\n",
              "    </tr>\n",
              "    <tr>\n",
              "      <th>10</th>\n",
              "      <td>0008_02</td>\n",
              "      <td>Europa</td>\n",
              "      <td>True</td>\n",
              "      <td>TRAPPIST-1e</td>\n",
              "      <td>34.0</td>\n",
              "      <td>False</td>\n",
              "      <td>0.0</td>\n",
              "      <td>0.0</td>\n",
              "      <td>NaN</td>\n",
              "      <td>0.0</td>\n",
              "      <td>0.0</td>\n",
              "      <td>Altardr Flatic</td>\n",
              "      <td>True</td>\n",
              "      <td>P</td>\n",
              "      <td>1</td>\n",
              "      <td>B</td>\n",
              "    </tr>\n",
              "    <tr>\n",
              "      <th>15</th>\n",
              "      <td>0012_01</td>\n",
              "      <td>Earth</td>\n",
              "      <td>False</td>\n",
              "      <td>TRAPPIST-1e</td>\n",
              "      <td>31.0</td>\n",
              "      <td>False</td>\n",
              "      <td>32.0</td>\n",
              "      <td>0.0</td>\n",
              "      <td>876.0</td>\n",
              "      <td>0.0</td>\n",
              "      <td>0.0</td>\n",
              "      <td>Justie Pooles</td>\n",
              "      <td>False</td>\n",
              "      <td>NaN</td>\n",
              "      <td>NaN</td>\n",
              "      <td>NaN</td>\n",
              "    </tr>\n",
              "    <tr>\n",
              "      <th>16</th>\n",
              "      <td>0014_01</td>\n",
              "      <td>Mars</td>\n",
              "      <td>False</td>\n",
              "      <td>55 Cancri e</td>\n",
              "      <td>27.0</td>\n",
              "      <td>False</td>\n",
              "      <td>1286.0</td>\n",
              "      <td>122.0</td>\n",
              "      <td>NaN</td>\n",
              "      <td>0.0</td>\n",
              "      <td>0.0</td>\n",
              "      <td>Flats Eccle</td>\n",
              "      <td>False</td>\n",
              "      <td>P</td>\n",
              "      <td>3</td>\n",
              "      <td>F</td>\n",
              "    </tr>\n",
              "    <tr>\n",
              "      <th>23</th>\n",
              "      <td>0020_03</td>\n",
              "      <td>Earth</td>\n",
              "      <td>True</td>\n",
              "      <td>55 Cancri e</td>\n",
              "      <td>29.0</td>\n",
              "      <td>False</td>\n",
              "      <td>0.0</td>\n",
              "      <td>0.0</td>\n",
              "      <td>NaN</td>\n",
              "      <td>0.0</td>\n",
              "      <td>0.0</td>\n",
              "      <td>Mollen Mcfaddennon</td>\n",
              "      <td>False</td>\n",
              "      <td>S</td>\n",
              "      <td>0</td>\n",
              "      <td>E</td>\n",
              "    </tr>\n",
              "    <tr>\n",
              "      <th>...</th>\n",
              "      <td>...</td>\n",
              "      <td>...</td>\n",
              "      <td>...</td>\n",
              "      <td>...</td>\n",
              "      <td>...</td>\n",
              "      <td>...</td>\n",
              "      <td>...</td>\n",
              "      <td>...</td>\n",
              "      <td>...</td>\n",
              "      <td>...</td>\n",
              "      <td>...</td>\n",
              "      <td>...</td>\n",
              "      <td>...</td>\n",
              "      <td>...</td>\n",
              "      <td>...</td>\n",
              "      <td>...</td>\n",
              "    </tr>\n",
              "    <tr>\n",
              "      <th>8667</th>\n",
              "      <td>9250_01</td>\n",
              "      <td>Europa</td>\n",
              "      <td>False</td>\n",
              "      <td>TRAPPIST-1e</td>\n",
              "      <td>29.0</td>\n",
              "      <td>False</td>\n",
              "      <td>0.0</td>\n",
              "      <td>2972.0</td>\n",
              "      <td>NaN</td>\n",
              "      <td>28.0</td>\n",
              "      <td>188.0</td>\n",
              "      <td>Chain Reedectied</td>\n",
              "      <td>True</td>\n",
              "      <td>P</td>\n",
              "      <td>597</td>\n",
              "      <td>E</td>\n",
              "    </tr>\n",
              "    <tr>\n",
              "      <th>8674</th>\n",
              "      <td>9257_01</td>\n",
              "      <td>NaN</td>\n",
              "      <td>False</td>\n",
              "      <td>TRAPPIST-1e</td>\n",
              "      <td>13.0</td>\n",
              "      <td>False</td>\n",
              "      <td>39.0</td>\n",
              "      <td>0.0</td>\n",
              "      <td>1085.0</td>\n",
              "      <td>24.0</td>\n",
              "      <td>0.0</td>\n",
              "      <td>Ties Apple</td>\n",
              "      <td>False</td>\n",
              "      <td>P</td>\n",
              "      <td>1892</td>\n",
              "      <td>F</td>\n",
              "    </tr>\n",
              "    <tr>\n",
              "      <th>8675</th>\n",
              "      <td>9259_01</td>\n",
              "      <td>Earth</td>\n",
              "      <td>NaN</td>\n",
              "      <td>TRAPPIST-1e</td>\n",
              "      <td>44.0</td>\n",
              "      <td>False</td>\n",
              "      <td>1030.0</td>\n",
              "      <td>1015.0</td>\n",
              "      <td>0.0</td>\n",
              "      <td>11.0</td>\n",
              "      <td>NaN</td>\n",
              "      <td>Annah Gilleyons</td>\n",
              "      <td>True</td>\n",
              "      <td>P</td>\n",
              "      <td>1893</td>\n",
              "      <td>F</td>\n",
              "    </tr>\n",
              "    <tr>\n",
              "      <th>8684</th>\n",
              "      <td>9274_01</td>\n",
              "      <td>NaN</td>\n",
              "      <td>True</td>\n",
              "      <td>TRAPPIST-1e</td>\n",
              "      <td>23.0</td>\n",
              "      <td>False</td>\n",
              "      <td>0.0</td>\n",
              "      <td>0.0</td>\n",
              "      <td>0.0</td>\n",
              "      <td>0.0</td>\n",
              "      <td>0.0</td>\n",
              "      <td>Chelsa Bullisey</td>\n",
              "      <td>True</td>\n",
              "      <td>P</td>\n",
              "      <td>1508</td>\n",
              "      <td>G</td>\n",
              "    </tr>\n",
              "    <tr>\n",
              "      <th>8687</th>\n",
              "      <td>9275_03</td>\n",
              "      <td>Europa</td>\n",
              "      <td>NaN</td>\n",
              "      <td>TRAPPIST-1e</td>\n",
              "      <td>30.0</td>\n",
              "      <td>False</td>\n",
              "      <td>0.0</td>\n",
              "      <td>3208.0</td>\n",
              "      <td>0.0</td>\n",
              "      <td>2.0</td>\n",
              "      <td>330.0</td>\n",
              "      <td>Atlasym Conable</td>\n",
              "      <td>True</td>\n",
              "      <td>P</td>\n",
              "      <td>97</td>\n",
              "      <td>A</td>\n",
              "    </tr>\n",
              "  </tbody>\n",
              "</table>\n",
              "<p>2087 rows × 16 columns</p>\n",
              "</div>\n",
              "      <button class=\"colab-df-convert\" onclick=\"convertToInteractive('df-5df60d9f-2631-405c-a0cb-75cef140608e')\"\n",
              "              title=\"Convert this dataframe to an interactive table.\"\n",
              "              style=\"display:none;\">\n",
              "        \n",
              "  <svg xmlns=\"http://www.w3.org/2000/svg\" height=\"24px\"viewBox=\"0 0 24 24\"\n",
              "       width=\"24px\">\n",
              "    <path d=\"M0 0h24v24H0V0z\" fill=\"none\"/>\n",
              "    <path d=\"M18.56 5.44l.94 2.06.94-2.06 2.06-.94-2.06-.94-.94-2.06-.94 2.06-2.06.94zm-11 1L8.5 8.5l.94-2.06 2.06-.94-2.06-.94L8.5 2.5l-.94 2.06-2.06.94zm10 10l.94 2.06.94-2.06 2.06-.94-2.06-.94-.94-2.06-.94 2.06-2.06.94z\"/><path d=\"M17.41 7.96l-1.37-1.37c-.4-.4-.92-.59-1.43-.59-.52 0-1.04.2-1.43.59L10.3 9.45l-7.72 7.72c-.78.78-.78 2.05 0 2.83L4 21.41c.39.39.9.59 1.41.59.51 0 1.02-.2 1.41-.59l7.78-7.78 2.81-2.81c.8-.78.8-2.07 0-2.86zM5.41 20L4 18.59l7.72-7.72 1.47 1.35L5.41 20z\"/>\n",
              "  </svg>\n",
              "      </button>\n",
              "      \n",
              "  <style>\n",
              "    .colab-df-container {\n",
              "      display:flex;\n",
              "      flex-wrap:wrap;\n",
              "      gap: 12px;\n",
              "    }\n",
              "\n",
              "    .colab-df-convert {\n",
              "      background-color: #E8F0FE;\n",
              "      border: none;\n",
              "      border-radius: 50%;\n",
              "      cursor: pointer;\n",
              "      display: none;\n",
              "      fill: #1967D2;\n",
              "      height: 32px;\n",
              "      padding: 0 0 0 0;\n",
              "      width: 32px;\n",
              "    }\n",
              "\n",
              "    .colab-df-convert:hover {\n",
              "      background-color: #E2EBFA;\n",
              "      box-shadow: 0px 1px 2px rgba(60, 64, 67, 0.3), 0px 1px 3px 1px rgba(60, 64, 67, 0.15);\n",
              "      fill: #174EA6;\n",
              "    }\n",
              "\n",
              "    [theme=dark] .colab-df-convert {\n",
              "      background-color: #3B4455;\n",
              "      fill: #D2E3FC;\n",
              "    }\n",
              "\n",
              "    [theme=dark] .colab-df-convert:hover {\n",
              "      background-color: #434B5C;\n",
              "      box-shadow: 0px 1px 3px 1px rgba(0, 0, 0, 0.15);\n",
              "      filter: drop-shadow(0px 1px 2px rgba(0, 0, 0, 0.3));\n",
              "      fill: #FFFFFF;\n",
              "    }\n",
              "  </style>\n",
              "\n",
              "      <script>\n",
              "        const buttonEl =\n",
              "          document.querySelector('#df-5df60d9f-2631-405c-a0cb-75cef140608e button.colab-df-convert');\n",
              "        buttonEl.style.display =\n",
              "          google.colab.kernel.accessAllowed ? 'block' : 'none';\n",
              "\n",
              "        async function convertToInteractive(key) {\n",
              "          const element = document.querySelector('#df-5df60d9f-2631-405c-a0cb-75cef140608e');\n",
              "          const dataTable =\n",
              "            await google.colab.kernel.invokeFunction('convertToInteractive',\n",
              "                                                     [key], {});\n",
              "          if (!dataTable) return;\n",
              "\n",
              "          const docLinkHtml = 'Like what you see? Visit the ' +\n",
              "            '<a target=\"_blank\" href=https://colab.research.google.com/notebooks/data_table.ipynb>data table notebook</a>'\n",
              "            + ' to learn more about interactive tables.';\n",
              "          element.innerHTML = '';\n",
              "          dataTable['output_type'] = 'display_data';\n",
              "          await google.colab.output.renderOutput(dataTable, element);\n",
              "          const docLink = document.createElement('div');\n",
              "          docLink.innerHTML = docLinkHtml;\n",
              "          element.appendChild(docLink);\n",
              "        }\n",
              "      </script>\n",
              "    </div>\n",
              "  </div>\n",
              "  "
            ],
            "text/plain": [
              "     PassengerId HomePlanet CryoSleep  Destination   Age    VIP  RoomService  \\\n",
              "7        0006_02      Earth      True  TRAPPIST-1e  28.0  False          0.0   \n",
              "10       0008_02     Europa      True  TRAPPIST-1e  34.0  False          0.0   \n",
              "15       0012_01      Earth     False  TRAPPIST-1e  31.0  False         32.0   \n",
              "16       0014_01       Mars     False  55 Cancri e  27.0  False       1286.0   \n",
              "23       0020_03      Earth      True  55 Cancri e  29.0  False          0.0   \n",
              "...          ...        ...       ...          ...   ...    ...          ...   \n",
              "8667     9250_01     Europa     False  TRAPPIST-1e  29.0  False          0.0   \n",
              "8674     9257_01        NaN     False  TRAPPIST-1e  13.0  False         39.0   \n",
              "8675     9259_01      Earth       NaN  TRAPPIST-1e  44.0  False       1030.0   \n",
              "8684     9274_01        NaN      True  TRAPPIST-1e  23.0  False          0.0   \n",
              "8687     9275_03     Europa       NaN  TRAPPIST-1e  30.0  False          0.0   \n",
              "\n",
              "      FoodCourt  ShoppingMall   Spa  VRDeck                Name  Transported  \\\n",
              "7           0.0           0.0   0.0     NaN  Candra Jacostaffey         True   \n",
              "10          0.0           NaN   0.0     0.0      Altardr Flatic         True   \n",
              "15          0.0         876.0   0.0     0.0       Justie Pooles        False   \n",
              "16        122.0           NaN   0.0     0.0         Flats Eccle        False   \n",
              "23          0.0           NaN   0.0     0.0  Mollen Mcfaddennon        False   \n",
              "...         ...           ...   ...     ...                 ...          ...   \n",
              "8667     2972.0           NaN  28.0   188.0    Chain Reedectied         True   \n",
              "8674        0.0        1085.0  24.0     0.0          Ties Apple        False   \n",
              "8675     1015.0           0.0  11.0     NaN     Annah Gilleyons         True   \n",
              "8684        0.0           0.0   0.0     0.0     Chelsa Bullisey         True   \n",
              "8687     3208.0           0.0   2.0   330.0     Atlasym Conable         True   \n",
              "\n",
              "     Cabin_Side Cabin_Num Cabin_Deck  \n",
              "7             S         0          G  \n",
              "10            P         1          B  \n",
              "15          NaN       NaN        NaN  \n",
              "16            P         3          F  \n",
              "23            S         0          E  \n",
              "...         ...       ...        ...  \n",
              "8667          P       597          E  \n",
              "8674          P      1892          F  \n",
              "8675          P      1893          F  \n",
              "8684          P      1508          G  \n",
              "8687          P        97          A  \n",
              "\n",
              "[2087 rows x 16 columns]"
            ]
          },
          "execution_count": 689,
          "metadata": {},
          "output_type": "execute_result"
        }
      ],
      "source": [
        "df[df.isnull().any(axis=1)]"
      ]
    },
    {
      "cell_type": "code",
      "execution_count": null,
      "metadata": {
        "id": "WrjN5xNobkXJ"
      },
      "outputs": [],
      "source": [
        "imputer = SimpleImputer(missing_values=np.NaN, strategy='most_frequent')\n",
        "\n",
        "df['HomePlanet'] = imputer.fit_transform(df['HomePlanet'].values.reshape(-1,1))[:,0]\n",
        "df['CryoSleep'] = imputer.fit_transform(df['CryoSleep'].values.reshape(-1,1))[:,0]\n",
        "df['Destination'] = imputer.fit_transform(df['Destination'].values.reshape(-1,1))[:,0]\n",
        "df['Age'] = imputer.fit_transform(df['Age'].values.reshape(-1,1))[:,0]\n",
        "df['VIP'] = imputer.fit_transform(df['VIP'].values.reshape(-1,1))[:,0]\n",
        "df['RoomService'] = imputer.fit_transform(df['RoomService'].values.reshape(-1,1))[:,0]\n",
        "df['FoodCourt'] = imputer.fit_transform(df['FoodCourt'].values.reshape(-1,1))[:,0]\n",
        "df['ShoppingMall'] = imputer.fit_transform(df['ShoppingMall'].values.reshape(-1,1))[:,0]\n",
        "df['Spa'] = imputer.fit_transform(df['Spa'].values.reshape(-1,1))[:,0]\n",
        "df['VRDeck'] = imputer.fit_transform(df['VRDeck'].values.reshape(-1,1))[:,0]\n",
        "df['Cabin_Side'] = imputer.fit_transform(df['Cabin_Side'].values.reshape(-1,1))[:,0]\n",
        "df['Cabin_Num'] = imputer.fit_transform(df['Cabin_Num'].values.reshape(-1,1))[:,0]\n",
        "df['Cabin_Deck'] = imputer.fit_transform(df['Cabin_Deck'].values.reshape(-1,1))[:,0]"
      ]
    },
    {
      "cell_type": "code",
      "execution_count": null,
      "metadata": {
        "colab": {
          "base_uri": "https://localhost:8080/"
        },
        "id": "sIKieppmcHnR",
        "outputId": "509fa6d2-74d1-40fd-ebd8-d24e85aee968"
      },
      "outputs": [
        {
          "name": "stdout",
          "output_type": "stream",
          "text": [
            "\n",
            "Valores faltantes :   200\n"
          ]
        }
      ],
      "source": [
        "print (\"\\nValores faltantes :  \", df.isnull().sum().values.sum())"
      ]
    },
    {
      "cell_type": "code",
      "execution_count": null,
      "metadata": {
        "colab": {
          "base_uri": "https://localhost:8080/"
        },
        "id": "TA7Bgsd8Qob_",
        "outputId": "f6d8f248-c2cf-41fb-8923-2e6312d64d32"
      },
      "outputs": [
        {
          "name": "stdout",
          "output_type": "stream",
          "text": [
            "<class 'pandas.core.frame.DataFrame'>\n",
            "RangeIndex: 8693 entries, 0 to 8692\n",
            "Data columns (total 16 columns):\n",
            " #   Column        Non-Null Count  Dtype  \n",
            "---  ------        --------------  -----  \n",
            " 0   PassengerId   8693 non-null   object \n",
            " 1   HomePlanet    8693 non-null   object \n",
            " 2   CryoSleep     8693 non-null   object \n",
            " 3   Destination   8693 non-null   object \n",
            " 4   Age           8693 non-null   float64\n",
            " 5   VIP           8693 non-null   object \n",
            " 6   RoomService   8693 non-null   float64\n",
            " 7   FoodCourt     8693 non-null   float64\n",
            " 8   ShoppingMall  8693 non-null   float64\n",
            " 9   Spa           8693 non-null   float64\n",
            " 10  VRDeck        8693 non-null   float64\n",
            " 11  Name          8493 non-null   object \n",
            " 12  Transported   8693 non-null   bool   \n",
            " 13  Cabin_Side    8693 non-null   object \n",
            " 14  Cabin_Num     8693 non-null   object \n",
            " 15  Cabin_Deck    8693 non-null   object \n",
            "dtypes: bool(1), float64(6), object(9)\n",
            "memory usage: 1.0+ MB\n"
          ]
        }
      ],
      "source": [
        "df.info()"
      ]
    },
    {
      "cell_type": "code",
      "execution_count": null,
      "metadata": {
        "colab": {
          "base_uri": "https://localhost:8080/"
        },
        "id": "laNDeeF8Q7R8",
        "outputId": "3ba577d6-ab96-4fa5-d96d-7f1e9157a98d"
      },
      "outputs": [
        {
          "name": "stdout",
          "output_type": "stream",
          "text": [
            "\n",
            "Valores únicos :  \n",
            " PassengerId     8693\n",
            "HomePlanet         3\n",
            "CryoSleep          2\n",
            "Destination        3\n",
            "Age               80\n",
            "VIP                2\n",
            "RoomService     1273\n",
            "FoodCourt       1507\n",
            "ShoppingMall    1115\n",
            "Spa             1327\n",
            "VRDeck          1306\n",
            "Name            8473\n",
            "Transported        2\n",
            "Cabin_Side         2\n",
            "Cabin_Num       1817\n",
            "Cabin_Deck         8\n",
            "dtype: int64\n"
          ]
        }
      ],
      "source": [
        "print (\"\\nValores únicos :  \\n\",df.nunique())"
      ]
    },
    {
      "cell_type": "code",
      "execution_count": null,
      "metadata": {
        "id": "gG4SWwSTfznN"
      },
      "outputs": [],
      "source": [
        "df=df.drop(columns=['PassengerId', 'Name'],axis=1)"
      ]
    },
    {
      "cell_type": "code",
      "execution_count": null,
      "metadata": {
        "id": "QgX6na15RfeR"
      },
      "outputs": [],
      "source": [
        "#Transformando atributos com dois valores\n",
        "labelencoder = LabelEncoder()\n",
        "df[[\"CryoSleep\", \"VIP\", \"Transported\", \"Cabin_Side\"]] = \\\n",
        "df[[\"CryoSleep\", \"VIP\", \"Transported\", \"Cabin_Side\"]].apply(labelencoder.fit_transform)"
      ]
    },
    {
      "cell_type": "code",
      "execution_count": null,
      "metadata": {
        "id": "6V1H-xvyR4hp"
      },
      "outputs": [],
      "source": [
        "#Transformando atributos com mais de dois valores\n",
        "df = pd.get_dummies(data=df, columns=[\"Destination\", \"HomePlanet\", \"Cabin_Deck\"])"
      ]
    },
    {
      "cell_type": "code",
      "execution_count": null,
      "metadata": {
        "colab": {
          "base_uri": "https://localhost:8080/"
        },
        "id": "NhbamI2LV3nH",
        "outputId": "1bcaf8d6-32b9-48d5-b8d1-c4bd4f3b1d59"
      },
      "outputs": [
        {
          "name": "stdout",
          "output_type": "stream",
          "text": [
            "<class 'pandas.core.frame.DataFrame'>\n",
            "RangeIndex: 8693 entries, 0 to 8692\n",
            "Data columns (total 25 columns):\n",
            " #   Column                     Non-Null Count  Dtype  \n",
            "---  ------                     --------------  -----  \n",
            " 0   CryoSleep                  8693 non-null   int64  \n",
            " 1   Age                        8693 non-null   float64\n",
            " 2   VIP                        8693 non-null   int64  \n",
            " 3   RoomService                8693 non-null   float64\n",
            " 4   FoodCourt                  8693 non-null   float64\n",
            " 5   ShoppingMall               8693 non-null   float64\n",
            " 6   Spa                        8693 non-null   float64\n",
            " 7   VRDeck                     8693 non-null   float64\n",
            " 8   Transported                8693 non-null   int64  \n",
            " 9   Cabin_Side                 8693 non-null   int64  \n",
            " 10  Cabin_Num                  8693 non-null   object \n",
            " 11  Destination_55 Cancri e    8693 non-null   uint8  \n",
            " 12  Destination_PSO J318.5-22  8693 non-null   uint8  \n",
            " 13  Destination_TRAPPIST-1e    8693 non-null   uint8  \n",
            " 14  HomePlanet_Earth           8693 non-null   uint8  \n",
            " 15  HomePlanet_Europa          8693 non-null   uint8  \n",
            " 16  HomePlanet_Mars            8693 non-null   uint8  \n",
            " 17  Cabin_Deck_A               8693 non-null   uint8  \n",
            " 18  Cabin_Deck_B               8693 non-null   uint8  \n",
            " 19  Cabin_Deck_C               8693 non-null   uint8  \n",
            " 20  Cabin_Deck_D               8693 non-null   uint8  \n",
            " 21  Cabin_Deck_E               8693 non-null   uint8  \n",
            " 22  Cabin_Deck_F               8693 non-null   uint8  \n",
            " 23  Cabin_Deck_G               8693 non-null   uint8  \n",
            " 24  Cabin_Deck_T               8693 non-null   uint8  \n",
            "dtypes: float64(6), int64(4), object(1), uint8(14)\n",
            "memory usage: 866.0+ KB\n"
          ]
        }
      ],
      "source": [
        "df.info()"
      ]
    },
    {
      "cell_type": "code",
      "execution_count": null,
      "metadata": {
        "id": "614RCtgigpcO"
      },
      "outputs": [],
      "source": [
        "df['Cabin_Num'] = df['Cabin_Num'].astype('int64')"
      ]
    },
    {
      "cell_type": "code",
      "execution_count": null,
      "metadata": {
        "colab": {
          "base_uri": "https://localhost:8080/"
        },
        "id": "p0YSjJQwg2Ic",
        "outputId": "03026bfc-bd0f-464a-92a9-d4c276292743"
      },
      "outputs": [
        {
          "name": "stdout",
          "output_type": "stream",
          "text": [
            "<class 'pandas.core.frame.DataFrame'>\n",
            "RangeIndex: 8693 entries, 0 to 8692\n",
            "Data columns (total 25 columns):\n",
            " #   Column                     Non-Null Count  Dtype  \n",
            "---  ------                     --------------  -----  \n",
            " 0   CryoSleep                  8693 non-null   int64  \n",
            " 1   Age                        8693 non-null   float64\n",
            " 2   VIP                        8693 non-null   int64  \n",
            " 3   RoomService                8693 non-null   float64\n",
            " 4   FoodCourt                  8693 non-null   float64\n",
            " 5   ShoppingMall               8693 non-null   float64\n",
            " 6   Spa                        8693 non-null   float64\n",
            " 7   VRDeck                     8693 non-null   float64\n",
            " 8   Transported                8693 non-null   int64  \n",
            " 9   Cabin_Side                 8693 non-null   int64  \n",
            " 10  Cabin_Num                  8693 non-null   int64  \n",
            " 11  Destination_55 Cancri e    8693 non-null   uint8  \n",
            " 12  Destination_PSO J318.5-22  8693 non-null   uint8  \n",
            " 13  Destination_TRAPPIST-1e    8693 non-null   uint8  \n",
            " 14  HomePlanet_Earth           8693 non-null   uint8  \n",
            " 15  HomePlanet_Europa          8693 non-null   uint8  \n",
            " 16  HomePlanet_Mars            8693 non-null   uint8  \n",
            " 17  Cabin_Deck_A               8693 non-null   uint8  \n",
            " 18  Cabin_Deck_B               8693 non-null   uint8  \n",
            " 19  Cabin_Deck_C               8693 non-null   uint8  \n",
            " 20  Cabin_Deck_D               8693 non-null   uint8  \n",
            " 21  Cabin_Deck_E               8693 non-null   uint8  \n",
            " 22  Cabin_Deck_F               8693 non-null   uint8  \n",
            " 23  Cabin_Deck_G               8693 non-null   uint8  \n",
            " 24  Cabin_Deck_T               8693 non-null   uint8  \n",
            "dtypes: float64(6), int64(5), uint8(14)\n",
            "memory usage: 866.0 KB\n"
          ]
        }
      ],
      "source": [
        "df.info()"
      ]
    },
    {
      "cell_type": "code",
      "execution_count": null,
      "metadata": {
        "colab": {
          "base_uri": "https://localhost:8080/"
        },
        "id": "xaGk3KORh0JM",
        "outputId": "8de20fe8-dd6a-44a4-c8e0-f979eb754b61"
      },
      "outputs": [
        {
          "name": "stdout",
          "output_type": "stream",
          "text": [
            "\n",
            "Valores únicos :  \n",
            " CryoSleep                       2\n",
            "Age                            80\n",
            "VIP                             2\n",
            "RoomService                  1273\n",
            "FoodCourt                    1507\n",
            "ShoppingMall                 1115\n",
            "Spa                          1327\n",
            "VRDeck                       1306\n",
            "Transported                     2\n",
            "Cabin_Side                      2\n",
            "Cabin_Num                    1817\n",
            "Destination_55 Cancri e         2\n",
            "Destination_PSO J318.5-22       2\n",
            "Destination_TRAPPIST-1e         2\n",
            "HomePlanet_Earth                2\n",
            "HomePlanet_Europa               2\n",
            "HomePlanet_Mars                 2\n",
            "Cabin_Deck_A                    2\n",
            "Cabin_Deck_B                    2\n",
            "Cabin_Deck_C                    2\n",
            "Cabin_Deck_D                    2\n",
            "Cabin_Deck_E                    2\n",
            "Cabin_Deck_F                    2\n",
            "Cabin_Deck_G                    2\n",
            "Cabin_Deck_T                    2\n",
            "dtype: int64\n"
          ]
        }
      ],
      "source": [
        "print (\"\\nValores únicos :  \\n\",df.nunique())"
      ]
    },
    {
      "cell_type": "code",
      "execution_count": null,
      "metadata": {
        "id": "ifjmthm-ZMKV"
      },
      "outputs": [],
      "source": [
        "std=StandardScaler()\n",
        "columns = ['Age', 'RoomService', 'FoodCourt', 'ShoppingMall', 'Spa', 'VRDeck', 'Cabin_Num']\n",
        "scaled = std.fit_transform(df[['Age', 'RoomService', 'FoodCourt', 'ShoppingMall', 'Spa', 'VRDeck', 'Cabin_Num']])\n",
        "scaled = pd.DataFrame(scaled,columns=columns)\n",
        "df=df.drop(columns=columns,axis=1)"
      ]
    },
    {
      "cell_type": "code",
      "execution_count": null,
      "metadata": {
        "colab": {
          "base_uri": "https://localhost:8080/",
          "height": 317
        },
        "id": "CYLS4SjNiumT",
        "outputId": "fb671e2b-caeb-443b-e949-6b367a920b0e"
      },
      "outputs": [
        {
          "data": {
            "text/html": [
              "\n",
              "  <div id=\"df-390e97e4-4676-437e-bcec-932a305ee162\">\n",
              "    <div class=\"colab-df-container\">\n",
              "      <div>\n",
              "<style scoped>\n",
              "    .dataframe tbody tr th:only-of-type {\n",
              "        vertical-align: middle;\n",
              "    }\n",
              "\n",
              "    .dataframe tbody tr th {\n",
              "        vertical-align: top;\n",
              "    }\n",
              "\n",
              "    .dataframe thead th {\n",
              "        text-align: right;\n",
              "    }\n",
              "</style>\n",
              "<table border=\"1\" class=\"dataframe\">\n",
              "  <thead>\n",
              "    <tr style=\"text-align: right;\">\n",
              "      <th></th>\n",
              "      <th>CryoSleep</th>\n",
              "      <th>VIP</th>\n",
              "      <th>Transported</th>\n",
              "      <th>Cabin_Side</th>\n",
              "      <th>Destination_55 Cancri e</th>\n",
              "      <th>Destination_PSO J318.5-22</th>\n",
              "      <th>Destination_TRAPPIST-1e</th>\n",
              "      <th>HomePlanet_Earth</th>\n",
              "      <th>HomePlanet_Europa</th>\n",
              "      <th>HomePlanet_Mars</th>\n",
              "      <th>...</th>\n",
              "      <th>Cabin_Deck_F</th>\n",
              "      <th>Cabin_Deck_G</th>\n",
              "      <th>Cabin_Deck_T</th>\n",
              "      <th>Age</th>\n",
              "      <th>RoomService</th>\n",
              "      <th>FoodCourt</th>\n",
              "      <th>ShoppingMall</th>\n",
              "      <th>Spa</th>\n",
              "      <th>VRDeck</th>\n",
              "      <th>Cabin_Num</th>\n",
              "    </tr>\n",
              "  </thead>\n",
              "  <tbody>\n",
              "    <tr>\n",
              "      <th>0</th>\n",
              "      <td>0</td>\n",
              "      <td>0</td>\n",
              "      <td>0</td>\n",
              "      <td>0</td>\n",
              "      <td>0</td>\n",
              "      <td>0</td>\n",
              "      <td>1</td>\n",
              "      <td>0</td>\n",
              "      <td>1</td>\n",
              "      <td>0</td>\n",
              "      <td>...</td>\n",
              "      <td>0</td>\n",
              "      <td>0</td>\n",
              "      <td>0</td>\n",
              "      <td>0.715553</td>\n",
              "      <td>-0.333105</td>\n",
              "      <td>-0.281027</td>\n",
              "      <td>-0.283579</td>\n",
              "      <td>-0.270626</td>\n",
              "      <td>-0.263003</td>\n",
              "      <td>-1.149753</td>\n",
              "    </tr>\n",
              "    <tr>\n",
              "      <th>1</th>\n",
              "      <td>0</td>\n",
              "      <td>0</td>\n",
              "      <td>1</td>\n",
              "      <td>1</td>\n",
              "      <td>0</td>\n",
              "      <td>0</td>\n",
              "      <td>1</td>\n",
              "      <td>1</td>\n",
              "      <td>0</td>\n",
              "      <td>0</td>\n",
              "      <td>...</td>\n",
              "      <td>1</td>\n",
              "      <td>0</td>\n",
              "      <td>0</td>\n",
              "      <td>-0.329408</td>\n",
              "      <td>-0.168073</td>\n",
              "      <td>-0.275387</td>\n",
              "      <td>-0.241771</td>\n",
              "      <td>0.217158</td>\n",
              "      <td>-0.224205</td>\n",
              "      <td>-1.149753</td>\n",
              "    </tr>\n",
              "    <tr>\n",
              "      <th>2</th>\n",
              "      <td>0</td>\n",
              "      <td>1</td>\n",
              "      <td>0</td>\n",
              "      <td>1</td>\n",
              "      <td>0</td>\n",
              "      <td>0</td>\n",
              "      <td>1</td>\n",
              "      <td>0</td>\n",
              "      <td>1</td>\n",
              "      <td>0</td>\n",
              "      <td>...</td>\n",
              "      <td>0</td>\n",
              "      <td>0</td>\n",
              "      <td>0</td>\n",
              "      <td>2.039169</td>\n",
              "      <td>-0.268001</td>\n",
              "      <td>1.959998</td>\n",
              "      <td>-0.283579</td>\n",
              "      <td>5.695623</td>\n",
              "      <td>-0.219796</td>\n",
              "      <td>-1.149753</td>\n",
              "    </tr>\n",
              "    <tr>\n",
              "      <th>3</th>\n",
              "      <td>0</td>\n",
              "      <td>0</td>\n",
              "      <td>0</td>\n",
              "      <td>1</td>\n",
              "      <td>0</td>\n",
              "      <td>0</td>\n",
              "      <td>1</td>\n",
              "      <td>0</td>\n",
              "      <td>1</td>\n",
              "      <td>0</td>\n",
              "      <td>...</td>\n",
              "      <td>0</td>\n",
              "      <td>0</td>\n",
              "      <td>0</td>\n",
              "      <td>0.297569</td>\n",
              "      <td>-0.333105</td>\n",
              "      <td>0.523010</td>\n",
              "      <td>0.336851</td>\n",
              "      <td>2.687176</td>\n",
              "      <td>-0.092818</td>\n",
              "      <td>-1.149753</td>\n",
              "    </tr>\n",
              "    <tr>\n",
              "      <th>4</th>\n",
              "      <td>0</td>\n",
              "      <td>0</td>\n",
              "      <td>1</td>\n",
              "      <td>1</td>\n",
              "      <td>0</td>\n",
              "      <td>0</td>\n",
              "      <td>1</td>\n",
              "      <td>1</td>\n",
              "      <td>0</td>\n",
              "      <td>0</td>\n",
              "      <td>...</td>\n",
              "      <td>1</td>\n",
              "      <td>0</td>\n",
              "      <td>0</td>\n",
              "      <td>-0.886720</td>\n",
              "      <td>0.125652</td>\n",
              "      <td>-0.237159</td>\n",
              "      <td>-0.031059</td>\n",
              "      <td>0.231374</td>\n",
              "      <td>-0.261240</td>\n",
              "      <td>-1.147800</td>\n",
              "    </tr>\n",
              "  </tbody>\n",
              "</table>\n",
              "<p>5 rows × 25 columns</p>\n",
              "</div>\n",
              "      <button class=\"colab-df-convert\" onclick=\"convertToInteractive('df-390e97e4-4676-437e-bcec-932a305ee162')\"\n",
              "              title=\"Convert this dataframe to an interactive table.\"\n",
              "              style=\"display:none;\">\n",
              "        \n",
              "  <svg xmlns=\"http://www.w3.org/2000/svg\" height=\"24px\"viewBox=\"0 0 24 24\"\n",
              "       width=\"24px\">\n",
              "    <path d=\"M0 0h24v24H0V0z\" fill=\"none\"/>\n",
              "    <path d=\"M18.56 5.44l.94 2.06.94-2.06 2.06-.94-2.06-.94-.94-2.06-.94 2.06-2.06.94zm-11 1L8.5 8.5l.94-2.06 2.06-.94-2.06-.94L8.5 2.5l-.94 2.06-2.06.94zm10 10l.94 2.06.94-2.06 2.06-.94-2.06-.94-.94-2.06-.94 2.06-2.06.94z\"/><path d=\"M17.41 7.96l-1.37-1.37c-.4-.4-.92-.59-1.43-.59-.52 0-1.04.2-1.43.59L10.3 9.45l-7.72 7.72c-.78.78-.78 2.05 0 2.83L4 21.41c.39.39.9.59 1.41.59.51 0 1.02-.2 1.41-.59l7.78-7.78 2.81-2.81c.8-.78.8-2.07 0-2.86zM5.41 20L4 18.59l7.72-7.72 1.47 1.35L5.41 20z\"/>\n",
              "  </svg>\n",
              "      </button>\n",
              "      \n",
              "  <style>\n",
              "    .colab-df-container {\n",
              "      display:flex;\n",
              "      flex-wrap:wrap;\n",
              "      gap: 12px;\n",
              "    }\n",
              "\n",
              "    .colab-df-convert {\n",
              "      background-color: #E8F0FE;\n",
              "      border: none;\n",
              "      border-radius: 50%;\n",
              "      cursor: pointer;\n",
              "      display: none;\n",
              "      fill: #1967D2;\n",
              "      height: 32px;\n",
              "      padding: 0 0 0 0;\n",
              "      width: 32px;\n",
              "    }\n",
              "\n",
              "    .colab-df-convert:hover {\n",
              "      background-color: #E2EBFA;\n",
              "      box-shadow: 0px 1px 2px rgba(60, 64, 67, 0.3), 0px 1px 3px 1px rgba(60, 64, 67, 0.15);\n",
              "      fill: #174EA6;\n",
              "    }\n",
              "\n",
              "    [theme=dark] .colab-df-convert {\n",
              "      background-color: #3B4455;\n",
              "      fill: #D2E3FC;\n",
              "    }\n",
              "\n",
              "    [theme=dark] .colab-df-convert:hover {\n",
              "      background-color: #434B5C;\n",
              "      box-shadow: 0px 1px 3px 1px rgba(0, 0, 0, 0.15);\n",
              "      filter: drop-shadow(0px 1px 2px rgba(0, 0, 0, 0.3));\n",
              "      fill: #FFFFFF;\n",
              "    }\n",
              "  </style>\n",
              "\n",
              "      <script>\n",
              "        const buttonEl =\n",
              "          document.querySelector('#df-390e97e4-4676-437e-bcec-932a305ee162 button.colab-df-convert');\n",
              "        buttonEl.style.display =\n",
              "          google.colab.kernel.accessAllowed ? 'block' : 'none';\n",
              "\n",
              "        async function convertToInteractive(key) {\n",
              "          const element = document.querySelector('#df-390e97e4-4676-437e-bcec-932a305ee162');\n",
              "          const dataTable =\n",
              "            await google.colab.kernel.invokeFunction('convertToInteractive',\n",
              "                                                     [key], {});\n",
              "          if (!dataTable) return;\n",
              "\n",
              "          const docLinkHtml = 'Like what you see? Visit the ' +\n",
              "            '<a target=\"_blank\" href=https://colab.research.google.com/notebooks/data_table.ipynb>data table notebook</a>'\n",
              "            + ' to learn more about interactive tables.';\n",
              "          element.innerHTML = '';\n",
              "          dataTable['output_type'] = 'display_data';\n",
              "          await google.colab.output.renderOutput(dataTable, element);\n",
              "          const docLink = document.createElement('div');\n",
              "          docLink.innerHTML = docLinkHtml;\n",
              "          element.appendChild(docLink);\n",
              "        }\n",
              "      </script>\n",
              "    </div>\n",
              "  </div>\n",
              "  "
            ],
            "text/plain": [
              "   CryoSleep  VIP  Transported  Cabin_Side  Destination_55 Cancri e  \\\n",
              "0          0    0            0           0                        0   \n",
              "1          0    0            1           1                        0   \n",
              "2          0    1            0           1                        0   \n",
              "3          0    0            0           1                        0   \n",
              "4          0    0            1           1                        0   \n",
              "\n",
              "   Destination_PSO J318.5-22  Destination_TRAPPIST-1e  HomePlanet_Earth  \\\n",
              "0                          0                        1                 0   \n",
              "1                          0                        1                 1   \n",
              "2                          0                        1                 0   \n",
              "3                          0                        1                 0   \n",
              "4                          0                        1                 1   \n",
              "\n",
              "   HomePlanet_Europa  HomePlanet_Mars  ...  Cabin_Deck_F  Cabin_Deck_G  \\\n",
              "0                  1                0  ...             0             0   \n",
              "1                  0                0  ...             1             0   \n",
              "2                  1                0  ...             0             0   \n",
              "3                  1                0  ...             0             0   \n",
              "4                  0                0  ...             1             0   \n",
              "\n",
              "   Cabin_Deck_T       Age  RoomService  FoodCourt  ShoppingMall       Spa  \\\n",
              "0             0  0.715553    -0.333105  -0.281027     -0.283579 -0.270626   \n",
              "1             0 -0.329408    -0.168073  -0.275387     -0.241771  0.217158   \n",
              "2             0  2.039169    -0.268001   1.959998     -0.283579  5.695623   \n",
              "3             0  0.297569    -0.333105   0.523010      0.336851  2.687176   \n",
              "4             0 -0.886720     0.125652  -0.237159     -0.031059  0.231374   \n",
              "\n",
              "     VRDeck  Cabin_Num  \n",
              "0 -0.263003  -1.149753  \n",
              "1 -0.224205  -1.149753  \n",
              "2 -0.219796  -1.149753  \n",
              "3 -0.092818  -1.149753  \n",
              "4 -0.261240  -1.147800  \n",
              "\n",
              "[5 rows x 25 columns]"
            ]
          },
          "execution_count": 702,
          "metadata": {},
          "output_type": "execute_result"
        }
      ],
      "source": [
        "df=df.merge(scaled, left_index=True, right_index=True, how = \"left\")\n",
        "df.head()"
      ]
    },
    {
      "cell_type": "markdown",
      "metadata": {
        "id": "AUyJPcLLi4_k"
      },
      "source": [
        "###**Avaliação com pelo menos 3 classificadores**"
      ]
    },
    {
      "cell_type": "code",
      "execution_count": null,
      "metadata": {
        "id": "0QadaYSEi4Os"
      },
      "outputs": [],
      "source": [
        "X = df.drop(['Transported'], axis=1).values\n",
        "y = df['Transported'].values"
      ]
    },
    {
      "cell_type": "code",
      "execution_count": null,
      "metadata": {
        "id": "sgSE9Rd5jr2j"
      },
      "outputs": [],
      "source": [
        "X_train, X_test, y_train, y_test = train_test_split(X, y, test_size=0.3)"
      ]
    },
    {
      "cell_type": "markdown",
      "metadata": {
        "id": "gPKU3czQi-YT"
      },
      "source": [
        "**Random Forest**"
      ]
    },
    {
      "cell_type": "code",
      "execution_count": null,
      "metadata": {
        "colab": {
          "base_uri": "https://localhost:8080/"
        },
        "id": "3vq_2JT_jtOr",
        "outputId": "1a18d2f2-f253-4b54-cb06-74de14e410f2"
      },
      "outputs": [
        {
          "name": "stdout",
          "output_type": "stream",
          "text": [
            "Training Score 0.9990139687756779\n",
            "Testing Score \n",
            " 0.7914110429447853\n",
            "[[1056  232]\n",
            " [ 312 1008]]\n"
          ]
        }
      ],
      "source": [
        "#forest = RandomForestClassifier(random_state=42, n_estimators = 100)\n",
        "forest = RandomForestClassifier(random_state=42)\n",
        "#==\n",
        "forest.fit(X_train, y_train)\n",
        "#==\n",
        "#Score\n",
        "#==\n",
        "forest_score = forest.score(X_train, y_train)\n",
        "forest_test = forest.score(X_test, y_test)\n",
        "#==\n",
        "#testing model\n",
        "#==\n",
        "y_pred = forest.predict(X_test)\n",
        "#==\n",
        "#evaluation\n",
        "#==\n",
        "cm = confusion_matrix(y_test,y_pred)\n",
        "print('Training Score',forest_score)\n",
        "print('Testing Score \\n',forest_test)\n",
        "print(cm)"
      ]
    },
    {
      "cell_type": "markdown",
      "metadata": {
        "id": "0BaAxFJ_mOKx"
      },
      "source": [
        "\n",
        "\n",
        "```\n",
        "Ajuste de Hiperparâmetros - GridSearchCV\n",
        "```\n",
        "\n"
      ]
    },
    {
      "cell_type": "code",
      "execution_count": null,
      "metadata": {
        "id": "1FAx-7Pbmmkw"
      },
      "outputs": [],
      "source": [
        "forest = RandomForestClassifier()\n",
        "param_grid = {'criterion': ['gini', 'entropy', 'log_loss'],\n",
        "              'max_features':['sqrt','log2'],\n",
        "              'n_estimators': [10, 20, 30, 40, 50, 60, 70, 80, 100, 200, 300]}"
      ]
    },
    {
      "cell_type": "code",
      "execution_count": null,
      "metadata": {
        "id": "9sEir29ZmnQg"
      },
      "outputs": [],
      "source": [
        "g_search = GridSearchCV(estimator = forest, param_grid = param_grid,\n",
        "                        cv = 10, return_train_score=True)"
      ]
    },
    {
      "cell_type": "code",
      "execution_count": null,
      "metadata": {
        "id": "lToibnXrmqwZ"
      },
      "outputs": [],
      "source": [
        "g_search.fit(X_train, y_train)\n",
        "print(g_search.best_params_)"
      ]
    },
    {
      "cell_type": "code",
      "execution_count": null,
      "metadata": {
        "colab": {
          "base_uri": "https://localhost:8080/"
        },
        "id": "wjRmv1FqnGWQ",
        "outputId": "a52f5a64-6154-4248-b7fd-7b5ace21d50b"
      },
      "outputs": [
        {
          "name": "stdout",
          "output_type": "stream",
          "text": [
            "Training Score 0.9990139687756779\n",
            "Testing Score \n",
            " 0.7963957055214724\n",
            "[[1067  221]\n",
            " [ 310 1010]]\n"
          ]
        }
      ],
      "source": [
        "forest = RandomForestClassifier(random_state=42, max_features='sqrt',\n",
        "                                n_estimators= 70, criterion='entropy')\n",
        "\n",
        "forest.fit(X_train, y_train)\n",
        "#==\n",
        "#Score\n",
        "#==\n",
        "forest_score = forest.score(X_train, y_train)\n",
        "forest_test = forest.score(X_test, y_test)\n",
        "#==\n",
        "#testing model\n",
        "#==\n",
        "y_pred = forest.predict(X_test)\n",
        "#==\n",
        "#evaluation\n",
        "#==\n",
        "cm = confusion_matrix(y_test,y_pred)\n",
        "print('Training Score',forest_score)\n",
        "print('Testing Score \\n',forest_test)\n",
        "print(cm)"
      ]
    },
    {
      "cell_type": "code",
      "execution_count": null,
      "metadata": {
        "colab": {
          "base_uri": "https://localhost:8080/"
        },
        "id": "azAOIu_dnHj0",
        "outputId": "5db4dd84-2587-4ba1-f3d8-fa798b5af1db"
      },
      "outputs": [
        {
          "name": "stdout",
          "output_type": "stream",
          "text": [
            "0.8024646746175785\n"
          ]
        }
      ],
      "source": [
        "print(g_search.best_score_)"
      ]
    },
    {
      "cell_type": "markdown",
      "metadata": {
        "id": "decLRb18nvqC"
      },
      "source": [
        "\n",
        "\n",
        "```\n",
        "Ajuste de Hiperparâmetros - RandomizedSearchCV\n",
        "```\n",
        "\n"
      ]
    },
    {
      "cell_type": "code",
      "execution_count": null,
      "metadata": {
        "id": "scXHAY-Zo_2G"
      },
      "outputs": [],
      "source": [
        "forest = RandomForestClassifier()\n",
        "param_grid = {'criterion': ['gini', 'entropy', 'log_loss'],\n",
        "              'max_features':['sqrt','log2'],\n",
        "              'n_estimators': [10, 20, 30, 40, 50, 100, 200]}"
      ]
    },
    {
      "cell_type": "code",
      "execution_count": null,
      "metadata": {
        "id": "WMGvIQVypGP7"
      },
      "outputs": [],
      "source": [
        "r_search = RandomizedSearchCV(estimator = forest, param_distributions = param_grid,\n",
        "                        n_iter= 10, cv = 10, return_train_score=True)"
      ]
    },
    {
      "cell_type": "code",
      "execution_count": null,
      "metadata": {
        "colab": {
          "base_uri": "https://localhost:8080/"
        },
        "id": "bSdxKnsRpHyo",
        "outputId": "2e553893-efd6-40ce-c4a1-f8e567012717"
      },
      "outputs": [
        {
          "name": "stderr",
          "output_type": "stream",
          "text": [
            "/usr/local/lib/python3.8/dist-packages/sklearn/model_selection/_validation.py:372: FitFailedWarning: \n",
            "30 fits failed out of a total of 100.\n",
            "The score on these train-test partitions for these parameters will be set to nan.\n",
            "If these failures are not expected, you can try to debug them by setting error_score='raise'.\n",
            "\n",
            "Below are more details about the failures:\n",
            "--------------------------------------------------------------------------------\n",
            "30 fits failed with the following error:\n",
            "Traceback (most recent call last):\n",
            "  File \"/usr/local/lib/python3.8/dist-packages/sklearn/model_selection/_validation.py\", line 680, in _fit_and_score\n",
            "    estimator.fit(X_train, y_train, **fit_params)\n",
            "  File \"/usr/local/lib/python3.8/dist-packages/sklearn/ensemble/_forest.py\", line 450, in fit\n",
            "    trees = Parallel(\n",
            "  File \"/usr/local/lib/python3.8/dist-packages/joblib/parallel.py\", line 1085, in __call__\n",
            "    if self.dispatch_one_batch(iterator):\n",
            "  File \"/usr/local/lib/python3.8/dist-packages/joblib/parallel.py\", line 901, in dispatch_one_batch\n",
            "    self._dispatch(tasks)\n",
            "  File \"/usr/local/lib/python3.8/dist-packages/joblib/parallel.py\", line 819, in _dispatch\n",
            "    job = self._backend.apply_async(batch, callback=cb)\n",
            "  File \"/usr/local/lib/python3.8/dist-packages/joblib/_parallel_backends.py\", line 208, in apply_async\n",
            "    result = ImmediateResult(func)\n",
            "  File \"/usr/local/lib/python3.8/dist-packages/joblib/_parallel_backends.py\", line 597, in __init__\n",
            "    self.results = batch()\n",
            "  File \"/usr/local/lib/python3.8/dist-packages/joblib/parallel.py\", line 288, in __call__\n",
            "    return [func(*args, **kwargs)\n",
            "  File \"/usr/local/lib/python3.8/dist-packages/joblib/parallel.py\", line 288, in <listcomp>\n",
            "    return [func(*args, **kwargs)\n",
            "  File \"/usr/local/lib/python3.8/dist-packages/sklearn/utils/fixes.py\", line 216, in __call__\n",
            "    return self.function(*args, **kwargs)\n",
            "  File \"/usr/local/lib/python3.8/dist-packages/sklearn/ensemble/_forest.py\", line 185, in _parallel_build_trees\n",
            "    tree.fit(X, y, sample_weight=curr_sample_weight, check_input=False)\n",
            "  File \"/usr/local/lib/python3.8/dist-packages/sklearn/tree/_classes.py\", line 937, in fit\n",
            "    super().fit(\n",
            "  File \"/usr/local/lib/python3.8/dist-packages/sklearn/tree/_classes.py\", line 352, in fit\n",
            "    criterion = CRITERIA_CLF[self.criterion](\n",
            "KeyError: 'log_loss'\n",
            "\n",
            "  warnings.warn(some_fits_failed_message, FitFailedWarning)\n",
            "/usr/local/lib/python3.8/dist-packages/sklearn/model_selection/_search.py:969: UserWarning: One or more of the test scores are non-finite: [       nan 0.79408354        nan        nan 0.79901046 0.79654524\n",
            " 0.79358904 0.80032679 0.7863576  0.79671242]\n",
            "  warnings.warn(\n",
            "/usr/local/lib/python3.8/dist-packages/sklearn/model_selection/_search.py:969: UserWarning: One or more of the train scores are non-finite: [       nan 0.99830182        nan        nan 0.999087   0.999087\n",
            " 0.99452205 0.99859398 0.98453392 0.9975349 ]\n",
            "  warnings.warn(\n"
          ]
        },
        {
          "name": "stdout",
          "output_type": "stream",
          "text": [
            "{'n_estimators': 40, 'max_features': 'log2', 'criterion': 'gini'}\n"
          ]
        }
      ],
      "source": [
        "r_search.fit(X_train, y_train);\n",
        "print(r_search.best_params_)"
      ]
    },
    {
      "cell_type": "code",
      "execution_count": null,
      "metadata": {
        "colab": {
          "base_uri": "https://localhost:8080/"
        },
        "id": "ct1YCt2HpXUO",
        "outputId": "4c0e5c20-ed0b-4a24-953c-081651f0b652"
      },
      "outputs": [
        {
          "name": "stdout",
          "output_type": "stream",
          "text": [
            "Training Score 0.9983566146261298\n",
            "Testing Score \n",
            " 0.7894938650306749\n",
            "[[1062  226]\n",
            " [ 323  997]]\n"
          ]
        }
      ],
      "source": [
        "forest = RandomForestClassifier(random_state=42, max_features='log2',\n",
        "                                n_estimators= 40, criterion='gini')\n",
        "\n",
        "forest.fit(X_train, y_train)\n",
        "#==\n",
        "#Score\n",
        "#==\n",
        "forest_score = forest.score(X_train, y_train)\n",
        "forest_test = forest.score(X_test, y_test)\n",
        "#==\n",
        "#testing model\n",
        "#==\n",
        "y_pred = forest.predict(X_test)\n",
        "#==\n",
        "#evaluation\n",
        "#==\n",
        "cm = confusion_matrix(y_test,y_pred)\n",
        "print('Training Score',forest_score)\n",
        "print('Testing Score \\n',forest_test)\n",
        "print(cm)"
      ]
    },
    {
      "cell_type": "code",
      "execution_count": null,
      "metadata": {
        "colab": {
          "base_uri": "https://localhost:8080/"
        },
        "id": "GNP6WoPfpYr-",
        "outputId": "afc6fa8e-c466-4e6a-c004-4c62948d51e1"
      },
      "outputs": [
        {
          "name": "stdout",
          "output_type": "stream",
          "text": [
            "0.8003267867945727\n"
          ]
        }
      ],
      "source": [
        "print(r_search.best_score_)"
      ]
    },
    {
      "cell_type": "markdown",
      "metadata": {
        "id": "pfLtVASvoc9V"
      },
      "source": [
        "\n",
        "\n",
        "```\n",
        "Amostragem por validação cruzada estratificada (10 folds)\n",
        "```\n",
        "\n"
      ]
    },
    {
      "cell_type": "code",
      "execution_count": null,
      "metadata": {
        "colab": {
          "base_uri": "https://localhost:8080/"
        },
        "id": "amoB5jJSp-Lt",
        "outputId": "6c981910-0b3e-4c2f-a804-6f0a4f310893"
      },
      "outputs": [
        {
          "name": "stdout",
          "output_type": "stream",
          "text": [
            "Lista de ACC train: [0.9989773744087945, 0.9982104052153905, 0.9980825770164898, 0.9985940695296524, 0.998721881390593, 0.9985940695296524, 0.9976993865030674, 0.9984662576687117, 0.9982106339468303, 0.998721881390593]\n",
            "Lista de ACC test: [0.7885057471264367, 0.8057471264367816, 0.8103448275862069, 0.7986191024165707, 0.7733026467203682, 0.8158803222094362, 0.7997698504027618, 0.8055235903337169, 0.7882623705408516, 0.7917146144994246]\n",
            "\n",
            "Maior ACC train: 99.89773744087945 %\n",
            "\n",
            "Maior ACC test: 81.58803222094362 %\n"
          ]
        }
      ],
      "source": [
        "# Create StratifiedKFold object.\n",
        "skf = StratifiedKFold(n_splits=10, shuffle=True, random_state=1)\n",
        "lst_accu_stratified_train = []\n",
        "lst_accu_stratified_test = []\n",
        "\n",
        "for train_index, test_index in skf.split(X, y):\n",
        "    x_train_fold, x_test_fold = X[train_index], X[test_index]\n",
        "    y_train_fold, y_test_fold = y[train_index], y[test_index]\n",
        "\n",
        "    forest.fit(x_train_fold, y_train_fold)\n",
        "    lst_accu_stratified_train.append(forest.score(x_train_fold, y_train_fold))\n",
        "    lst_accu_stratified_test.append(forest.score(x_test_fold, y_test_fold))\n",
        "\n",
        "# Print the output.\n",
        "print('Lista de ACC train:', lst_accu_stratified_train)\n",
        "print('Lista de ACC test:', lst_accu_stratified_test)\n",
        "\n",
        "print('\\nMaior ACC train:',\n",
        "      max(lst_accu_stratified_train)*100, '%')\n",
        "\n",
        "print('\\nMaior ACC test:',\n",
        "      max(lst_accu_stratified_test)*100, '%')\n"
      ]
    },
    {
      "cell_type": "markdown",
      "metadata": {
        "id": "yGG6TJeDrgHz"
      },
      "source": [
        "\n",
        "\n",
        "```\n",
        "Apresentação da Matriz confusão\n",
        "```\n",
        "\n"
      ]
    },
    {
      "cell_type": "code",
      "execution_count": null,
      "metadata": {
        "colab": {
          "base_uri": "https://localhost:8080/",
          "height": 296
        },
        "id": "_KJPDXDktecK",
        "outputId": "c119cd78-6ec1-4f99-d28c-199d213d2d4d"
      },
      "outputs": [
        {
          "data": {
            "text/plain": [
              "<sklearn.metrics._plot.confusion_matrix.ConfusionMatrixDisplay at 0x7fddb293dcd0>"
            ]
          },
          "execution_count": 727,
          "metadata": {},
          "output_type": "execute_result"
        },
        {
          "data": {
            "image/png": "[encoded data removed]",
            "text/plain": [
              "<Figure size 432x288 with 2 Axes>"
            ]
          },
          "metadata": {
            "needs_background": "light"
          },
          "output_type": "display_data"
        }
      ],
      "source": [
        "cm = confusion_matrix(y_test, y_pred)\n",
        "ConfusionMatrixDisplay(cm).plot()"
      ]
    },
    {
      "cell_type": "markdown",
      "metadata": {
        "id": "ubX1BriPt5e5"
      },
      "source": [
        "\n",
        "\n",
        "```\n",
        "Redução da base de dados com seleção de características RFE\n",
        "```\n",
        "\n"
      ]
    },
    {
      "cell_type": "code",
      "execution_count": null,
      "metadata": {
        "colab": {
          "base_uri": "https://localhost:8080/"
        },
        "id": "w98GYk3xt5Rn",
        "outputId": "8a91c7a1-00f3-4e27-938c-419a462ff69d"
      },
      "outputs": [
        {
          "name": "stdout",
          "output_type": "stream",
          "text": [
            "[ 1 11  1  5  9  2  1  1  6 12  7  8 10  3  1  4 13  1  1  1  1  1  1  1]\n",
            "[ 0  2  6  7 14 17 18 19 20 21 22 23]\n",
            "99.88\n"
          ]
        }
      ],
      "source": [
        "selector = RFE(forest, step=1)\n",
        "selector = selector.fit(X, y)\n",
        "\n",
        "#Armazena a nova dimensão do vetor de características\n",
        "features = selector.fit_transform(X,y)\n",
        "\n",
        "# instancia um DecisionTreeClassifier\n",
        "y_pred = selector.predict(X_test)\n",
        "\n",
        "print(selector.ranking_)\n",
        "print(selector.get_support(indices=True))\n",
        "\n",
        " # gerar score baseado na acurácia\n",
        "acc = round(accuracy_score(y_test,y_pred)*100,2)\n",
        "print(acc)"
      ]
    },
    {
      "cell_type": "code",
      "execution_count": null,
      "metadata": {
        "colab": {
          "base_uri": "https://localhost:8080/"
        },
        "id": "gXGUf2Mkudwh",
        "outputId": "92fac133-55e9-4d15-a8a7-262ef7b16ceb"
      },
      "outputs": [
        {
          "name": "stdout",
          "output_type": "stream",
          "text": [
            "Index(['CryoSleep', 'Cabin_Side', 'HomePlanet_Earth', 'HomePlanet_Europa',\n",
            "       'Cabin_Deck_F', 'Age', 'RoomService', 'FoodCourt', 'ShoppingMall',\n",
            "       'Spa', 'VRDeck', 'Cabin_Num'],\n",
            "      dtype='object')\n"
          ]
        }
      ],
      "source": [
        "cols = pd.Series(selector.support_,index = df.drop(columns='Transported', axis=1).columns)\n",
        "wrapper = cols[cols==True].index\n",
        "print(wrapper)"
      ]
    },
    {
      "cell_type": "code",
      "execution_count": null,
      "metadata": {
        "id": "T-MvS_nUvldz"
      },
      "outputs": [],
      "source": [
        "# Deixa no formato list\n",
        "featuresList = wrapper.tolist()"
      ]
    },
    {
      "cell_type": "code",
      "execution_count": null,
      "metadata": {
        "id": "UKMKjeS_vWiS"
      },
      "outputs": [],
      "source": [
        "dfTeste = df[featuresList]"
      ]
    },
    {
      "cell_type": "code",
      "execution_count": null,
      "metadata": {
        "id": "APRAifX_v34T"
      },
      "outputs": [],
      "source": [
        "X_train, X_test, y_train, y_test = train_test_split(dfTeste, y, test_size=0.3)\n"
      ]
    },
    {
      "cell_type": "code",
      "execution_count": null,
      "metadata": {
        "colab": {
          "base_uri": "https://localhost:8080/"
        },
        "id": "TFwNz2IPwTHw",
        "outputId": "6a7a9486-0b62-400a-f4ad-fa6179a05ff1"
      },
      "outputs": [
        {
          "name": "stdout",
          "output_type": "stream",
          "text": [
            "Training Score 0.9988496302382909\n",
            "Testing Score \n",
            " 0.7802914110429447\n",
            "[[1044  232]\n",
            " [ 341  991]]\n"
          ]
        }
      ],
      "source": [
        "#forest = RandomForestClassifier(random_state=42, n_estimators = 100)\n",
        "forest = RandomForestClassifier(random_state=42)\n",
        "#==\n",
        "forest.fit(X_train, y_train)\n",
        "#==\n",
        "#Score\n",
        "#==\n",
        "forest_score = forest.score(X_train, y_train)\n",
        "forest_test = forest.score(X_test, y_test)\n",
        "#==\n",
        "#testing model\n",
        "#==\n",
        "y_pred = forest.predict(X_test)\n",
        "#==\n",
        "#evaluation\n",
        "#==\n",
        "cm = confusion_matrix(y_test,y_pred)\n",
        "print('Training Score',forest_score)\n",
        "print('Testing Score \\n',forest_test)\n",
        "print(cm)"
      ]
    },
    {
      "cell_type": "markdown",
      "metadata": {
        "id": "eaufoETon5t3"
      },
      "source": [
        "**SVM**"
      ]
    },
    {
      "cell_type": "code",
      "execution_count": null,
      "metadata": {
        "colab": {
          "base_uri": "https://localhost:8080/"
        },
        "id": "wmK8eOAHoGMI",
        "outputId": "e96c6a48-73ef-4d36-e9d3-f1d0f863def6"
      },
      "outputs": [
        {
          "name": "stdout",
          "output_type": "stream",
          "text": [
            "Training Score 0.810024650780608\n",
            "Testing Score \n",
            " 0.7986963190184049\n",
            "[[ 998  278]\n",
            " [ 247 1085]]\n"
          ]
        }
      ],
      "source": [
        "svc = SVC(random_state=42)\n",
        "svc.fit(X_train, y_train)\n",
        "#==\n",
        "#Score\n",
        "#==\n",
        "svc_score = svc.score(X_train, y_train)\n",
        "svc_test = svc.score(X_test, y_test)\n",
        "#==\n",
        "#testing model\n",
        "#==\n",
        "y_pred = svc.predict(X_test)\n",
        "#==\n",
        "#evaluation\n",
        "#==\n",
        "cm = confusion_matrix(y_test,y_pred)\n",
        "print('Training Score',svc_score)\n",
        "print('Testing Score \\n',svc_test)\n",
        "print(cm)"
      ]
    },
    {
      "cell_type": "markdown",
      "metadata": {
        "id": "_9tHj8kgKouR"
      },
      "source": [
        "\n",
        "```\n",
        "Ajuste de Hiperparâmetros - GridSearchCV\n",
        "```"
      ]
    },
    {
      "cell_type": "code",
      "execution_count": null,
      "metadata": {
        "colab": {
          "base_uri": "https://localhost:8080/"
        },
        "id": "av9Iwq4bJB2P",
        "outputId": "b88aa4a9-a1f3-4b2f-b7cb-e2e573534376"
      },
      "outputs": [
        {
          "name": "stdout",
          "output_type": "stream",
          "text": [
            "{'C': 10, 'gamma': 'scale', 'kernel': 'rbf'}\n"
          ]
        }
      ],
      "source": [
        "from sklearn.model_selection import GridSearchCV\n",
        "from sklearn import svm\n",
        "\n",
        "parameters = {'kernel':['linear', 'rbf', 'poly'], 'C':[1, 5, 10], 'gamma':['scale','auto']}\n",
        "svc = svm.SVC()\n",
        "clf = GridSearchCV(svc, parameters)\n",
        "GridSearchCV(estimator=SVC(), param_grid=parameters)\n",
        "clf.fit(X_train, y_train)\n",
        "print(clf.best_params_)"
      ]
    },
    {
      "cell_type": "code",
      "execution_count": null,
      "metadata": {
        "colab": {
          "base_uri": "https://localhost:8080/"
        },
        "id": "H7g9cSuhJCyC",
        "outputId": "fb8b90f6-3a2e-47b3-98b5-a7bf4ed651d1"
      },
      "outputs": [
        {
          "name": "stdout",
          "output_type": "stream",
          "text": [
            "Training Score 0.8113393590797042\n",
            "Testing Score \n",
            " 0.7960122699386503\n",
            "[[1001  275]\n",
            " [ 257 1075]]\n"
          ]
        }
      ],
      "source": [
        "svc = SVC(C=5, kernel='rbf', gamma='auto')\n",
        "svc.fit(X_train, y_train)\n",
        "#==\n",
        "#Score\n",
        "#==\n",
        "svc_score = svc.score(X_train, y_train)\n",
        "svc_test = svc.score(X_test, y_test)\n",
        "#==\n",
        "#testing model\n",
        "#==\n",
        "y_pred = svc.predict(X_test)\n",
        "#==\n",
        "#evaluation\n",
        "#==\n",
        "cm = confusion_matrix(y_test,y_pred)\n",
        "print('Training Score',svc_score)\n",
        "print('Testing Score \\n',svc_test)\n",
        "print(cm)"
      ]
    },
    {
      "cell_type": "code",
      "execution_count": null,
      "metadata": {
        "colab": {
          "base_uri": "https://localhost:8080/"
        },
        "id": "YkwI43fpJFc7",
        "outputId": "cd73adc4-6613-41a0-ba6c-af08feac5226"
      },
      "outputs": [
        {
          "name": "stdout",
          "output_type": "stream",
          "text": [
            "0.8044371405094495\n"
          ]
        }
      ],
      "source": [
        "print(clf.best_score_)"
      ]
    },
    {
      "cell_type": "markdown",
      "metadata": {
        "id": "uZm_ziFoJG-_"
      },
      "source": [
        "\n",
        "```\n",
        "Ajuste de Hiperparâmetros - RandomizedSearchCV\n",
        "```"
      ]
    },
    {
      "cell_type": "code",
      "execution_count": null,
      "metadata": {
        "id": "iATBWU09JIcZ"
      },
      "outputs": [],
      "source": [
        "svc = SVC()\n",
        "from sklearn.model_selection import RandomizedSearchCV\n",
        "r_search = RandomizedSearchCV(estimator = svc, param_distributions = parameters,\n",
        "                        n_iter= 10, cv = 10, return_train_score=True)"
      ]
    },
    {
      "cell_type": "code",
      "execution_count": null,
      "metadata": {
        "colab": {
          "base_uri": "https://localhost:8080/"
        },
        "id": "I2ijZQIJJLHo",
        "outputId": "19f1c618-3578-4b4b-ffa0-454861d0b04d"
      },
      "outputs": [
        {
          "name": "stdout",
          "output_type": "stream",
          "text": [
            "{'kernel': 'rbf', 'gamma': 'auto', 'C': 5}\n"
          ]
        }
      ],
      "source": [
        "r_search.fit(X_train, y_train);\n",
        "print(r_search.best_params_)"
      ]
    },
    {
      "cell_type": "code",
      "execution_count": null,
      "metadata": {
        "colab": {
          "base_uri": "https://localhost:8080/"
        },
        "id": "oEbHY-pKJMoV",
        "outputId": "54a3540f-844e-4ce3-8847-f676be51b1ed"
      },
      "outputs": [
        {
          "name": "stdout",
          "output_type": "stream",
          "text": [
            "Training Score 0.8152834839769926\n",
            "Testing Score \n",
            " 0.7952453987730062\n",
            "[[1006  270]\n",
            " [ 264 1068]]\n"
          ]
        }
      ],
      "source": [
        "svc = SVC(C=5, kernel='rbf', gamma='scale')\n",
        "svc.fit(X_train, y_train)\n",
        "#==\n",
        "#Score\n",
        "#==\n",
        "svc_score = svc.score(X_train, y_train)\n",
        "svc_test = svc.score(X_test, y_test)\n",
        "#==\n",
        "#testing model\n",
        "#==\n",
        "y_pred = svc.predict(X_test)\n",
        "#==\n",
        "#evaluation\n",
        "#==\n",
        "cm = confusion_matrix(y_test,y_pred)\n",
        "print('Training Score',svc_score)\n",
        "print('Testing Score \\n',svc_test)\n",
        "print(cm)"
      ]
    },
    {
      "cell_type": "code",
      "execution_count": null,
      "metadata": {
        "colab": {
          "base_uri": "https://localhost:8080/"
        },
        "id": "A9GznAGrJPcx",
        "outputId": "11a30aab-dab6-4bd5-fb60-2cdde2e3b360"
      },
      "outputs": [
        {
          "name": "stdout",
          "output_type": "stream",
          "text": [
            "0.8019774652147611\n"
          ]
        }
      ],
      "source": [
        "print(r_search.best_score_)"
      ]
    },
    {
      "cell_type": "markdown",
      "metadata": {
        "id": "f3bSfHoTJRZi"
      },
      "source": [
        "Amostragem por validação cruzada estratificada (10 folds)"
      ]
    },
    {
      "cell_type": "code",
      "execution_count": null,
      "metadata": {
        "colab": {
          "base_uri": "https://localhost:8080/"
        },
        "id": "BHk2s4vEJSAR",
        "outputId": "8f1a7dac-2ea6-486b-9b8e-02c9ca4ca91a"
      },
      "outputs": [
        {
          "name": "stdout",
          "output_type": "stream",
          "text": [
            "Lista de ACC train: [0.8258979930972773, 0.8270484468873833, 0.8244918829093698, 0.8264314928425358, 0.8284764826175869, 0.8241308793456033, 0.8263036809815951, 0.8278374233128835, 0.8278374233128835, 0.8280930470347648]\n",
            "Lista de ACC test: [0.8114942528735632, 0.8218390804597702, 0.8218390804597702, 0.80897583429229, 0.7882623705408516, 0.8308400460299195, 0.812428078250863, 0.7997698504027618, 0.7917146144994246, 0.7917146144994246]\n",
            "\n",
            "Maior ACC train: 82.84764826175869 %\n",
            "\n",
            "Maior ACC test: 83.08400460299194 %\n"
          ]
        }
      ],
      "source": [
        "# Create StratifiedKFold object.\n",
        "\n",
        "skf = StratifiedKFold(n_splits=10, shuffle=True, random_state=1)\n",
        "lst_accu_stratified_train = []\n",
        "lst_accu_stratified_test = []\n",
        "\n",
        "for train_index, test_index in skf.split(X, y):\n",
        "    x_train_fold, x_test_fold = X[train_index], X[test_index]\n",
        "    y_train_fold, y_test_fold = y[train_index], y[test_index]\n",
        "\n",
        "    svc.fit(x_train_fold, y_train_fold)\n",
        "    lst_accu_stratified_train.append(svc.score(x_train_fold, y_train_fold))\n",
        "    lst_accu_stratified_test.append(svc.score(x_test_fold, y_test_fold))\n",
        "\n",
        "# Print the output.\n",
        "print('Lista de ACC train:', lst_accu_stratified_train)\n",
        "print('Lista de ACC test:', lst_accu_stratified_test)\n",
        "\n",
        "print('\\nMaior ACC train:',\n",
        "      max(lst_accu_stratified_train)*100, '%')\n",
        "\n",
        "print('\\nMaior ACC test:',\n",
        "      max(lst_accu_stratified_test)*100, '%')\n"
      ]
    },
    {
      "cell_type": "markdown",
      "metadata": {
        "id": "8nJ_jkvVJapq"
      },
      "source": [
        "Apresentação da Matriz confusão"
      ]
    },
    {
      "cell_type": "code",
      "execution_count": null,
      "metadata": {
        "colab": {
          "base_uri": "https://localhost:8080/"
        },
        "id": "DIXUVJJJJem-",
        "outputId": "dbe7d979-f7a5-4428-8fc7-7730efe23955"
      },
      "outputs": [
        {
          "data": {
            "text/plain": [
              "<sklearn.metrics._plot.confusion_matrix.ConfusionMatrixDisplay at 0x7fddb2013940>"
            ]
          },
          "execution_count": 795,
          "metadata": {},
          "output_type": "execute_result"
        },
        {
          "data": {
            "image/png": "[encoded data removed]",
            "text/plain": [
              "<Figure size 432x288 with 2 Axes>"
            ]
          },
          "metadata": {
            "needs_background": "light"
          },
          "output_type": "display_data"
        }
      ],
      "source": [
        "cm = confusion_matrix(y_test, y_pred)\n",
        "ConfusionMatrixDisplay(cm).plot()"
      ]
    },
    {
      "cell_type": "markdown",
      "metadata": {
        "id": "TRLMxeiEn8-u"
      },
      "source": [
        "**KNN**"
      ]
    },
    {
      "cell_type": "code",
      "execution_count": null,
      "metadata": {
        "colab": {
          "base_uri": "https://localhost:8080/"
        },
        "id": "WmG_2P9-oO6v",
        "outputId": "db1aa6db-7c53-4a27-a552-bd4c2c629be3"
      },
      "outputs": [
        {
          "name": "stdout",
          "output_type": "stream",
          "text": [
            "Acurácia:  0.7745398773006135\n",
            "[[ 993  283]\n",
            " [ 305 1027]]\n"
          ]
        }
      ],
      "source": [
        "knn = KNeighborsClassifier(n_neighbors=5, metric = 'euclidean')\n",
        "knn.fit(X_train, y_train)\n",
        "y_pred = knn.predict(X_test)\n",
        "cm = confusion_matrix(y_test,y_pred)\n",
        "print('Acurácia: ', metrics.accuracy_score(y_test, y_pred))\n",
        "print(cm)"
      ]
    },
    {
      "cell_type": "markdown",
      "metadata": {
        "id": "PoVw-UHazf8V"
      },
      "source": [
        "Ajuste de Hiperparâmetros - GridSearchCV"
      ]
    },
    {
      "cell_type": "code",
      "execution_count": null,
      "metadata": {
        "id": "J6kBrJ-7zkri"
      },
      "outputs": [],
      "source": [
        "knn = KNeighborsClassifier()\n",
        "param_grid = {'n_neighbors': [3,5,11,19],\n",
        "              'weights': ['uniform', 'distance'],\n",
        "              'algorithm': ['ball_tree', 'kd_tree', 'brute'],\n",
        "              'metric': ['cityblock',  'cosine', 'euclidean', 'haversine', 'l1',  'l2', 'manhattan'],\n",
        "              }"
      ]
    },
    {
      "cell_type": "code",
      "execution_count": null,
      "metadata": {
        "id": "Wrtw3huVz8DA"
      },
      "outputs": [],
      "source": [
        "g_search = GridSearchCV(estimator = knn, param_grid = param_grid,\n",
        "                        cv = 10, return_train_score=True)"
      ]
    },
    {
      "cell_type": "code",
      "execution_count": null,
      "metadata": {
        "id": "wERm357S0CTl"
      },
      "outputs": [],
      "source": [
        "g_search.fit(X_train, y_train)"
      ]
    },
    {
      "cell_type": "code",
      "execution_count": null,
      "metadata": {
        "colab": {
          "base_uri": "https://localhost:8080/"
        },
        "id": "WDbwdMf8_mhD",
        "outputId": "1b92cf0b-afba-4d20-dbe5-e3eb21d13e9b"
      },
      "outputs": [
        {
          "name": "stdout",
          "output_type": "stream",
          "text": [
            "{'algorithm': 'ball_tree', 'metric': 'cityblock', 'n_neighbors': 19, 'weights': 'uniform'}\n"
          ]
        }
      ],
      "source": [
        "print(g_search.best_params_)"
      ]
    },
    {
      "cell_type": "code",
      "execution_count": null,
      "metadata": {
        "colab": {
          "base_uri": "https://localhost:8080/"
        },
        "id": "NVMGGk6d0KvT",
        "outputId": "f4239672-5465-49e3-b3b1-aa836525b23b"
      },
      "outputs": [
        {
          "name": "stdout",
          "output_type": "stream",
          "text": [
            "Acurácia:  0.7833588957055214\n",
            "[[1007  269]\n",
            " [ 296 1036]]\n"
          ]
        }
      ],
      "source": [
        "knn = KNeighborsClassifier(n_neighbors=19, weights='uniform', algorithm='ball_tree', metric='cityblock')\n",
        "knn.fit(X_train, y_train)\n",
        "y_pred = knn.predict(X_test)\n",
        "\n",
        "cm = confusion_matrix(y_test,y_pred)\n",
        "print('Acurácia: ', metrics.accuracy_score(y_test, y_pred))\n",
        "print(cm)"
      ]
    },
    {
      "cell_type": "code",
      "execution_count": null,
      "metadata": {
        "colab": {
          "base_uri": "https://localhost:8080/"
        },
        "id": "FPFx0_DR1eF4",
        "outputId": "b0deb69c-8e34-428a-fafe-9a86c7d38538"
      },
      "outputs": [
        {
          "name": "stdout",
          "output_type": "stream",
          "text": [
            "0.7972015167228417\n"
          ]
        }
      ],
      "source": [
        "print(g_search.best_score_)"
      ]
    },
    {
      "cell_type": "markdown",
      "metadata": {
        "id": "MlSBWLaD1s5X"
      },
      "source": [
        "Ajuste de Hiperparâmetros - RandomizedSearchCV"
      ]
    },
    {
      "cell_type": "code",
      "execution_count": null,
      "metadata": {
        "id": "RyARXPnH108S"
      },
      "outputs": [],
      "source": [
        "knn = KNeighborsClassifier()\n",
        "param_grid = {'n_neighbors': [3,5,11,19],\n",
        "              'weights': ['uniform', 'distance'],\n",
        "              'algorithm': ['ball_tree', 'kd_tree', 'brute'],\n",
        "              'metric': ['cityblock',  'cosine', 'euclidean', 'haversine', 'l1',  'l2', 'manhattan'],\n",
        "              }"
      ]
    },
    {
      "cell_type": "code",
      "execution_count": null,
      "metadata": {
        "id": "zT8JaI0L2DnA"
      },
      "outputs": [],
      "source": [
        "r_search = RandomizedSearchCV(estimator = knn, param_distributions = param_grid,\n",
        "                        n_iter= 10, cv = 10, return_train_score=True)"
      ]
    },
    {
      "cell_type": "code",
      "execution_count": null,
      "metadata": {
        "id": "H6CTHgfc2J4q"
      },
      "outputs": [],
      "source": [
        "r_search.fit(X_train, y_train)"
      ]
    },
    {
      "cell_type": "code",
      "execution_count": null,
      "metadata": {
        "colab": {
          "base_uri": "https://localhost:8080/"
        },
        "id": "HmxFyoIU_yez",
        "outputId": "5f752ae4-6de4-4acd-97e2-a1ffbd3db398"
      },
      "outputs": [
        {
          "name": "stdout",
          "output_type": "stream",
          "text": [
            "{'weights': 'uniform', 'n_neighbors': 11, 'metric': 'l1', 'algorithm': 'kd_tree'}\n"
          ]
        }
      ],
      "source": [
        "print(r_search.best_params_)"
      ]
    },
    {
      "cell_type": "code",
      "execution_count": null,
      "metadata": {
        "colab": {
          "base_uri": "https://localhost:8080/"
        },
        "id": "jRMtx2TK2Pvg",
        "outputId": "154994ea-d898-43f4-f6cf-15be9c7ef824"
      },
      "outputs": [
        {
          "name": "stdout",
          "output_type": "stream",
          "text": [
            "Acurácia:  0.7779907975460123\n",
            "[[ 991  285]\n",
            " [ 294 1038]]\n"
          ]
        }
      ],
      "source": [
        "knn = KNeighborsClassifier(n_neighbors=11, weights='uniform', algorithm='kd_tree', metric='l1')\n",
        "knn.fit(X_train, y_train)\n",
        "y_pred = knn.predict(X_test)\n",
        "\n",
        "cm = confusion_matrix(y_test,y_pred)\n",
        "print('Acurácia: ', metrics.accuracy_score(y_test, y_pred))\n",
        "print(cm)"
      ]
    },
    {
      "cell_type": "code",
      "execution_count": null,
      "metadata": {
        "colab": {
          "base_uri": "https://localhost:8080/"
        },
        "id": "2rLRwX5m2RUV",
        "outputId": "e3e428de-01f5-4e6c-ddfb-58cd97e4b05a"
      },
      "outputs": [
        {
          "name": "stdout",
          "output_type": "stream",
          "text": [
            "0.7972015167228417\n"
          ]
        }
      ],
      "source": [
        "print(g_search.best_score_)"
      ]
    },
    {
      "cell_type": "markdown",
      "metadata": {
        "id": "9e3QdMFZ2cFu"
      },
      "source": [
        "Amostragem por validação cruzada estratificada (10 folds)"
      ]
    },
    {
      "cell_type": "code",
      "execution_count": null,
      "metadata": {
        "colab": {
          "base_uri": "https://localhost:8080/"
        },
        "id": "rMBKXU8L2lh1",
        "outputId": "6f10b90d-ff3d-4dc9-97cc-c082939e000c"
      },
      "outputs": [
        {
          "name": "stdout",
          "output_type": "stream",
          "text": [
            "Lista de ACC train: [0.8279432442796881, 0.829605010865397, 0.826792790489582, 0.8300102249488752, 0.8255368098159509, 0.8271983640081799, 0.8289877300613497, 0.825920245398773, 0.8275817995910021, 0.8273261758691206]\n",
            "Lista de ACC test: [0.7919540229885057, 0.7977011494252874, 0.7977011494252874, 0.7744533947065593, 0.7848101265822784, 0.8204833141542003, 0.7974683544303798, 0.7871116225546605, 0.761795166858458, 0.7698504027617952]\n",
            "\n",
            "Maior ACC train: 83.00102249488752 %\n",
            "\n",
            "Maior ACC test: 82.04833141542002 %\n"
          ]
        }
      ],
      "source": [
        "# Create StratifiedKFold object.\n",
        "skf = StratifiedKFold(n_splits=10, shuffle=True, random_state=1)\n",
        "lst_accu_stratified_train = []\n",
        "lst_accu_stratified_test = []\n",
        "\n",
        "for train_index, test_index in skf.split(X, y):\n",
        "    x_train_fold, x_test_fold = X[train_index], X[test_index]\n",
        "    y_train_fold, y_test_fold = y[train_index], y[test_index]\n",
        "\n",
        "    knn.fit(x_train_fold, y_train_fold)\n",
        "    lst_accu_stratified_train.append(knn.score(x_train_fold, y_train_fold))\n",
        "    lst_accu_stratified_test.append(knn.score(x_test_fold, y_test_fold))\n",
        "\n",
        "# Print the output.\n",
        "print('Lista de ACC train:', lst_accu_stratified_train)\n",
        "print('Lista de ACC test:', lst_accu_stratified_test)\n",
        "\n",
        "print('\\nMaior ACC train:',\n",
        "      max(lst_accu_stratified_train)*100, '%')\n",
        "\n",
        "print('\\nMaior ACC test:',\n",
        "      max(lst_accu_stratified_test)*100, '%')\n"
      ]
    },
    {
      "cell_type": "markdown",
      "metadata": {
        "id": "psnnkH1A3EoB"
      },
      "source": [
        "Apresentação da Matriz confusão"
      ]
    },
    {
      "cell_type": "code",
      "execution_count": null,
      "metadata": {
        "colab": {
          "base_uri": "https://localhost:8080/",
          "height": 296
        },
        "id": "jikxUlYz3UUJ",
        "outputId": "e0375f03-16b5-4f9b-8385-4e755f61775f"
      },
      "outputs": [
        {
          "data": {
            "text/plain": [
              "<sklearn.metrics._plot.confusion_matrix.ConfusionMatrixDisplay at 0x7fddb1fd23d0>"
            ]
          },
          "execution_count": 768,
          "metadata": {},
          "output_type": "execute_result"
        },
        {
          "data": {
            "image/png": "[encoded data removed]",
            "text/plain": [
              "<Figure size 432x288 with 2 Axes>"
            ]
          },
          "metadata": {
            "needs_background": "light"
          },
          "output_type": "display_data"
        }
      ],
      "source": [
        "cm = confusion_matrix(y_test, y_pred)\n",
        "ConfusionMatrixDisplay(cm).plot()"
      ]
    },
    {
      "cell_type": "markdown",
      "metadata": {
        "id": "fOm2wYmG3q6B"
      },
      "source": [
        "Redução da base de dados com seleção de características RFE"
      ]
    },
    {
      "cell_type": "code",
      "execution_count": null,
      "metadata": {
        "id": "GX3ebIc13w1i"
      },
      "outputs": [],
      "source": [
        "selector = RFE(knn, step=1)\n",
        "selector = selector.fit(X, y)\n",
        "\n",
        "#Armazena a nova dimensão do vetor de características\n",
        "features = selector.fit_transform(X,y)\n",
        "\n",
        "# instancia um DecisionTreeClassifier\n",
        "y_pred = selector.predict(X_test)\n",
        "\n",
        "print(selector.ranking_)\n",
        "print(selector.get_support(indices=True))\n",
        "\n",
        " # gerar score baseado na acurácia\n",
        "acc = round(accuracy_score(y_test,y_pred)*100,2)\n",
        "print(acc)"
      ]
    },
    {
      "cell_type": "code",
      "execution_count": null,
      "metadata": {
        "id": "IjeU4lAs38eR"
      },
      "outputs": [],
      "source": [
        "cols = pd.Series(selector.support_,index = df.drop(columns='Transported', axis=1).columns)\n",
        "wrapper = cols[cols==True].index\n",
        "print(wrapper)"
      ]
    },
    {
      "cell_type": "code",
      "execution_count": null,
      "metadata": {
        "id": "TVCS_1yd5hgF"
      },
      "outputs": [],
      "source": [
        "# Deixa no formato list\n",
        "featuresList = wrapper.tolist()"
      ]
    },
    {
      "cell_type": "code",
      "execution_count": null,
      "metadata": {
        "id": "ISYd-hjQ5jnC"
      },
      "outputs": [],
      "source": [
        "dfTeste = df[featuresList]"
      ]
    },
    {
      "cell_type": "code",
      "execution_count": null,
      "metadata": {
        "id": "JwlPpOWR5k_b"
      },
      "outputs": [],
      "source": [
        "X_train, X_test, y_train, y_test = train_test_split(dfTeste, y, test_size=0.3)"
      ]
    },
    {
      "cell_type": "code",
      "execution_count": null,
      "metadata": {
        "id": "wuK21BVA6Aj6"
      },
      "outputs": [],
      "source": [
        "knn = KNeighborsClassifier(n_neighbors=5, metric = 'euclidean')\n",
        "knn.fit(X_train, y_train)\n",
        "y_pred = knn.predict(X_test)\n",
        "cm = confusion_matrix(y_test,y_pred)\n",
        "print('Acurácia: ', metrics.accuracy_score(y_test, y_pred))\n",
        "print(cm)"
      ]
    }
  ],
  "metadata": {
    "colab": {
      "provenance": []
    },
    "kernelspec": {
      "display_name": "Python 3",
      "name": "python3"
    },
    "language_info": {
      "name": "python"
    }
  },
  "nbformat": 4,
  "nbformat_minor": 0
}
