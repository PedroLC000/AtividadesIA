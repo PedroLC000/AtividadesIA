{
  "nbformat": 4,
  "nbformat_minor": 0,
  "metadata": {
    "colab": {
      "provenance": []
    },
    "kernelspec": {
      "name": "python3",
      "display_name": "Python 3"
    },
    "language_info": {
      "name": "python"
    }
  },
  "cells": [
    {
      "cell_type": "code",
      "execution_count": null,
      "metadata": {
        "id": "_MvUU3RDJo6m"
      },
      "outputs": [],
      "source": [
        "import numpy as np\n",
        "import pandas as pd\n",
        "import seaborn as sns\n",
        "import matplotlib.pyplot as plt\n",
        "\n",
        "from sklearn.neighbors import KNeighborsClassifier\n",
        "from sklearn.preprocessing import StandardScaler\n",
        "from sklearn.model_selection import train_test_split\n",
        "\n",
        "from sklearn import metrics\n",
        "from sklearn.metrics import confusion_matrix, ConfusionMatrixDisplay\n",
        "\n",
        "import statistics  as sts\n",
        "\n",
        "from imblearn.over_sampling import SMOTE\n",
        "from sklearn.model_selection import StratifiedKFold\n",
        "\n",
        "from sklearn.svm import SVC"
      ]
    },
    {
      "cell_type": "code",
      "source": [
        "data = pd.read_csv('/content/output_esporos.csv')"
      ],
      "metadata": {
        "id": "OI1L1heyJvMa"
      },
      "execution_count": null,
      "outputs": []
    },
    {
      "cell_type": "code",
      "source": [
        "data.head()"
      ],
      "metadata": {
        "colab": {
          "base_uri": "https://localhost:8080/",
          "height": 357
        },
        "id": "NZw2Q9bUJwIZ",
        "outputId": "ed3777df-a4de-475f-e2a5-5eb107ad922e"
      },
      "execution_count": null,
      "outputs": [
        {
          "output_type": "execute_result",
          "data": {
            "text/plain": [
              "                                  Name  Histograma_G  Mean_Colors   meanExG  \\\n",
              "0  Amostra 15_10X_Frame1568_crop11.png      5.636719    95.446985  5.636719   \n",
              "1   Amostra 15_10X_Frame1576_crop1.png      6.000000    98.282552  6.000000   \n",
              "2   Amostra 15_10X_Frame1576_crop3.png      6.445312    99.005051  6.445312   \n",
              "3  Amostra 15_10X_Frame1705_crop18.png      6.214844    94.723444  6.214844   \n",
              "4   Amostra 15_10X_Frame1705_crop5.png      5.796875   102.623540  5.796875   \n",
              "\n",
              "   meanCIVE  meanNVDI    Haralick   Zernike      LBP  Equi_diameter    Area  \\\n",
              "0  5.636719  5.636719  786.169383  0.036823  180.375      40.527509  1290.0   \n",
              "1  6.000000  6.000000  585.093028  0.027636  192.000      43.070988  1457.0   \n",
              "2  6.445312  6.445312  804.215581  0.038723  206.250      42.061459  1389.5   \n",
              "3  6.214844  6.214844  586.029191  0.028189  198.875      42.483138  1417.5   \n",
              "4  5.796875  5.796875  553.465158  0.030225  185.500      42.280354  1404.0   \n",
              "\n",
              "   Aspect_Ratio  Resultado  \n",
              "0      1.054054          1  \n",
              "1      0.666667          1  \n",
              "2      1.515152          1  \n",
              "3      0.860465          1  \n",
              "4      0.528302          1  "
            ],
            "text/html": [
              "\n",
              "  <div id=\"df-c5cefa18-a189-4397-a94e-dc2decc74a57\">\n",
              "    <div class=\"colab-df-container\">\n",
              "      <div>\n",
              "<style scoped>\n",
              "    .dataframe tbody tr th:only-of-type {\n",
              "        vertical-align: middle;\n",
              "    }\n",
              "\n",
              "    .dataframe tbody tr th {\n",
              "        vertical-align: top;\n",
              "    }\n",
              "\n",
              "    .dataframe thead th {\n",
              "        text-align: right;\n",
              "    }\n",
              "</style>\n",
              "<table border=\"1\" class=\"dataframe\">\n",
              "  <thead>\n",
              "    <tr style=\"text-align: right;\">\n",
              "      <th></th>\n",
              "      <th>Name</th>\n",
              "      <th>Histograma_G</th>\n",
              "      <th>Mean_Colors</th>\n",
              "      <th>meanExG</th>\n",
              "      <th>meanCIVE</th>\n",
              "      <th>meanNVDI</th>\n",
              "      <th>Haralick</th>\n",
              "      <th>Zernike</th>\n",
              "      <th>LBP</th>\n",
              "      <th>Equi_diameter</th>\n",
              "      <th>Area</th>\n",
              "      <th>Aspect_Ratio</th>\n",
              "      <th>Resultado</th>\n",
              "    </tr>\n",
              "  </thead>\n",
              "  <tbody>\n",
              "    <tr>\n",
              "      <th>0</th>\n",
              "      <td>Amostra 15_10X_Frame1568_crop11.png</td>\n",
              "      <td>5.636719</td>\n",
              "      <td>95.446985</td>\n",
              "      <td>5.636719</td>\n",
              "      <td>5.636719</td>\n",
              "      <td>5.636719</td>\n",
              "      <td>786.169383</td>\n",
              "      <td>0.036823</td>\n",
              "      <td>180.375</td>\n",
              "      <td>40.527509</td>\n",
              "      <td>1290.0</td>\n",
              "      <td>1.054054</td>\n",
              "      <td>1</td>\n",
              "    </tr>\n",
              "    <tr>\n",
              "      <th>1</th>\n",
              "      <td>Amostra 15_10X_Frame1576_crop1.png</td>\n",
              "      <td>6.000000</td>\n",
              "      <td>98.282552</td>\n",
              "      <td>6.000000</td>\n",
              "      <td>6.000000</td>\n",
              "      <td>6.000000</td>\n",
              "      <td>585.093028</td>\n",
              "      <td>0.027636</td>\n",
              "      <td>192.000</td>\n",
              "      <td>43.070988</td>\n",
              "      <td>1457.0</td>\n",
              "      <td>0.666667</td>\n",
              "      <td>1</td>\n",
              "    </tr>\n",
              "    <tr>\n",
              "      <th>2</th>\n",
              "      <td>Amostra 15_10X_Frame1576_crop3.png</td>\n",
              "      <td>6.445312</td>\n",
              "      <td>99.005051</td>\n",
              "      <td>6.445312</td>\n",
              "      <td>6.445312</td>\n",
              "      <td>6.445312</td>\n",
              "      <td>804.215581</td>\n",
              "      <td>0.038723</td>\n",
              "      <td>206.250</td>\n",
              "      <td>42.061459</td>\n",
              "      <td>1389.5</td>\n",
              "      <td>1.515152</td>\n",
              "      <td>1</td>\n",
              "    </tr>\n",
              "    <tr>\n",
              "      <th>3</th>\n",
              "      <td>Amostra 15_10X_Frame1705_crop18.png</td>\n",
              "      <td>6.214844</td>\n",
              "      <td>94.723444</td>\n",
              "      <td>6.214844</td>\n",
              "      <td>6.214844</td>\n",
              "      <td>6.214844</td>\n",
              "      <td>586.029191</td>\n",
              "      <td>0.028189</td>\n",
              "      <td>198.875</td>\n",
              "      <td>42.483138</td>\n",
              "      <td>1417.5</td>\n",
              "      <td>0.860465</td>\n",
              "      <td>1</td>\n",
              "    </tr>\n",
              "    <tr>\n",
              "      <th>4</th>\n",
              "      <td>Amostra 15_10X_Frame1705_crop5.png</td>\n",
              "      <td>5.796875</td>\n",
              "      <td>102.623540</td>\n",
              "      <td>5.796875</td>\n",
              "      <td>5.796875</td>\n",
              "      <td>5.796875</td>\n",
              "      <td>553.465158</td>\n",
              "      <td>0.030225</td>\n",
              "      <td>185.500</td>\n",
              "      <td>42.280354</td>\n",
              "      <td>1404.0</td>\n",
              "      <td>0.528302</td>\n",
              "      <td>1</td>\n",
              "    </tr>\n",
              "  </tbody>\n",
              "</table>\n",
              "</div>\n",
              "      <button class=\"colab-df-convert\" onclick=\"convertToInteractive('df-c5cefa18-a189-4397-a94e-dc2decc74a57')\"\n",
              "              title=\"Convert this dataframe to an interactive table.\"\n",
              "              style=\"display:none;\">\n",
              "        \n",
              "  <svg xmlns=\"http://www.w3.org/2000/svg\" height=\"24px\"viewBox=\"0 0 24 24\"\n",
              "       width=\"24px\">\n",
              "    <path d=\"M0 0h24v24H0V0z\" fill=\"none\"/>\n",
              "    <path d=\"M18.56 5.44l.94 2.06.94-2.06 2.06-.94-2.06-.94-.94-2.06-.94 2.06-2.06.94zm-11 1L8.5 8.5l.94-2.06 2.06-.94-2.06-.94L8.5 2.5l-.94 2.06-2.06.94zm10 10l.94 2.06.94-2.06 2.06-.94-2.06-.94-.94-2.06-.94 2.06-2.06.94z\"/><path d=\"M17.41 7.96l-1.37-1.37c-.4-.4-.92-.59-1.43-.59-.52 0-1.04.2-1.43.59L10.3 9.45l-7.72 7.72c-.78.78-.78 2.05 0 2.83L4 21.41c.39.39.9.59 1.41.59.51 0 1.02-.2 1.41-.59l7.78-7.78 2.81-2.81c.8-.78.8-2.07 0-2.86zM5.41 20L4 18.59l7.72-7.72 1.47 1.35L5.41 20z\"/>\n",
              "  </svg>\n",
              "      </button>\n",
              "      \n",
              "  <style>\n",
              "    .colab-df-container {\n",
              "      display:flex;\n",
              "      flex-wrap:wrap;\n",
              "      gap: 12px;\n",
              "    }\n",
              "\n",
              "    .colab-df-convert {\n",
              "      background-color: #E8F0FE;\n",
              "      border: none;\n",
              "      border-radius: 50%;\n",
              "      cursor: pointer;\n",
              "      display: none;\n",
              "      fill: #1967D2;\n",
              "      height: 32px;\n",
              "      padding: 0 0 0 0;\n",
              "      width: 32px;\n",
              "    }\n",
              "\n",
              "    .colab-df-convert:hover {\n",
              "      background-color: #E2EBFA;\n",
              "      box-shadow: 0px 1px 2px rgba(60, 64, 67, 0.3), 0px 1px 3px 1px rgba(60, 64, 67, 0.15);\n",
              "      fill: #174EA6;\n",
              "    }\n",
              "\n",
              "    [theme=dark] .colab-df-convert {\n",
              "      background-color: #3B4455;\n",
              "      fill: #D2E3FC;\n",
              "    }\n",
              "\n",
              "    [theme=dark] .colab-df-convert:hover {\n",
              "      background-color: #434B5C;\n",
              "      box-shadow: 0px 1px 3px 1px rgba(0, 0, 0, 0.15);\n",
              "      filter: drop-shadow(0px 1px 2px rgba(0, 0, 0, 0.3));\n",
              "      fill: #FFFFFF;\n",
              "    }\n",
              "  </style>\n",
              "\n",
              "      <script>\n",
              "        const buttonEl =\n",
              "          document.querySelector('#df-c5cefa18-a189-4397-a94e-dc2decc74a57 button.colab-df-convert');\n",
              "        buttonEl.style.display =\n",
              "          google.colab.kernel.accessAllowed ? 'block' : 'none';\n",
              "\n",
              "        async function convertToInteractive(key) {\n",
              "          const element = document.querySelector('#df-c5cefa18-a189-4397-a94e-dc2decc74a57');\n",
              "          const dataTable =\n",
              "            await google.colab.kernel.invokeFunction('convertToInteractive',\n",
              "                                                     [key], {});\n",
              "          if (!dataTable) return;\n",
              "\n",
              "          const docLinkHtml = 'Like what you see? Visit the ' +\n",
              "            '<a target=\"_blank\" href=https://colab.research.google.com/notebooks/data_table.ipynb>data table notebook</a>'\n",
              "            + ' to learn more about interactive tables.';\n",
              "          element.innerHTML = '';\n",
              "          dataTable['output_type'] = 'display_data';\n",
              "          await google.colab.output.renderOutput(dataTable, element);\n",
              "          const docLink = document.createElement('div');\n",
              "          docLink.innerHTML = docLinkHtml;\n",
              "          element.appendChild(docLink);\n",
              "        }\n",
              "      </script>\n",
              "    </div>\n",
              "  </div>\n",
              "  "
            ]
          },
          "metadata": {},
          "execution_count": 38
        }
      ]
    },
    {
      "cell_type": "code",
      "source": [
        "X = data.drop(['Name', 'Resultado'], axis=1).values\n",
        "y = data['Resultado'].values"
      ],
      "metadata": {
        "id": "0hKHf9hfJxr6"
      },
      "execution_count": null,
      "outputs": []
    },
    {
      "cell_type": "code",
      "source": [
        "X_train, X_test, y_train, y_test = train_test_split(X, y, test_size=0.3)"
      ],
      "metadata": {
        "id": "EyRulV7yp6ZG"
      },
      "execution_count": null,
      "outputs": []
    },
    {
      "cell_type": "code",
      "source": [
        "scaler = StandardScaler()\n",
        "scaler.fit(X_train)\n",
        "\n",
        "X_train = scaler.transform(X_train)\n",
        "X_test = scaler.transform(X_test)"
      ],
      "metadata": {
        "id": "_B59wPn3qGCK"
      },
      "execution_count": null,
      "outputs": []
    },
    {
      "cell_type": "code",
      "source": [
        "sm = SMOTE()\n",
        "x_train_oversampled, y_train_oversampled = sm.fit_resample(X_train, y_train)"
      ],
      "metadata": {
        "id": "4RozF_xdp7tp"
      },
      "execution_count": null,
      "outputs": []
    },
    {
      "cell_type": "markdown",
      "source": [
        "**KNN**"
      ],
      "metadata": {
        "id": "Ye0VhFMkr35r"
      }
    },
    {
      "cell_type": "code",
      "source": [
        "# experimenting with different n values\n",
        "k = 5\n",
        "knn = KNeighborsClassifier(n_neighbors=k, metric = 'euclidean')\n",
        "knn.fit(x_train_oversampled, y_train_oversampled)\n",
        "#==\n",
        "#Score\n",
        "#==\n",
        "forest_score = knn.score(x_train_oversampled, y_train_oversampled)\n",
        "forest_test = knn.score(X_test, y_test)\n",
        "#==\n",
        "#testing model\n",
        "#==\n",
        "y_pred = knn.predict(X_test)\n",
        "#==\n",
        "#evaluation\n",
        "#==\n",
        "cm = confusion_matrix(y_test,y_pred)\n",
        "print('Training Score',forest_score)\n",
        "print('Testing Score \\n',forest_test)\n",
        "print(cm)"
      ],
      "metadata": {
        "colab": {
          "base_uri": "https://localhost:8080/"
        },
        "id": "f6N_sTiGJ8vD",
        "outputId": "8ec3c631-4b7f-4862-f76b-ac27d713e74b"
      },
      "execution_count": null,
      "outputs": [
        {
          "output_type": "stream",
          "name": "stdout",
          "text": [
            "Training Score 0.9066176470588235\n",
            "Testing Score \n",
            " 0.7648902821316614\n",
            "[[222  64]\n",
            " [ 11  22]]\n"
          ]
        }
      ]
    },
    {
      "cell_type": "markdown",
      "source": [
        "**SVM**"
      ],
      "metadata": {
        "id": "ZIXTWoEyr64Y"
      }
    },
    {
      "cell_type": "code",
      "source": [
        "svc = SVC(random_state=0)\n",
        "svc.fit(x_train_oversampled, y_train_oversampled)\n",
        "#==\n",
        "#Score\n",
        "#==\n",
        "svc_score = svc.score(x_train_oversampled, y_train_oversampled)\n",
        "svc_test = svc.score(X_test, y_test)\n",
        "#==\n",
        "#testing model\n",
        "#==\n",
        "y_pred = svc.predict(X_test)\n",
        "#==\n",
        "#evaluation\n",
        "#==\n",
        "cm = confusion_matrix(y_test,y_pred)\n",
        "print('Training Score',svc_score)\n",
        "print('Testing Score \\n',svc_test)\n",
        "print(cm)"
      ],
      "metadata": {
        "colab": {
          "base_uri": "https://localhost:8080/"
        },
        "id": "04lw6w7Mr9ft",
        "outputId": "add51121-3f09-453d-9888-9b107285a4f4"
      },
      "execution_count": null,
      "outputs": [
        {
          "output_type": "stream",
          "name": "stdout",
          "text": [
            "Training Score 0.8823529411764706\n",
            "Testing Score \n",
            " 0.7962382445141066\n",
            "[[233  53]\n",
            " [ 12  21]]\n"
          ]
        }
      ]
    }
  ]
}