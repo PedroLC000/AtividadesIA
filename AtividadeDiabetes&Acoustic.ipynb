{
  "nbformat": 4,
  "nbformat_minor": 0,
  "metadata": {
    "colab": {
      "provenance": []
    },
    "kernelspec": {
      "name": "python3",
      "display_name": "Python 3"
    },
    "language_info": {
      "name": "python"
    }
  },
  "cells": [
    {
      "cell_type": "code",
      "execution_count": null,
      "metadata": {
        "id": "RLJbRiEURxpr"
      },
      "outputs": [],
      "source": [
        "import numpy as np\n",
        "import pandas as pd\n",
        "import seaborn as sns\n",
        "import matplotlib.pyplot as plt\n",
        "\n",
        "from sklearn.neighbors import KNeighborsClassifier\n",
        "from sklearn.preprocessing import StandardScaler\n",
        "from sklearn.model_selection import train_test_split\n",
        "\n",
        "from sklearn import metrics\n",
        "\n",
        "from sklearn.preprocessing import LabelEncoder\n",
        "\n",
        "from sklearn.metrics import (accuracy_score)\n",
        "\n",
        "from sklearn.metrics import confusion_matrix, ConfusionMatrixDisplay\n",
        "import seaborn as sns"
      ]
    },
    {
      "cell_type": "code",
      "source": [
        "data_diabetes = pd.read_csv('/content/diabetes.csv')\n",
        "data_acoustic = pd.read_csv('/content/Acoustic Features.csv')"
      ],
      "metadata": {
        "id": "lvLcT30rS5ko"
      },
      "execution_count": null,
      "outputs": []
    },
    {
      "cell_type": "code",
      "source": [
        "data_diabetes.head()"
      ],
      "metadata": {
        "colab": {
          "base_uri": "https://localhost:8080/",
          "height": 206
        },
        "id": "bBGqCj3dS58Z",
        "outputId": "85f19843-3482-4d27-e95a-994569c2465c"
      },
      "execution_count": null,
      "outputs": [
        {
          "output_type": "execute_result",
          "data": {
            "text/plain": [
              "   Pregnancies  Glucose  BloodPressure  SkinThickness  Insulin   BMI  \\\n",
              "0            6      148             72             35        0  33.6   \n",
              "1            1       85             66             29        0  26.6   \n",
              "2            8      183             64              0        0  23.3   \n",
              "3            1       89             66             23       94  28.1   \n",
              "4            0      137             40             35      168  43.1   \n",
              "\n",
              "   DiabetesPedigreeFunction  Age  Outcome  \n",
              "0                     0.627   50        1  \n",
              "1                     0.351   31        0  \n",
              "2                     0.672   32        1  \n",
              "3                     0.167   21        0  \n",
              "4                     2.288   33        1  "
            ],
            "text/html": [
              "\n",
              "  <div id=\"df-737397c6-e00d-42d2-9943-e1f755ea7688\">\n",
              "    <div class=\"colab-df-container\">\n",
              "      <div>\n",
              "<style scoped>\n",
              "    .dataframe tbody tr th:only-of-type {\n",
              "        vertical-align: middle;\n",
              "    }\n",
              "\n",
              "    .dataframe tbody tr th {\n",
              "        vertical-align: top;\n",
              "    }\n",
              "\n",
              "    .dataframe thead th {\n",
              "        text-align: right;\n",
              "    }\n",
              "</style>\n",
              "<table border=\"1\" class=\"dataframe\">\n",
              "  <thead>\n",
              "    <tr style=\"text-align: right;\">\n",
              "      <th></th>\n",
              "      <th>Pregnancies</th>\n",
              "      <th>Glucose</th>\n",
              "      <th>BloodPressure</th>\n",
              "      <th>SkinThickness</th>\n",
              "      <th>Insulin</th>\n",
              "      <th>BMI</th>\n",
              "      <th>DiabetesPedigreeFunction</th>\n",
              "      <th>Age</th>\n",
              "      <th>Outcome</th>\n",
              "    </tr>\n",
              "  </thead>\n",
              "  <tbody>\n",
              "    <tr>\n",
              "      <th>0</th>\n",
              "      <td>6</td>\n",
              "      <td>148</td>\n",
              "      <td>72</td>\n",
              "      <td>35</td>\n",
              "      <td>0</td>\n",
              "      <td>33.6</td>\n",
              "      <td>0.627</td>\n",
              "      <td>50</td>\n",
              "      <td>1</td>\n",
              "    </tr>\n",
              "    <tr>\n",
              "      <th>1</th>\n",
              "      <td>1</td>\n",
              "      <td>85</td>\n",
              "      <td>66</td>\n",
              "      <td>29</td>\n",
              "      <td>0</td>\n",
              "      <td>26.6</td>\n",
              "      <td>0.351</td>\n",
              "      <td>31</td>\n",
              "      <td>0</td>\n",
              "    </tr>\n",
              "    <tr>\n",
              "      <th>2</th>\n",
              "      <td>8</td>\n",
              "      <td>183</td>\n",
              "      <td>64</td>\n",
              "      <td>0</td>\n",
              "      <td>0</td>\n",
              "      <td>23.3</td>\n",
              "      <td>0.672</td>\n",
              "      <td>32</td>\n",
              "      <td>1</td>\n",
              "    </tr>\n",
              "    <tr>\n",
              "      <th>3</th>\n",
              "      <td>1</td>\n",
              "      <td>89</td>\n",
              "      <td>66</td>\n",
              "      <td>23</td>\n",
              "      <td>94</td>\n",
              "      <td>28.1</td>\n",
              "      <td>0.167</td>\n",
              "      <td>21</td>\n",
              "      <td>0</td>\n",
              "    </tr>\n",
              "    <tr>\n",
              "      <th>4</th>\n",
              "      <td>0</td>\n",
              "      <td>137</td>\n",
              "      <td>40</td>\n",
              "      <td>35</td>\n",
              "      <td>168</td>\n",
              "      <td>43.1</td>\n",
              "      <td>2.288</td>\n",
              "      <td>33</td>\n",
              "      <td>1</td>\n",
              "    </tr>\n",
              "  </tbody>\n",
              "</table>\n",
              "</div>\n",
              "      <button class=\"colab-df-convert\" onclick=\"convertToInteractive('df-737397c6-e00d-42d2-9943-e1f755ea7688')\"\n",
              "              title=\"Convert this dataframe to an interactive table.\"\n",
              "              style=\"display:none;\">\n",
              "        \n",
              "  <svg xmlns=\"http://www.w3.org/2000/svg\" height=\"24px\"viewBox=\"0 0 24 24\"\n",
              "       width=\"24px\">\n",
              "    <path d=\"M0 0h24v24H0V0z\" fill=\"none\"/>\n",
              "    <path d=\"M18.56 5.44l.94 2.06.94-2.06 2.06-.94-2.06-.94-.94-2.06-.94 2.06-2.06.94zm-11 1L8.5 8.5l.94-2.06 2.06-.94-2.06-.94L8.5 2.5l-.94 2.06-2.06.94zm10 10l.94 2.06.94-2.06 2.06-.94-2.06-.94-.94-2.06-.94 2.06-2.06.94z\"/><path d=\"M17.41 7.96l-1.37-1.37c-.4-.4-.92-.59-1.43-.59-.52 0-1.04.2-1.43.59L10.3 9.45l-7.72 7.72c-.78.78-.78 2.05 0 2.83L4 21.41c.39.39.9.59 1.41.59.51 0 1.02-.2 1.41-.59l7.78-7.78 2.81-2.81c.8-.78.8-2.07 0-2.86zM5.41 20L4 18.59l7.72-7.72 1.47 1.35L5.41 20z\"/>\n",
              "  </svg>\n",
              "      </button>\n",
              "      \n",
              "  <style>\n",
              "    .colab-df-container {\n",
              "      display:flex;\n",
              "      flex-wrap:wrap;\n",
              "      gap: 12px;\n",
              "    }\n",
              "\n",
              "    .colab-df-convert {\n",
              "      background-color: #E8F0FE;\n",
              "      border: none;\n",
              "      border-radius: 50%;\n",
              "      cursor: pointer;\n",
              "      display: none;\n",
              "      fill: #1967D2;\n",
              "      height: 32px;\n",
              "      padding: 0 0 0 0;\n",
              "      width: 32px;\n",
              "    }\n",
              "\n",
              "    .colab-df-convert:hover {\n",
              "      background-color: #E2EBFA;\n",
              "      box-shadow: 0px 1px 2px rgba(60, 64, 67, 0.3), 0px 1px 3px 1px rgba(60, 64, 67, 0.15);\n",
              "      fill: #174EA6;\n",
              "    }\n",
              "\n",
              "    [theme=dark] .colab-df-convert {\n",
              "      background-color: #3B4455;\n",
              "      fill: #D2E3FC;\n",
              "    }\n",
              "\n",
              "    [theme=dark] .colab-df-convert:hover {\n",
              "      background-color: #434B5C;\n",
              "      box-shadow: 0px 1px 3px 1px rgba(0, 0, 0, 0.15);\n",
              "      filter: drop-shadow(0px 1px 2px rgba(0, 0, 0, 0.3));\n",
              "      fill: #FFFFFF;\n",
              "    }\n",
              "  </style>\n",
              "\n",
              "      <script>\n",
              "        const buttonEl =\n",
              "          document.querySelector('#df-737397c6-e00d-42d2-9943-e1f755ea7688 button.colab-df-convert');\n",
              "        buttonEl.style.display =\n",
              "          google.colab.kernel.accessAllowed ? 'block' : 'none';\n",
              "\n",
              "        async function convertToInteractive(key) {\n",
              "          const element = document.querySelector('#df-737397c6-e00d-42d2-9943-e1f755ea7688');\n",
              "          const dataTable =\n",
              "            await google.colab.kernel.invokeFunction('convertToInteractive',\n",
              "                                                     [key], {});\n",
              "          if (!dataTable) return;\n",
              "\n",
              "          const docLinkHtml = 'Like what you see? Visit the ' +\n",
              "            '<a target=\"_blank\" href=https://colab.research.google.com/notebooks/data_table.ipynb>data table notebook</a>'\n",
              "            + ' to learn more about interactive tables.';\n",
              "          element.innerHTML = '';\n",
              "          dataTable['output_type'] = 'display_data';\n",
              "          await google.colab.output.renderOutput(dataTable, element);\n",
              "          const docLink = document.createElement('div');\n",
              "          docLink.innerHTML = docLinkHtml;\n",
              "          element.appendChild(docLink);\n",
              "        }\n",
              "      </script>\n",
              "    </div>\n",
              "  </div>\n",
              "  "
            ]
          },
          "metadata": {},
          "execution_count": 130
        }
      ]
    },
    {
      "cell_type": "code",
      "source": [
        "data_diabetes.info()"
      ],
      "metadata": {
        "colab": {
          "base_uri": "https://localhost:8080/"
        },
        "id": "4uKddAV6TS0t",
        "outputId": "63351246-345f-44b3-97f1-803e3c937015"
      },
      "execution_count": null,
      "outputs": [
        {
          "output_type": "stream",
          "name": "stdout",
          "text": [
            "<class 'pandas.core.frame.DataFrame'>\n",
            "RangeIndex: 768 entries, 0 to 767\n",
            "Data columns (total 9 columns):\n",
            " #   Column                    Non-Null Count  Dtype  \n",
            "---  ------                    --------------  -----  \n",
            " 0   Pregnancies               768 non-null    int64  \n",
            " 1   Glucose                   768 non-null    int64  \n",
            " 2   BloodPressure             768 non-null    int64  \n",
            " 3   SkinThickness             768 non-null    int64  \n",
            " 4   Insulin                   768 non-null    int64  \n",
            " 5   BMI                       768 non-null    float64\n",
            " 6   DiabetesPedigreeFunction  768 non-null    float64\n",
            " 7   Age                       768 non-null    int64  \n",
            " 8   Outcome                   768 non-null    int64  \n",
            "dtypes: float64(2), int64(7)\n",
            "memory usage: 54.1 KB\n"
          ]
        }
      ]
    },
    {
      "cell_type": "code",
      "source": [
        "data_acoustic.head()"
      ],
      "metadata": {
        "colab": {
          "base_uri": "https://localhost:8080/",
          "height": 299
        },
        "id": "go_SF4hyTQlI",
        "outputId": "25312e56-4198-4775-d303-655000caaa2b"
      },
      "execution_count": null,
      "outputs": [
        {
          "output_type": "execute_result",
          "data": {
            "text/plain": [
              "   Class  _RMSenergy_Mean  _Lowenergy_Mean  _Fluctuation_Mean  _Tempo_Mean  \\\n",
              "0  relax            0.052            0.591              9.136      130.043   \n",
              "1  relax            0.125            0.439              6.680      142.240   \n",
              "2  relax            0.046            0.639             10.578      188.154   \n",
              "3  relax            0.135            0.603             10.442       65.991   \n",
              "4  relax            0.066            0.591              9.769       88.890   \n",
              "\n",
              "   _MFCC_Mean_1  _MFCC_Mean_2  _MFCC_Mean_3  _MFCC_Mean_4  _MFCC_Mean_5  ...  \\\n",
              "0         3.997         0.363         0.887         0.078         0.221  ...   \n",
              "1         4.058         0.516         0.785         0.397         0.556  ...   \n",
              "2         2.775         0.903         0.502         0.329         0.287  ...   \n",
              "3         2.841         1.552         0.612         0.351         0.011  ...   \n",
              "4         3.217         0.228         0.814         0.096         0.434  ...   \n",
              "\n",
              "   _Chromagram_Mean_9  _Chromagram_Mean_10  _Chromagram_Mean_11  \\\n",
              "0               0.426                1.000                0.008   \n",
              "1               0.002                1.000                0.000   \n",
              "2               0.184                0.746                0.016   \n",
              "3               0.038                1.000                0.161   \n",
              "4               0.004                0.404                1.000   \n",
              "\n",
              "   _Chromagram_Mean_12  _HarmonicChangeDetectionFunction_Mean  \\\n",
              "0                0.101                                  0.316   \n",
              "1                0.984                                  0.285   \n",
              "2                1.000                                  0.413   \n",
              "3                0.757                                  0.422   \n",
              "4                0.001                                  0.345   \n",
              "\n",
              "   _HarmonicChangeDetectionFunction_Std  \\\n",
              "0                                 0.261   \n",
              "1                                 0.211   \n",
              "2                                 0.299   \n",
              "3                                 0.265   \n",
              "4                                 0.261   \n",
              "\n",
              "   _HarmonicChangeDetectionFunction_Slope  \\\n",
              "0                                   0.018   \n",
              "1                                  -0.082   \n",
              "2                                   0.134   \n",
              "3                                   0.042   \n",
              "4                                   0.089   \n",
              "\n",
              "   _HarmonicChangeDetectionFunction_PeriodFreq  \\\n",
              "0                                        1.035   \n",
              "1                                        3.364   \n",
              "2                                        1.682   \n",
              "3                                        0.354   \n",
              "4                                        0.748   \n",
              "\n",
              "   _HarmonicChangeDetectionFunction_PeriodAmp  \\\n",
              "0                                       0.593   \n",
              "1                                       0.702   \n",
              "2                                       0.692   \n",
              "3                                       0.743   \n",
              "4                                       0.674   \n",
              "\n",
              "   _HarmonicChangeDetectionFunction_PeriodEntropy  \n",
              "0                                           0.970  \n",
              "1                                           0.967  \n",
              "2                                           0.963  \n",
              "3                                           0.968  \n",
              "4                                           0.957  \n",
              "\n",
              "[5 rows x 51 columns]"
            ],
            "text/html": [
              "\n",
              "  <div id=\"df-a2dd5759-c884-401a-a2dc-9719bcd6e80d\">\n",
              "    <div class=\"colab-df-container\">\n",
              "      <div>\n",
              "<style scoped>\n",
              "    .dataframe tbody tr th:only-of-type {\n",
              "        vertical-align: middle;\n",
              "    }\n",
              "\n",
              "    .dataframe tbody tr th {\n",
              "        vertical-align: top;\n",
              "    }\n",
              "\n",
              "    .dataframe thead th {\n",
              "        text-align: right;\n",
              "    }\n",
              "</style>\n",
              "<table border=\"1\" class=\"dataframe\">\n",
              "  <thead>\n",
              "    <tr style=\"text-align: right;\">\n",
              "      <th></th>\n",
              "      <th>Class</th>\n",
              "      <th>_RMSenergy_Mean</th>\n",
              "      <th>_Lowenergy_Mean</th>\n",
              "      <th>_Fluctuation_Mean</th>\n",
              "      <th>_Tempo_Mean</th>\n",
              "      <th>_MFCC_Mean_1</th>\n",
              "      <th>_MFCC_Mean_2</th>\n",
              "      <th>_MFCC_Mean_3</th>\n",
              "      <th>_MFCC_Mean_4</th>\n",
              "      <th>_MFCC_Mean_5</th>\n",
              "      <th>...</th>\n",
              "      <th>_Chromagram_Mean_9</th>\n",
              "      <th>_Chromagram_Mean_10</th>\n",
              "      <th>_Chromagram_Mean_11</th>\n",
              "      <th>_Chromagram_Mean_12</th>\n",
              "      <th>_HarmonicChangeDetectionFunction_Mean</th>\n",
              "      <th>_HarmonicChangeDetectionFunction_Std</th>\n",
              "      <th>_HarmonicChangeDetectionFunction_Slope</th>\n",
              "      <th>_HarmonicChangeDetectionFunction_PeriodFreq</th>\n",
              "      <th>_HarmonicChangeDetectionFunction_PeriodAmp</th>\n",
              "      <th>_HarmonicChangeDetectionFunction_PeriodEntropy</th>\n",
              "    </tr>\n",
              "  </thead>\n",
              "  <tbody>\n",
              "    <tr>\n",
              "      <th>0</th>\n",
              "      <td>relax</td>\n",
              "      <td>0.052</td>\n",
              "      <td>0.591</td>\n",
              "      <td>9.136</td>\n",
              "      <td>130.043</td>\n",
              "      <td>3.997</td>\n",
              "      <td>0.363</td>\n",
              "      <td>0.887</td>\n",
              "      <td>0.078</td>\n",
              "      <td>0.221</td>\n",
              "      <td>...</td>\n",
              "      <td>0.426</td>\n",
              "      <td>1.000</td>\n",
              "      <td>0.008</td>\n",
              "      <td>0.101</td>\n",
              "      <td>0.316</td>\n",
              "      <td>0.261</td>\n",
              "      <td>0.018</td>\n",
              "      <td>1.035</td>\n",
              "      <td>0.593</td>\n",
              "      <td>0.970</td>\n",
              "    </tr>\n",
              "    <tr>\n",
              "      <th>1</th>\n",
              "      <td>relax</td>\n",
              "      <td>0.125</td>\n",
              "      <td>0.439</td>\n",
              "      <td>6.680</td>\n",
              "      <td>142.240</td>\n",
              "      <td>4.058</td>\n",
              "      <td>0.516</td>\n",
              "      <td>0.785</td>\n",
              "      <td>0.397</td>\n",
              "      <td>0.556</td>\n",
              "      <td>...</td>\n",
              "      <td>0.002</td>\n",
              "      <td>1.000</td>\n",
              "      <td>0.000</td>\n",
              "      <td>0.984</td>\n",
              "      <td>0.285</td>\n",
              "      <td>0.211</td>\n",
              "      <td>-0.082</td>\n",
              "      <td>3.364</td>\n",
              "      <td>0.702</td>\n",
              "      <td>0.967</td>\n",
              "    </tr>\n",
              "    <tr>\n",
              "      <th>2</th>\n",
              "      <td>relax</td>\n",
              "      <td>0.046</td>\n",
              "      <td>0.639</td>\n",
              "      <td>10.578</td>\n",
              "      <td>188.154</td>\n",
              "      <td>2.775</td>\n",
              "      <td>0.903</td>\n",
              "      <td>0.502</td>\n",
              "      <td>0.329</td>\n",
              "      <td>0.287</td>\n",
              "      <td>...</td>\n",
              "      <td>0.184</td>\n",
              "      <td>0.746</td>\n",
              "      <td>0.016</td>\n",
              "      <td>1.000</td>\n",
              "      <td>0.413</td>\n",
              "      <td>0.299</td>\n",
              "      <td>0.134</td>\n",
              "      <td>1.682</td>\n",
              "      <td>0.692</td>\n",
              "      <td>0.963</td>\n",
              "    </tr>\n",
              "    <tr>\n",
              "      <th>3</th>\n",
              "      <td>relax</td>\n",
              "      <td>0.135</td>\n",
              "      <td>0.603</td>\n",
              "      <td>10.442</td>\n",
              "      <td>65.991</td>\n",
              "      <td>2.841</td>\n",
              "      <td>1.552</td>\n",
              "      <td>0.612</td>\n",
              "      <td>0.351</td>\n",
              "      <td>0.011</td>\n",
              "      <td>...</td>\n",
              "      <td>0.038</td>\n",
              "      <td>1.000</td>\n",
              "      <td>0.161</td>\n",
              "      <td>0.757</td>\n",
              "      <td>0.422</td>\n",
              "      <td>0.265</td>\n",
              "      <td>0.042</td>\n",
              "      <td>0.354</td>\n",
              "      <td>0.743</td>\n",
              "      <td>0.968</td>\n",
              "    </tr>\n",
              "    <tr>\n",
              "      <th>4</th>\n",
              "      <td>relax</td>\n",
              "      <td>0.066</td>\n",
              "      <td>0.591</td>\n",
              "      <td>9.769</td>\n",
              "      <td>88.890</td>\n",
              "      <td>3.217</td>\n",
              "      <td>0.228</td>\n",
              "      <td>0.814</td>\n",
              "      <td>0.096</td>\n",
              "      <td>0.434</td>\n",
              "      <td>...</td>\n",
              "      <td>0.004</td>\n",
              "      <td>0.404</td>\n",
              "      <td>1.000</td>\n",
              "      <td>0.001</td>\n",
              "      <td>0.345</td>\n",
              "      <td>0.261</td>\n",
              "      <td>0.089</td>\n",
              "      <td>0.748</td>\n",
              "      <td>0.674</td>\n",
              "      <td>0.957</td>\n",
              "    </tr>\n",
              "  </tbody>\n",
              "</table>\n",
              "<p>5 rows × 51 columns</p>\n",
              "</div>\n",
              "      <button class=\"colab-df-convert\" onclick=\"convertToInteractive('df-a2dd5759-c884-401a-a2dc-9719bcd6e80d')\"\n",
              "              title=\"Convert this dataframe to an interactive table.\"\n",
              "              style=\"display:none;\">\n",
              "        \n",
              "  <svg xmlns=\"http://www.w3.org/2000/svg\" height=\"24px\"viewBox=\"0 0 24 24\"\n",
              "       width=\"24px\">\n",
              "    <path d=\"M0 0h24v24H0V0z\" fill=\"none\"/>\n",
              "    <path d=\"M18.56 5.44l.94 2.06.94-2.06 2.06-.94-2.06-.94-.94-2.06-.94 2.06-2.06.94zm-11 1L8.5 8.5l.94-2.06 2.06-.94-2.06-.94L8.5 2.5l-.94 2.06-2.06.94zm10 10l.94 2.06.94-2.06 2.06-.94-2.06-.94-.94-2.06-.94 2.06-2.06.94z\"/><path d=\"M17.41 7.96l-1.37-1.37c-.4-.4-.92-.59-1.43-.59-.52 0-1.04.2-1.43.59L10.3 9.45l-7.72 7.72c-.78.78-.78 2.05 0 2.83L4 21.41c.39.39.9.59 1.41.59.51 0 1.02-.2 1.41-.59l7.78-7.78 2.81-2.81c.8-.78.8-2.07 0-2.86zM5.41 20L4 18.59l7.72-7.72 1.47 1.35L5.41 20z\"/>\n",
              "  </svg>\n",
              "      </button>\n",
              "      \n",
              "  <style>\n",
              "    .colab-df-container {\n",
              "      display:flex;\n",
              "      flex-wrap:wrap;\n",
              "      gap: 12px;\n",
              "    }\n",
              "\n",
              "    .colab-df-convert {\n",
              "      background-color: #E8F0FE;\n",
              "      border: none;\n",
              "      border-radius: 50%;\n",
              "      cursor: pointer;\n",
              "      display: none;\n",
              "      fill: #1967D2;\n",
              "      height: 32px;\n",
              "      padding: 0 0 0 0;\n",
              "      width: 32px;\n",
              "    }\n",
              "\n",
              "    .colab-df-convert:hover {\n",
              "      background-color: #E2EBFA;\n",
              "      box-shadow: 0px 1px 2px rgba(60, 64, 67, 0.3), 0px 1px 3px 1px rgba(60, 64, 67, 0.15);\n",
              "      fill: #174EA6;\n",
              "    }\n",
              "\n",
              "    [theme=dark] .colab-df-convert {\n",
              "      background-color: #3B4455;\n",
              "      fill: #D2E3FC;\n",
              "    }\n",
              "\n",
              "    [theme=dark] .colab-df-convert:hover {\n",
              "      background-color: #434B5C;\n",
              "      box-shadow: 0px 1px 3px 1px rgba(0, 0, 0, 0.15);\n",
              "      filter: drop-shadow(0px 1px 2px rgba(0, 0, 0, 0.3));\n",
              "      fill: #FFFFFF;\n",
              "    }\n",
              "  </style>\n",
              "\n",
              "      <script>\n",
              "        const buttonEl =\n",
              "          document.querySelector('#df-a2dd5759-c884-401a-a2dc-9719bcd6e80d button.colab-df-convert');\n",
              "        buttonEl.style.display =\n",
              "          google.colab.kernel.accessAllowed ? 'block' : 'none';\n",
              "\n",
              "        async function convertToInteractive(key) {\n",
              "          const element = document.querySelector('#df-a2dd5759-c884-401a-a2dc-9719bcd6e80d');\n",
              "          const dataTable =\n",
              "            await google.colab.kernel.invokeFunction('convertToInteractive',\n",
              "                                                     [key], {});\n",
              "          if (!dataTable) return;\n",
              "\n",
              "          const docLinkHtml = 'Like what you see? Visit the ' +\n",
              "            '<a target=\"_blank\" href=https://colab.research.google.com/notebooks/data_table.ipynb>data table notebook</a>'\n",
              "            + ' to learn more about interactive tables.';\n",
              "          element.innerHTML = '';\n",
              "          dataTable['output_type'] = 'display_data';\n",
              "          await google.colab.output.renderOutput(dataTable, element);\n",
              "          const docLink = document.createElement('div');\n",
              "          docLink.innerHTML = docLinkHtml;\n",
              "          element.appendChild(docLink);\n",
              "        }\n",
              "      </script>\n",
              "    </div>\n",
              "  </div>\n",
              "  "
            ]
          },
          "metadata": {},
          "execution_count": 132
        }
      ]
    },
    {
      "cell_type": "code",
      "source": [
        "data_acoustic.info()"
      ],
      "metadata": {
        "colab": {
          "base_uri": "https://localhost:8080/"
        },
        "id": "rukdo6auTV1G",
        "outputId": "568051e9-5a9d-4c61-8d3e-3b905f4c41af"
      },
      "execution_count": null,
      "outputs": [
        {
          "output_type": "stream",
          "name": "stdout",
          "text": [
            "<class 'pandas.core.frame.DataFrame'>\n",
            "RangeIndex: 400 entries, 0 to 399\n",
            "Data columns (total 51 columns):\n",
            " #   Column                                          Non-Null Count  Dtype  \n",
            "---  ------                                          --------------  -----  \n",
            " 0   Class                                           400 non-null    object \n",
            " 1   _RMSenergy_Mean                                 400 non-null    float64\n",
            " 2   _Lowenergy_Mean                                 400 non-null    float64\n",
            " 3   _Fluctuation_Mean                               400 non-null    float64\n",
            " 4   _Tempo_Mean                                     400 non-null    float64\n",
            " 5   _MFCC_Mean_1                                    400 non-null    float64\n",
            " 6   _MFCC_Mean_2                                    400 non-null    float64\n",
            " 7   _MFCC_Mean_3                                    400 non-null    float64\n",
            " 8   _MFCC_Mean_4                                    400 non-null    float64\n",
            " 9   _MFCC_Mean_5                                    400 non-null    float64\n",
            " 10  _MFCC_Mean_6                                    400 non-null    float64\n",
            " 11  _MFCC_Mean_7                                    400 non-null    float64\n",
            " 12  _MFCC_Mean_8                                    400 non-null    float64\n",
            " 13  _MFCC_Mean_9                                    400 non-null    float64\n",
            " 14  _MFCC_Mean_10                                   400 non-null    float64\n",
            " 15  _MFCC_Mean_11                                   400 non-null    float64\n",
            " 16  _MFCC_Mean_12                                   400 non-null    float64\n",
            " 17  _MFCC_Mean_13                                   400 non-null    float64\n",
            " 18  _Roughness_Mean                                 400 non-null    float64\n",
            " 19  _Roughness_Slope                                400 non-null    float64\n",
            " 20  _Zero-crossingrate_Mean                         400 non-null    float64\n",
            " 21  _AttackTime_Mean                                400 non-null    float64\n",
            " 22  _AttackTime_Slope                               400 non-null    float64\n",
            " 23  _Rolloff_Mean                                   400 non-null    float64\n",
            " 24  _Eventdensity_Mean                              400 non-null    float64\n",
            " 25  _Pulseclarity_Mean                              400 non-null    float64\n",
            " 26  _Brightness_Mean                                400 non-null    float64\n",
            " 27  _Spectralcentroid_Mean                          400 non-null    float64\n",
            " 28  _Spectralspread_Mean                            400 non-null    float64\n",
            " 29  _Spectralskewness_Mean                          400 non-null    float64\n",
            " 30  _Spectralkurtosis_Mean                          400 non-null    float64\n",
            " 31  _Spectralflatness_Mean                          400 non-null    float64\n",
            " 32  _EntropyofSpectrum_Mean                         400 non-null    float64\n",
            " 33  _Chromagram_Mean_1                              400 non-null    float64\n",
            " 34  _Chromagram_Mean_2                              400 non-null    float64\n",
            " 35  _Chromagram_Mean_3                              400 non-null    float64\n",
            " 36  _Chromagram_Mean_4                              400 non-null    float64\n",
            " 37  _Chromagram_Mean_5                              400 non-null    float64\n",
            " 38  _Chromagram_Mean_6                              400 non-null    float64\n",
            " 39  _Chromagram_Mean_7                              400 non-null    float64\n",
            " 40  _Chromagram_Mean_8                              400 non-null    float64\n",
            " 41  _Chromagram_Mean_9                              400 non-null    float64\n",
            " 42  _Chromagram_Mean_10                             400 non-null    float64\n",
            " 43  _Chromagram_Mean_11                             400 non-null    float64\n",
            " 44  _Chromagram_Mean_12                             400 non-null    float64\n",
            " 45  _HarmonicChangeDetectionFunction_Mean           400 non-null    float64\n",
            " 46  _HarmonicChangeDetectionFunction_Std            400 non-null    float64\n",
            " 47  _HarmonicChangeDetectionFunction_Slope          400 non-null    float64\n",
            " 48  _HarmonicChangeDetectionFunction_PeriodFreq     400 non-null    float64\n",
            " 49  _HarmonicChangeDetectionFunction_PeriodAmp      400 non-null    float64\n",
            " 50  _HarmonicChangeDetectionFunction_PeriodEntropy  400 non-null    float64\n",
            "dtypes: float64(50), object(1)\n",
            "memory usage: 159.5+ KB\n"
          ]
        }
      ]
    },
    {
      "cell_type": "markdown",
      "source": [
        "###Normalizando a variável resultado do dataframe Acoustic Features"
      ],
      "metadata": {
        "id": "WeXoGtFHgKjt"
      }
    },
    {
      "cell_type": "code",
      "source": [
        "le = LabelEncoder()\n",
        "data_acoustic['Class'] = le.fit_transform(data_acoustic['Class'])\n",
        "data_acoustic.head()"
      ],
      "metadata": {
        "colab": {
          "base_uri": "https://localhost:8080/",
          "height": 299
        },
        "id": "LgUdUoD4Thaw",
        "outputId": "2e018d11-503e-469e-9d3a-418f65ac80a8"
      },
      "execution_count": null,
      "outputs": [
        {
          "output_type": "execute_result",
          "data": {
            "text/plain": [
              "   Class  _RMSenergy_Mean  _Lowenergy_Mean  _Fluctuation_Mean  _Tempo_Mean  \\\n",
              "0      2            0.052            0.591              9.136      130.043   \n",
              "1      2            0.125            0.439              6.680      142.240   \n",
              "2      2            0.046            0.639             10.578      188.154   \n",
              "3      2            0.135            0.603             10.442       65.991   \n",
              "4      2            0.066            0.591              9.769       88.890   \n",
              "\n",
              "   _MFCC_Mean_1  _MFCC_Mean_2  _MFCC_Mean_3  _MFCC_Mean_4  _MFCC_Mean_5  ...  \\\n",
              "0         3.997         0.363         0.887         0.078         0.221  ...   \n",
              "1         4.058         0.516         0.785         0.397         0.556  ...   \n",
              "2         2.775         0.903         0.502         0.329         0.287  ...   \n",
              "3         2.841         1.552         0.612         0.351         0.011  ...   \n",
              "4         3.217         0.228         0.814         0.096         0.434  ...   \n",
              "\n",
              "   _Chromagram_Mean_9  _Chromagram_Mean_10  _Chromagram_Mean_11  \\\n",
              "0               0.426                1.000                0.008   \n",
              "1               0.002                1.000                0.000   \n",
              "2               0.184                0.746                0.016   \n",
              "3               0.038                1.000                0.161   \n",
              "4               0.004                0.404                1.000   \n",
              "\n",
              "   _Chromagram_Mean_12  _HarmonicChangeDetectionFunction_Mean  \\\n",
              "0                0.101                                  0.316   \n",
              "1                0.984                                  0.285   \n",
              "2                1.000                                  0.413   \n",
              "3                0.757                                  0.422   \n",
              "4                0.001                                  0.345   \n",
              "\n",
              "   _HarmonicChangeDetectionFunction_Std  \\\n",
              "0                                 0.261   \n",
              "1                                 0.211   \n",
              "2                                 0.299   \n",
              "3                                 0.265   \n",
              "4                                 0.261   \n",
              "\n",
              "   _HarmonicChangeDetectionFunction_Slope  \\\n",
              "0                                   0.018   \n",
              "1                                  -0.082   \n",
              "2                                   0.134   \n",
              "3                                   0.042   \n",
              "4                                   0.089   \n",
              "\n",
              "   _HarmonicChangeDetectionFunction_PeriodFreq  \\\n",
              "0                                        1.035   \n",
              "1                                        3.364   \n",
              "2                                        1.682   \n",
              "3                                        0.354   \n",
              "4                                        0.748   \n",
              "\n",
              "   _HarmonicChangeDetectionFunction_PeriodAmp  \\\n",
              "0                                       0.593   \n",
              "1                                       0.702   \n",
              "2                                       0.692   \n",
              "3                                       0.743   \n",
              "4                                       0.674   \n",
              "\n",
              "   _HarmonicChangeDetectionFunction_PeriodEntropy  \n",
              "0                                           0.970  \n",
              "1                                           0.967  \n",
              "2                                           0.963  \n",
              "3                                           0.968  \n",
              "4                                           0.957  \n",
              "\n",
              "[5 rows x 51 columns]"
            ],
            "text/html": [
              "\n",
              "  <div id=\"df-613f1a8e-d67f-467e-b20d-3e4814496375\">\n",
              "    <div class=\"colab-df-container\">\n",
              "      <div>\n",
              "<style scoped>\n",
              "    .dataframe tbody tr th:only-of-type {\n",
              "        vertical-align: middle;\n",
              "    }\n",
              "\n",
              "    .dataframe tbody tr th {\n",
              "        vertical-align: top;\n",
              "    }\n",
              "\n",
              "    .dataframe thead th {\n",
              "        text-align: right;\n",
              "    }\n",
              "</style>\n",
              "<table border=\"1\" class=\"dataframe\">\n",
              "  <thead>\n",
              "    <tr style=\"text-align: right;\">\n",
              "      <th></th>\n",
              "      <th>Class</th>\n",
              "      <th>_RMSenergy_Mean</th>\n",
              "      <th>_Lowenergy_Mean</th>\n",
              "      <th>_Fluctuation_Mean</th>\n",
              "      <th>_Tempo_Mean</th>\n",
              "      <th>_MFCC_Mean_1</th>\n",
              "      <th>_MFCC_Mean_2</th>\n",
              "      <th>_MFCC_Mean_3</th>\n",
              "      <th>_MFCC_Mean_4</th>\n",
              "      <th>_MFCC_Mean_5</th>\n",
              "      <th>...</th>\n",
              "      <th>_Chromagram_Mean_9</th>\n",
              "      <th>_Chromagram_Mean_10</th>\n",
              "      <th>_Chromagram_Mean_11</th>\n",
              "      <th>_Chromagram_Mean_12</th>\n",
              "      <th>_HarmonicChangeDetectionFunction_Mean</th>\n",
              "      <th>_HarmonicChangeDetectionFunction_Std</th>\n",
              "      <th>_HarmonicChangeDetectionFunction_Slope</th>\n",
              "      <th>_HarmonicChangeDetectionFunction_PeriodFreq</th>\n",
              "      <th>_HarmonicChangeDetectionFunction_PeriodAmp</th>\n",
              "      <th>_HarmonicChangeDetectionFunction_PeriodEntropy</th>\n",
              "    </tr>\n",
              "  </thead>\n",
              "  <tbody>\n",
              "    <tr>\n",
              "      <th>0</th>\n",
              "      <td>2</td>\n",
              "      <td>0.052</td>\n",
              "      <td>0.591</td>\n",
              "      <td>9.136</td>\n",
              "      <td>130.043</td>\n",
              "      <td>3.997</td>\n",
              "      <td>0.363</td>\n",
              "      <td>0.887</td>\n",
              "      <td>0.078</td>\n",
              "      <td>0.221</td>\n",
              "      <td>...</td>\n",
              "      <td>0.426</td>\n",
              "      <td>1.000</td>\n",
              "      <td>0.008</td>\n",
              "      <td>0.101</td>\n",
              "      <td>0.316</td>\n",
              "      <td>0.261</td>\n",
              "      <td>0.018</td>\n",
              "      <td>1.035</td>\n",
              "      <td>0.593</td>\n",
              "      <td>0.970</td>\n",
              "    </tr>\n",
              "    <tr>\n",
              "      <th>1</th>\n",
              "      <td>2</td>\n",
              "      <td>0.125</td>\n",
              "      <td>0.439</td>\n",
              "      <td>6.680</td>\n",
              "      <td>142.240</td>\n",
              "      <td>4.058</td>\n",
              "      <td>0.516</td>\n",
              "      <td>0.785</td>\n",
              "      <td>0.397</td>\n",
              "      <td>0.556</td>\n",
              "      <td>...</td>\n",
              "      <td>0.002</td>\n",
              "      <td>1.000</td>\n",
              "      <td>0.000</td>\n",
              "      <td>0.984</td>\n",
              "      <td>0.285</td>\n",
              "      <td>0.211</td>\n",
              "      <td>-0.082</td>\n",
              "      <td>3.364</td>\n",
              "      <td>0.702</td>\n",
              "      <td>0.967</td>\n",
              "    </tr>\n",
              "    <tr>\n",
              "      <th>2</th>\n",
              "      <td>2</td>\n",
              "      <td>0.046</td>\n",
              "      <td>0.639</td>\n",
              "      <td>10.578</td>\n",
              "      <td>188.154</td>\n",
              "      <td>2.775</td>\n",
              "      <td>0.903</td>\n",
              "      <td>0.502</td>\n",
              "      <td>0.329</td>\n",
              "      <td>0.287</td>\n",
              "      <td>...</td>\n",
              "      <td>0.184</td>\n",
              "      <td>0.746</td>\n",
              "      <td>0.016</td>\n",
              "      <td>1.000</td>\n",
              "      <td>0.413</td>\n",
              "      <td>0.299</td>\n",
              "      <td>0.134</td>\n",
              "      <td>1.682</td>\n",
              "      <td>0.692</td>\n",
              "      <td>0.963</td>\n",
              "    </tr>\n",
              "    <tr>\n",
              "      <th>3</th>\n",
              "      <td>2</td>\n",
              "      <td>0.135</td>\n",
              "      <td>0.603</td>\n",
              "      <td>10.442</td>\n",
              "      <td>65.991</td>\n",
              "      <td>2.841</td>\n",
              "      <td>1.552</td>\n",
              "      <td>0.612</td>\n",
              "      <td>0.351</td>\n",
              "      <td>0.011</td>\n",
              "      <td>...</td>\n",
              "      <td>0.038</td>\n",
              "      <td>1.000</td>\n",
              "      <td>0.161</td>\n",
              "      <td>0.757</td>\n",
              "      <td>0.422</td>\n",
              "      <td>0.265</td>\n",
              "      <td>0.042</td>\n",
              "      <td>0.354</td>\n",
              "      <td>0.743</td>\n",
              "      <td>0.968</td>\n",
              "    </tr>\n",
              "    <tr>\n",
              "      <th>4</th>\n",
              "      <td>2</td>\n",
              "      <td>0.066</td>\n",
              "      <td>0.591</td>\n",
              "      <td>9.769</td>\n",
              "      <td>88.890</td>\n",
              "      <td>3.217</td>\n",
              "      <td>0.228</td>\n",
              "      <td>0.814</td>\n",
              "      <td>0.096</td>\n",
              "      <td>0.434</td>\n",
              "      <td>...</td>\n",
              "      <td>0.004</td>\n",
              "      <td>0.404</td>\n",
              "      <td>1.000</td>\n",
              "      <td>0.001</td>\n",
              "      <td>0.345</td>\n",
              "      <td>0.261</td>\n",
              "      <td>0.089</td>\n",
              "      <td>0.748</td>\n",
              "      <td>0.674</td>\n",
              "      <td>0.957</td>\n",
              "    </tr>\n",
              "  </tbody>\n",
              "</table>\n",
              "<p>5 rows × 51 columns</p>\n",
              "</div>\n",
              "      <button class=\"colab-df-convert\" onclick=\"convertToInteractive('df-613f1a8e-d67f-467e-b20d-3e4814496375')\"\n",
              "              title=\"Convert this dataframe to an interactive table.\"\n",
              "              style=\"display:none;\">\n",
              "        \n",
              "  <svg xmlns=\"http://www.w3.org/2000/svg\" height=\"24px\"viewBox=\"0 0 24 24\"\n",
              "       width=\"24px\">\n",
              "    <path d=\"M0 0h24v24H0V0z\" fill=\"none\"/>\n",
              "    <path d=\"M18.56 5.44l.94 2.06.94-2.06 2.06-.94-2.06-.94-.94-2.06-.94 2.06-2.06.94zm-11 1L8.5 8.5l.94-2.06 2.06-.94-2.06-.94L8.5 2.5l-.94 2.06-2.06.94zm10 10l.94 2.06.94-2.06 2.06-.94-2.06-.94-.94-2.06-.94 2.06-2.06.94z\"/><path d=\"M17.41 7.96l-1.37-1.37c-.4-.4-.92-.59-1.43-.59-.52 0-1.04.2-1.43.59L10.3 9.45l-7.72 7.72c-.78.78-.78 2.05 0 2.83L4 21.41c.39.39.9.59 1.41.59.51 0 1.02-.2 1.41-.59l7.78-7.78 2.81-2.81c.8-.78.8-2.07 0-2.86zM5.41 20L4 18.59l7.72-7.72 1.47 1.35L5.41 20z\"/>\n",
              "  </svg>\n",
              "      </button>\n",
              "      \n",
              "  <style>\n",
              "    .colab-df-container {\n",
              "      display:flex;\n",
              "      flex-wrap:wrap;\n",
              "      gap: 12px;\n",
              "    }\n",
              "\n",
              "    .colab-df-convert {\n",
              "      background-color: #E8F0FE;\n",
              "      border: none;\n",
              "      border-radius: 50%;\n",
              "      cursor: pointer;\n",
              "      display: none;\n",
              "      fill: #1967D2;\n",
              "      height: 32px;\n",
              "      padding: 0 0 0 0;\n",
              "      width: 32px;\n",
              "    }\n",
              "\n",
              "    .colab-df-convert:hover {\n",
              "      background-color: #E2EBFA;\n",
              "      box-shadow: 0px 1px 2px rgba(60, 64, 67, 0.3), 0px 1px 3px 1px rgba(60, 64, 67, 0.15);\n",
              "      fill: #174EA6;\n",
              "    }\n",
              "\n",
              "    [theme=dark] .colab-df-convert {\n",
              "      background-color: #3B4455;\n",
              "      fill: #D2E3FC;\n",
              "    }\n",
              "\n",
              "    [theme=dark] .colab-df-convert:hover {\n",
              "      background-color: #434B5C;\n",
              "      box-shadow: 0px 1px 3px 1px rgba(0, 0, 0, 0.15);\n",
              "      filter: drop-shadow(0px 1px 2px rgba(0, 0, 0, 0.3));\n",
              "      fill: #FFFFFF;\n",
              "    }\n",
              "  </style>\n",
              "\n",
              "      <script>\n",
              "        const buttonEl =\n",
              "          document.querySelector('#df-613f1a8e-d67f-467e-b20d-3e4814496375 button.colab-df-convert');\n",
              "        buttonEl.style.display =\n",
              "          google.colab.kernel.accessAllowed ? 'block' : 'none';\n",
              "\n",
              "        async function convertToInteractive(key) {\n",
              "          const element = document.querySelector('#df-613f1a8e-d67f-467e-b20d-3e4814496375');\n",
              "          const dataTable =\n",
              "            await google.colab.kernel.invokeFunction('convertToInteractive',\n",
              "                                                     [key], {});\n",
              "          if (!dataTable) return;\n",
              "\n",
              "          const docLinkHtml = 'Like what you see? Visit the ' +\n",
              "            '<a target=\"_blank\" href=https://colab.research.google.com/notebooks/data_table.ipynb>data table notebook</a>'\n",
              "            + ' to learn more about interactive tables.';\n",
              "          element.innerHTML = '';\n",
              "          dataTable['output_type'] = 'display_data';\n",
              "          await google.colab.output.renderOutput(dataTable, element);\n",
              "          const docLink = document.createElement('div');\n",
              "          docLink.innerHTML = docLinkHtml;\n",
              "          element.appendChild(docLink);\n",
              "        }\n",
              "      </script>\n",
              "    </div>\n",
              "  </div>\n",
              "  "
            ]
          },
          "metadata": {},
          "execution_count": 134
        }
      ]
    },
    {
      "cell_type": "code",
      "source": [
        "X_data_acoustic = data_acoustic.drop(['Class'], axis=1).values\n",
        "y_data_acoustic = data_acoustic['Class'].values\n",
        "\n",
        "X_data_diabetes = data_diabetes.drop(['Outcome'], axis=1).values\n",
        "y_data_diabetes = data_diabetes['Outcome'].values"
      ],
      "metadata": {
        "id": "0au8I416UiCW"
      },
      "execution_count": null,
      "outputs": []
    },
    {
      "cell_type": "markdown",
      "source": [
        "###Separando os conjuntos de dados em treino e teste"
      ],
      "metadata": {
        "id": "ixcC4ffLgiXj"
      }
    },
    {
      "cell_type": "code",
      "source": [
        "X_train_data_acoustic, X_test_data_acoustic, y_train_data_acoustic, y_test_data_acoustic = train_test_split(X_data_acoustic, y_data_acoustic, test_size=0.3, random_state=5)\n",
        "\n",
        "X_train_data_diabetes, X_test_data_diabetes, y_train_data_diabetes, y_test_data_diabetes = train_test_split(X_data_diabetes, y_data_diabetes, test_size=0.3, random_state=5)"
      ],
      "metadata": {
        "id": "7KpOEYLqUV6u"
      },
      "execution_count": null,
      "outputs": []
    },
    {
      "cell_type": "markdown",
      "source": [
        "###Normalizando os treinos e testes"
      ],
      "metadata": {
        "id": "hiFH7UfagnWD"
      }
    },
    {
      "cell_type": "code",
      "source": [
        "scaler = StandardScaler()\n",
        "scaler.fit(X_train_data_acoustic)\n",
        "\n",
        "X_train_data_acoustic = scaler.transform(X_train_data_acoustic)\n",
        "X_test_data_acoustic = scaler.transform(X_test_data_acoustic)"
      ],
      "metadata": {
        "id": "88XRz3SFWzZU"
      },
      "execution_count": null,
      "outputs": []
    },
    {
      "cell_type": "code",
      "source": [
        "scaler = StandardScaler()\n",
        "scaler.fit(X_train_data_diabetes)\n",
        "\n",
        "X_train_data_diabetes = scaler.transform(X_train_data_diabetes)\n",
        "X_test_data_diabetes = scaler.transform(X_test_data_diabetes)"
      ],
      "metadata": {
        "id": "kaoqkn4dYEMD"
      },
      "execution_count": null,
      "outputs": []
    },
    {
      "cell_type": "markdown",
      "source": [
        "###KNN Acoustic Features"
      ],
      "metadata": {
        "id": "BwFOR8oFguvS"
      }
    },
    {
      "cell_type": "code",
      "source": [
        "k_range = list(range(1,26))\n",
        "scores = []\n",
        "for k in k_range:\n",
        "    knn = KNeighborsClassifier(n_neighbors=k,metric = 'euclidean')\n",
        "    knn.fit(X_train_data_acoustic, y_train_data_acoustic)\n",
        "    y_pred = knn.predict(X_test_data_acoustic)\n",
        "    scores.append(metrics.accuracy_score(y_test_data_acoustic, y_pred))\n",
        "\n",
        "plt.plot(k_range, scores)\n",
        "plt.xlabel('Value of k for KNN')\n",
        "plt.ylabel('Accuracy Score')\n",
        "plt.title('Accuracy Scores for Values of k of k-Nearest-Neighbors')\n",
        "plt.show()"
      ],
      "metadata": {
        "colab": {
          "base_uri": "https://localhost:8080/",
          "height": 295
        },
        "id": "bflESDBRVdL5",
        "outputId": "93d7e813-53a4-42b6-ed59-e710fe40bb86"
      },
      "execution_count": null,
      "outputs": [
        {
          "output_type": "display_data",
          "data": {
            "text/plain": [
              "<Figure size 432x288 with 1 Axes>"
            ],
            "image/png": "[encoded data removed]"
          },
          "metadata": {
            "needs_background": "light"
          }
        }
      ]
    },
    {
      "cell_type": "markdown",
      "source": [
        "###Métricas"
      ],
      "metadata": {
        "id": "kqGL9pJXg7zK"
      }
    },
    {
      "cell_type": "code",
      "source": [
        "accuracy_score(y_test_data_acoustic,y_pred)"
      ],
      "metadata": {
        "colab": {
          "base_uri": "https://localhost:8080/"
        },
        "id": "5eu5KqAmeIom",
        "outputId": "e9f7a95f-506b-4583-8f69-9b498aeaa737"
      },
      "execution_count": null,
      "outputs": [
        {
          "output_type": "execute_result",
          "data": {
            "text/plain": [
              "0.7083333333333334"
            ]
          },
          "metadata": {},
          "execution_count": 140
        }
      ]
    },
    {
      "cell_type": "code",
      "source": [
        "cm = confusion_matrix(y_test_data_acoustic, y_pred)\n",
        "ConfusionMatrixDisplay(cm).plot()"
      ],
      "metadata": {
        "colab": {
          "base_uri": "https://localhost:8080/",
          "height": 300
        },
        "id": "-SlhGPvjeQjF",
        "outputId": "507ad436-0e36-484e-dafd-a098d32fb6e3"
      },
      "execution_count": null,
      "outputs": [
        {
          "output_type": "execute_result",
          "data": {
            "text/plain": [
              "<sklearn.metrics._plot.confusion_matrix.ConfusionMatrixDisplay at 0x7f4a57f14210>"
            ]
          },
          "metadata": {},
          "execution_count": 141
        },
        {
          "output_type": "display_data",
          "data": {
            "text/plain": [
              "<Figure size 432x288 with 2 Axes>"
            ],
            "image/png": "[encoded data removed]"
          },
          "metadata": {
            "needs_background": "light"
          }
        }
      ]
    },
    {
      "cell_type": "markdown",
      "source": [
        "###KNN Diabetes"
      ],
      "metadata": {
        "id": "PvGOGDuBg3HM"
      }
    },
    {
      "cell_type": "code",
      "source": [
        "scores = []\n",
        "for k in k_range:\n",
        "    knn = KNeighborsClassifier(n_neighbors=k,metric = 'euclidean')\n",
        "    knn.fit(X_train_data_diabetes, y_train_data_diabetes)\n",
        "    y_pred = knn.predict(X_test_data_diabetes)\n",
        "    scores.append(metrics.accuracy_score(y_test_data_diabetes, y_pred))\n",
        "\n",
        "plt.plot(k_range, scores)\n",
        "plt.xlabel('Value of k for KNN')\n",
        "plt.ylabel('Accuracy Score')\n",
        "plt.title('Accuracy Scores for Values of k of k-Nearest-Neighbors')\n",
        "plt.show()"
      ],
      "metadata": {
        "colab": {
          "base_uri": "https://localhost:8080/",
          "height": 295
        },
        "id": "itQYFyltWUFE",
        "outputId": "97cf6bb5-4723-423a-81f4-e6295bc99d47"
      },
      "execution_count": null,
      "outputs": [
        {
          "output_type": "display_data",
          "data": {
            "text/plain": [
              "<Figure size 432x288 with 1 Axes>"
            ],
            "image/png": "[encoded data removed]"
          },
          "metadata": {
            "needs_background": "light"
          }
        }
      ]
    },
    {
      "cell_type": "markdown",
      "source": [
        "###Métricas"
      ],
      "metadata": {
        "id": "vnfF5x8KhDoL"
      }
    },
    {
      "cell_type": "code",
      "source": [
        "accuracy_score(y_test_data_diabetes,y_pred)"
      ],
      "metadata": {
        "colab": {
          "base_uri": "https://localhost:8080/"
        },
        "id": "s7GalJYpd7St",
        "outputId": "227a5fbc-7990-41f3-ce16-bca9a67ccba3"
      },
      "execution_count": null,
      "outputs": [
        {
          "output_type": "execute_result",
          "data": {
            "text/plain": [
              "0.7445887445887446"
            ]
          },
          "metadata": {},
          "execution_count": 143
        }
      ]
    },
    {
      "cell_type": "code",
      "source": [
        "cm = confusion_matrix(y_test_data_diabetes, y_pred)\n",
        "ConfusionMatrixDisplay(cm).plot()"
      ],
      "metadata": {
        "colab": {
          "base_uri": "https://localhost:8080/",
          "height": 296
        },
        "id": "5xdC6GcPePyt",
        "outputId": "23ca243b-9d5c-4c46-f2f8-27201cea7d66"
      },
      "execution_count": null,
      "outputs": [
        {
          "output_type": "execute_result",
          "data": {
            "text/plain": [
              "<sklearn.metrics._plot.confusion_matrix.ConfusionMatrixDisplay at 0x7f4a59eb3050>"
            ]
          },
          "metadata": {},
          "execution_count": 144
        },
        {
          "output_type": "display_data",
          "data": {
            "text/plain": [
              "<Figure size 432x288 with 2 Axes>"
            ],
            "image/png": "[encoded data removed]"
          },
          "metadata": {
            "needs_background": "light"
          }
        }
      ]
    },
    {
      "cell_type": "markdown",
      "source": [
        "# Árvore de Decisão - Acoustic"
      ],
      "metadata": {
        "id": "1oGwhNYhbnoo"
      }
    },
    {
      "cell_type": "code",
      "source": [
        "import pandas as pd\n",
        "import matplotlib.pyplot as plt\n",
        "from sklearn.tree import DecisionTreeClassifier\n",
        "from sklearn import tree\n",
        "from sklearn.model_selection import train_test_split"
      ],
      "metadata": {
        "id": "N1EmbZZab7ac"
      },
      "execution_count": null,
      "outputs": []
    },
    {
      "cell_type": "code",
      "source": [
        "data_acoustic = pd.read_csv('/content/Acoustic Features.csv')"
      ],
      "metadata": {
        "id": "NZmbIBpocWS1"
      },
      "execution_count": null,
      "outputs": []
    },
    {
      "cell_type": "code",
      "source": [
        "data_acoustic.head()"
      ],
      "metadata": {
        "id": "j1EorKYscbGT",
        "colab": {
          "base_uri": "https://localhost:8080/",
          "height": 299
        },
        "outputId": "a5c0bdfa-6816-45f2-c183-58f337b150df"
      },
      "execution_count": null,
      "outputs": [
        {
          "output_type": "execute_result",
          "data": {
            "text/plain": [
              "   Class  _RMSenergy_Mean  _Lowenergy_Mean  _Fluctuation_Mean  _Tempo_Mean  \\\n",
              "0  relax            0.052            0.591              9.136      130.043   \n",
              "1  relax            0.125            0.439              6.680      142.240   \n",
              "2  relax            0.046            0.639             10.578      188.154   \n",
              "3  relax            0.135            0.603             10.442       65.991   \n",
              "4  relax            0.066            0.591              9.769       88.890   \n",
              "\n",
              "   _MFCC_Mean_1  _MFCC_Mean_2  _MFCC_Mean_3  _MFCC_Mean_4  _MFCC_Mean_5  ...  \\\n",
              "0         3.997         0.363         0.887         0.078         0.221  ...   \n",
              "1         4.058         0.516         0.785         0.397         0.556  ...   \n",
              "2         2.775         0.903         0.502         0.329         0.287  ...   \n",
              "3         2.841         1.552         0.612         0.351         0.011  ...   \n",
              "4         3.217         0.228         0.814         0.096         0.434  ...   \n",
              "\n",
              "   _Chromagram_Mean_9  _Chromagram_Mean_10  _Chromagram_Mean_11  \\\n",
              "0               0.426                1.000                0.008   \n",
              "1               0.002                1.000                0.000   \n",
              "2               0.184                0.746                0.016   \n",
              "3               0.038                1.000                0.161   \n",
              "4               0.004                0.404                1.000   \n",
              "\n",
              "   _Chromagram_Mean_12  _HarmonicChangeDetectionFunction_Mean  \\\n",
              "0                0.101                                  0.316   \n",
              "1                0.984                                  0.285   \n",
              "2                1.000                                  0.413   \n",
              "3                0.757                                  0.422   \n",
              "4                0.001                                  0.345   \n",
              "\n",
              "   _HarmonicChangeDetectionFunction_Std  \\\n",
              "0                                 0.261   \n",
              "1                                 0.211   \n",
              "2                                 0.299   \n",
              "3                                 0.265   \n",
              "4                                 0.261   \n",
              "\n",
              "   _HarmonicChangeDetectionFunction_Slope  \\\n",
              "0                                   0.018   \n",
              "1                                  -0.082   \n",
              "2                                   0.134   \n",
              "3                                   0.042   \n",
              "4                                   0.089   \n",
              "\n",
              "   _HarmonicChangeDetectionFunction_PeriodFreq  \\\n",
              "0                                        1.035   \n",
              "1                                        3.364   \n",
              "2                                        1.682   \n",
              "3                                        0.354   \n",
              "4                                        0.748   \n",
              "\n",
              "   _HarmonicChangeDetectionFunction_PeriodAmp  \\\n",
              "0                                       0.593   \n",
              "1                                       0.702   \n",
              "2                                       0.692   \n",
              "3                                       0.743   \n",
              "4                                       0.674   \n",
              "\n",
              "   _HarmonicChangeDetectionFunction_PeriodEntropy  \n",
              "0                                           0.970  \n",
              "1                                           0.967  \n",
              "2                                           0.963  \n",
              "3                                           0.968  \n",
              "4                                           0.957  \n",
              "\n",
              "[5 rows x 51 columns]"
            ],
            "text/html": [
              "\n",
              "  <div id=\"df-966ee746-b1fa-4812-b036-af8722454b5b\">\n",
              "    <div class=\"colab-df-container\">\n",
              "      <div>\n",
              "<style scoped>\n",
              "    .dataframe tbody tr th:only-of-type {\n",
              "        vertical-align: middle;\n",
              "    }\n",
              "\n",
              "    .dataframe tbody tr th {\n",
              "        vertical-align: top;\n",
              "    }\n",
              "\n",
              "    .dataframe thead th {\n",
              "        text-align: right;\n",
              "    }\n",
              "</style>\n",
              "<table border=\"1\" class=\"dataframe\">\n",
              "  <thead>\n",
              "    <tr style=\"text-align: right;\">\n",
              "      <th></th>\n",
              "      <th>Class</th>\n",
              "      <th>_RMSenergy_Mean</th>\n",
              "      <th>_Lowenergy_Mean</th>\n",
              "      <th>_Fluctuation_Mean</th>\n",
              "      <th>_Tempo_Mean</th>\n",
              "      <th>_MFCC_Mean_1</th>\n",
              "      <th>_MFCC_Mean_2</th>\n",
              "      <th>_MFCC_Mean_3</th>\n",
              "      <th>_MFCC_Mean_4</th>\n",
              "      <th>_MFCC_Mean_5</th>\n",
              "      <th>...</th>\n",
              "      <th>_Chromagram_Mean_9</th>\n",
              "      <th>_Chromagram_Mean_10</th>\n",
              "      <th>_Chromagram_Mean_11</th>\n",
              "      <th>_Chromagram_Mean_12</th>\n",
              "      <th>_HarmonicChangeDetectionFunction_Mean</th>\n",
              "      <th>_HarmonicChangeDetectionFunction_Std</th>\n",
              "      <th>_HarmonicChangeDetectionFunction_Slope</th>\n",
              "      <th>_HarmonicChangeDetectionFunction_PeriodFreq</th>\n",
              "      <th>_HarmonicChangeDetectionFunction_PeriodAmp</th>\n",
              "      <th>_HarmonicChangeDetectionFunction_PeriodEntropy</th>\n",
              "    </tr>\n",
              "  </thead>\n",
              "  <tbody>\n",
              "    <tr>\n",
              "      <th>0</th>\n",
              "      <td>relax</td>\n",
              "      <td>0.052</td>\n",
              "      <td>0.591</td>\n",
              "      <td>9.136</td>\n",
              "      <td>130.043</td>\n",
              "      <td>3.997</td>\n",
              "      <td>0.363</td>\n",
              "      <td>0.887</td>\n",
              "      <td>0.078</td>\n",
              "      <td>0.221</td>\n",
              "      <td>...</td>\n",
              "      <td>0.426</td>\n",
              "      <td>1.000</td>\n",
              "      <td>0.008</td>\n",
              "      <td>0.101</td>\n",
              "      <td>0.316</td>\n",
              "      <td>0.261</td>\n",
              "      <td>0.018</td>\n",
              "      <td>1.035</td>\n",
              "      <td>0.593</td>\n",
              "      <td>0.970</td>\n",
              "    </tr>\n",
              "    <tr>\n",
              "      <th>1</th>\n",
              "      <td>relax</td>\n",
              "      <td>0.125</td>\n",
              "      <td>0.439</td>\n",
              "      <td>6.680</td>\n",
              "      <td>142.240</td>\n",
              "      <td>4.058</td>\n",
              "      <td>0.516</td>\n",
              "      <td>0.785</td>\n",
              "      <td>0.397</td>\n",
              "      <td>0.556</td>\n",
              "      <td>...</td>\n",
              "      <td>0.002</td>\n",
              "      <td>1.000</td>\n",
              "      <td>0.000</td>\n",
              "      <td>0.984</td>\n",
              "      <td>0.285</td>\n",
              "      <td>0.211</td>\n",
              "      <td>-0.082</td>\n",
              "      <td>3.364</td>\n",
              "      <td>0.702</td>\n",
              "      <td>0.967</td>\n",
              "    </tr>\n",
              "    <tr>\n",
              "      <th>2</th>\n",
              "      <td>relax</td>\n",
              "      <td>0.046</td>\n",
              "      <td>0.639</td>\n",
              "      <td>10.578</td>\n",
              "      <td>188.154</td>\n",
              "      <td>2.775</td>\n",
              "      <td>0.903</td>\n",
              "      <td>0.502</td>\n",
              "      <td>0.329</td>\n",
              "      <td>0.287</td>\n",
              "      <td>...</td>\n",
              "      <td>0.184</td>\n",
              "      <td>0.746</td>\n",
              "      <td>0.016</td>\n",
              "      <td>1.000</td>\n",
              "      <td>0.413</td>\n",
              "      <td>0.299</td>\n",
              "      <td>0.134</td>\n",
              "      <td>1.682</td>\n",
              "      <td>0.692</td>\n",
              "      <td>0.963</td>\n",
              "    </tr>\n",
              "    <tr>\n",
              "      <th>3</th>\n",
              "      <td>relax</td>\n",
              "      <td>0.135</td>\n",
              "      <td>0.603</td>\n",
              "      <td>10.442</td>\n",
              "      <td>65.991</td>\n",
              "      <td>2.841</td>\n",
              "      <td>1.552</td>\n",
              "      <td>0.612</td>\n",
              "      <td>0.351</td>\n",
              "      <td>0.011</td>\n",
              "      <td>...</td>\n",
              "      <td>0.038</td>\n",
              "      <td>1.000</td>\n",
              "      <td>0.161</td>\n",
              "      <td>0.757</td>\n",
              "      <td>0.422</td>\n",
              "      <td>0.265</td>\n",
              "      <td>0.042</td>\n",
              "      <td>0.354</td>\n",
              "      <td>0.743</td>\n",
              "      <td>0.968</td>\n",
              "    </tr>\n",
              "    <tr>\n",
              "      <th>4</th>\n",
              "      <td>relax</td>\n",
              "      <td>0.066</td>\n",
              "      <td>0.591</td>\n",
              "      <td>9.769</td>\n",
              "      <td>88.890</td>\n",
              "      <td>3.217</td>\n",
              "      <td>0.228</td>\n",
              "      <td>0.814</td>\n",
              "      <td>0.096</td>\n",
              "      <td>0.434</td>\n",
              "      <td>...</td>\n",
              "      <td>0.004</td>\n",
              "      <td>0.404</td>\n",
              "      <td>1.000</td>\n",
              "      <td>0.001</td>\n",
              "      <td>0.345</td>\n",
              "      <td>0.261</td>\n",
              "      <td>0.089</td>\n",
              "      <td>0.748</td>\n",
              "      <td>0.674</td>\n",
              "      <td>0.957</td>\n",
              "    </tr>\n",
              "  </tbody>\n",
              "</table>\n",
              "<p>5 rows × 51 columns</p>\n",
              "</div>\n",
              "      <button class=\"colab-df-convert\" onclick=\"convertToInteractive('df-966ee746-b1fa-4812-b036-af8722454b5b')\"\n",
              "              title=\"Convert this dataframe to an interactive table.\"\n",
              "              style=\"display:none;\">\n",
              "        \n",
              "  <svg xmlns=\"http://www.w3.org/2000/svg\" height=\"24px\"viewBox=\"0 0 24 24\"\n",
              "       width=\"24px\">\n",
              "    <path d=\"M0 0h24v24H0V0z\" fill=\"none\"/>\n",
              "    <path d=\"M18.56 5.44l.94 2.06.94-2.06 2.06-.94-2.06-.94-.94-2.06-.94 2.06-2.06.94zm-11 1L8.5 8.5l.94-2.06 2.06-.94-2.06-.94L8.5 2.5l-.94 2.06-2.06.94zm10 10l.94 2.06.94-2.06 2.06-.94-2.06-.94-.94-2.06-.94 2.06-2.06.94z\"/><path d=\"M17.41 7.96l-1.37-1.37c-.4-.4-.92-.59-1.43-.59-.52 0-1.04.2-1.43.59L10.3 9.45l-7.72 7.72c-.78.78-.78 2.05 0 2.83L4 21.41c.39.39.9.59 1.41.59.51 0 1.02-.2 1.41-.59l7.78-7.78 2.81-2.81c.8-.78.8-2.07 0-2.86zM5.41 20L4 18.59l7.72-7.72 1.47 1.35L5.41 20z\"/>\n",
              "  </svg>\n",
              "      </button>\n",
              "      \n",
              "  <style>\n",
              "    .colab-df-container {\n",
              "      display:flex;\n",
              "      flex-wrap:wrap;\n",
              "      gap: 12px;\n",
              "    }\n",
              "\n",
              "    .colab-df-convert {\n",
              "      background-color: #E8F0FE;\n",
              "      border: none;\n",
              "      border-radius: 50%;\n",
              "      cursor: pointer;\n",
              "      display: none;\n",
              "      fill: #1967D2;\n",
              "      height: 32px;\n",
              "      padding: 0 0 0 0;\n",
              "      width: 32px;\n",
              "    }\n",
              "\n",
              "    .colab-df-convert:hover {\n",
              "      background-color: #E2EBFA;\n",
              "      box-shadow: 0px 1px 2px rgba(60, 64, 67, 0.3), 0px 1px 3px 1px rgba(60, 64, 67, 0.15);\n",
              "      fill: #174EA6;\n",
              "    }\n",
              "\n",
              "    [theme=dark] .colab-df-convert {\n",
              "      background-color: #3B4455;\n",
              "      fill: #D2E3FC;\n",
              "    }\n",
              "\n",
              "    [theme=dark] .colab-df-convert:hover {\n",
              "      background-color: #434B5C;\n",
              "      box-shadow: 0px 1px 3px 1px rgba(0, 0, 0, 0.15);\n",
              "      filter: drop-shadow(0px 1px 2px rgba(0, 0, 0, 0.3));\n",
              "      fill: #FFFFFF;\n",
              "    }\n",
              "  </style>\n",
              "\n",
              "      <script>\n",
              "        const buttonEl =\n",
              "          document.querySelector('#df-966ee746-b1fa-4812-b036-af8722454b5b button.colab-df-convert');\n",
              "        buttonEl.style.display =\n",
              "          google.colab.kernel.accessAllowed ? 'block' : 'none';\n",
              "\n",
              "        async function convertToInteractive(key) {\n",
              "          const element = document.querySelector('#df-966ee746-b1fa-4812-b036-af8722454b5b');\n",
              "          const dataTable =\n",
              "            await google.colab.kernel.invokeFunction('convertToInteractive',\n",
              "                                                     [key], {});\n",
              "          if (!dataTable) return;\n",
              "\n",
              "          const docLinkHtml = 'Like what you see? Visit the ' +\n",
              "            '<a target=\"_blank\" href=https://colab.research.google.com/notebooks/data_table.ipynb>data table notebook</a>'\n",
              "            + ' to learn more about interactive tables.';\n",
              "          element.innerHTML = '';\n",
              "          dataTable['output_type'] = 'display_data';\n",
              "          await google.colab.output.renderOutput(dataTable, element);\n",
              "          const docLink = document.createElement('div');\n",
              "          docLink.innerHTML = docLinkHtml;\n",
              "          element.appendChild(docLink);\n",
              "        }\n",
              "      </script>\n",
              "    </div>\n",
              "  </div>\n",
              "  "
            ]
          },
          "metadata": {},
          "execution_count": 147
        }
      ]
    },
    {
      "cell_type": "code",
      "source": [
        "data_acoustic.info()"
      ],
      "metadata": {
        "id": "aKTv7z9QciKG",
        "colab": {
          "base_uri": "https://localhost:8080/"
        },
        "outputId": "4db6dd57-2422-4570-9549-aacfc0503533"
      },
      "execution_count": null,
      "outputs": [
        {
          "output_type": "stream",
          "name": "stdout",
          "text": [
            "<class 'pandas.core.frame.DataFrame'>\n",
            "RangeIndex: 400 entries, 0 to 399\n",
            "Data columns (total 51 columns):\n",
            " #   Column                                          Non-Null Count  Dtype  \n",
            "---  ------                                          --------------  -----  \n",
            " 0   Class                                           400 non-null    object \n",
            " 1   _RMSenergy_Mean                                 400 non-null    float64\n",
            " 2   _Lowenergy_Mean                                 400 non-null    float64\n",
            " 3   _Fluctuation_Mean                               400 non-null    float64\n",
            " 4   _Tempo_Mean                                     400 non-null    float64\n",
            " 5   _MFCC_Mean_1                                    400 non-null    float64\n",
            " 6   _MFCC_Mean_2                                    400 non-null    float64\n",
            " 7   _MFCC_Mean_3                                    400 non-null    float64\n",
            " 8   _MFCC_Mean_4                                    400 non-null    float64\n",
            " 9   _MFCC_Mean_5                                    400 non-null    float64\n",
            " 10  _MFCC_Mean_6                                    400 non-null    float64\n",
            " 11  _MFCC_Mean_7                                    400 non-null    float64\n",
            " 12  _MFCC_Mean_8                                    400 non-null    float64\n",
            " 13  _MFCC_Mean_9                                    400 non-null    float64\n",
            " 14  _MFCC_Mean_10                                   400 non-null    float64\n",
            " 15  _MFCC_Mean_11                                   400 non-null    float64\n",
            " 16  _MFCC_Mean_12                                   400 non-null    float64\n",
            " 17  _MFCC_Mean_13                                   400 non-null    float64\n",
            " 18  _Roughness_Mean                                 400 non-null    float64\n",
            " 19  _Roughness_Slope                                400 non-null    float64\n",
            " 20  _Zero-crossingrate_Mean                         400 non-null    float64\n",
            " 21  _AttackTime_Mean                                400 non-null    float64\n",
            " 22  _AttackTime_Slope                               400 non-null    float64\n",
            " 23  _Rolloff_Mean                                   400 non-null    float64\n",
            " 24  _Eventdensity_Mean                              400 non-null    float64\n",
            " 25  _Pulseclarity_Mean                              400 non-null    float64\n",
            " 26  _Brightness_Mean                                400 non-null    float64\n",
            " 27  _Spectralcentroid_Mean                          400 non-null    float64\n",
            " 28  _Spectralspread_Mean                            400 non-null    float64\n",
            " 29  _Spectralskewness_Mean                          400 non-null    float64\n",
            " 30  _Spectralkurtosis_Mean                          400 non-null    float64\n",
            " 31  _Spectralflatness_Mean                          400 non-null    float64\n",
            " 32  _EntropyofSpectrum_Mean                         400 non-null    float64\n",
            " 33  _Chromagram_Mean_1                              400 non-null    float64\n",
            " 34  _Chromagram_Mean_2                              400 non-null    float64\n",
            " 35  _Chromagram_Mean_3                              400 non-null    float64\n",
            " 36  _Chromagram_Mean_4                              400 non-null    float64\n",
            " 37  _Chromagram_Mean_5                              400 non-null    float64\n",
            " 38  _Chromagram_Mean_6                              400 non-null    float64\n",
            " 39  _Chromagram_Mean_7                              400 non-null    float64\n",
            " 40  _Chromagram_Mean_8                              400 non-null    float64\n",
            " 41  _Chromagram_Mean_9                              400 non-null    float64\n",
            " 42  _Chromagram_Mean_10                             400 non-null    float64\n",
            " 43  _Chromagram_Mean_11                             400 non-null    float64\n",
            " 44  _Chromagram_Mean_12                             400 non-null    float64\n",
            " 45  _HarmonicChangeDetectionFunction_Mean           400 non-null    float64\n",
            " 46  _HarmonicChangeDetectionFunction_Std            400 non-null    float64\n",
            " 47  _HarmonicChangeDetectionFunction_Slope          400 non-null    float64\n",
            " 48  _HarmonicChangeDetectionFunction_PeriodFreq     400 non-null    float64\n",
            " 49  _HarmonicChangeDetectionFunction_PeriodAmp      400 non-null    float64\n",
            " 50  _HarmonicChangeDetectionFunction_PeriodEntropy  400 non-null    float64\n",
            "dtypes: float64(50), object(1)\n",
            "memory usage: 159.5+ KB\n"
          ]
        }
      ]
    },
    {
      "cell_type": "code",
      "source": [
        "colunas = data_acoustic.columns.drop('Class')\n",
        "\n",
        "X = data_acoustic[colunas].values\n",
        "y = data_acoustic['Class'].values\n",
        "\n",
        "\n",
        "X_treino, X_teste, y_treino, y_teste = train_test_split(X,\n",
        "                            y, train_size=0.7, test_size=0.3)\n",
        "\n",
        "clf = DecisionTreeClassifier(criterion=\"entropy\")\n",
        "clf.fit(X_treino, y_treino)\n",
        "\n",
        "y_pred = clf.predict(X_teste)\n",
        "\n",
        "text_representation = tree.export_text(clf)\n",
        "print(text_representation)\n",
        "\n",
        "fig = plt.figure(figsize=(25,15))\n",
        "tree.plot_tree(clf,\n",
        "                   feature_names=colunas,\n",
        "                   class_names=['happy', 'sad', 'angry', 'relax'],\n",
        "                   filled=False)\n",
        "\n",
        "plt.show()\n"
      ],
      "metadata": {
        "id": "5xscbFP8cmeT",
        "colab": {
          "base_uri": "https://localhost:8080/",
          "height": 1000
        },
        "outputId": "1bf20454-1a76-42cf-9114-e22f04476f97"
      },
      "execution_count": null,
      "outputs": [
        {
          "output_type": "stream",
          "name": "stdout",
          "text": [
            "|--- feature_48 <= 0.79\n",
            "|   |--- feature_23 <= 1.81\n",
            "|   |   |--- feature_18 <= 0.22\n",
            "|   |   |   |--- feature_7 <= 0.16\n",
            "|   |   |   |   |--- feature_17 <= 66.91\n",
            "|   |   |   |   |   |--- class: sad\n",
            "|   |   |   |   |--- feature_17 >  66.91\n",
            "|   |   |   |   |   |--- feature_1 <= 0.58\n",
            "|   |   |   |   |   |   |--- feature_20 <= 0.02\n",
            "|   |   |   |   |   |   |   |--- class: angry\n",
            "|   |   |   |   |   |   |--- feature_20 >  0.02\n",
            "|   |   |   |   |   |   |   |--- class: relax\n",
            "|   |   |   |   |   |--- feature_1 >  0.58\n",
            "|   |   |   |   |   |   |--- feature_22 <= 7064.69\n",
            "|   |   |   |   |   |   |   |--- class: sad\n",
            "|   |   |   |   |   |   |--- feature_22 >  7064.69\n",
            "|   |   |   |   |   |   |   |--- class: relax\n",
            "|   |   |   |--- feature_7 >  0.16\n",
            "|   |   |   |   |--- feature_5 <= -0.28\n",
            "|   |   |   |   |   |--- feature_3 <= 84.76\n",
            "|   |   |   |   |   |   |--- class: angry\n",
            "|   |   |   |   |   |--- feature_3 >  84.76\n",
            "|   |   |   |   |   |   |--- class: sad\n",
            "|   |   |   |   |--- feature_5 >  -0.28\n",
            "|   |   |   |   |   |--- class: relax\n",
            "|   |   |--- feature_18 >  0.22\n",
            "|   |   |   |--- class: relax\n",
            "|   |--- feature_23 >  1.81\n",
            "|   |   |--- feature_44 <= 0.30\n",
            "|   |   |   |--- feature_14 <= -0.06\n",
            "|   |   |   |   |--- feature_11 <= 0.16\n",
            "|   |   |   |   |   |--- feature_35 <= 0.01\n",
            "|   |   |   |   |   |   |--- class: relax\n",
            "|   |   |   |   |   |--- feature_35 >  0.01\n",
            "|   |   |   |   |   |   |--- class: happy\n",
            "|   |   |   |   |--- feature_11 >  0.16\n",
            "|   |   |   |   |   |--- class: sad\n",
            "|   |   |   |--- feature_14 >  -0.06\n",
            "|   |   |   |   |--- feature_38 <= 0.41\n",
            "|   |   |   |   |   |--- class: angry\n",
            "|   |   |   |   |--- feature_38 >  0.41\n",
            "|   |   |   |   |   |--- class: sad\n",
            "|   |   |--- feature_44 >  0.30\n",
            "|   |   |   |--- feature_31 <= 0.91\n",
            "|   |   |   |   |--- feature_22 <= 8114.71\n",
            "|   |   |   |   |   |--- feature_3 <= 131.00\n",
            "|   |   |   |   |   |   |--- feature_25 <= 0.33\n",
            "|   |   |   |   |   |   |   |--- feature_49 <= 0.97\n",
            "|   |   |   |   |   |   |   |   |--- class: relax\n",
            "|   |   |   |   |   |   |   |--- feature_49 >  0.97\n",
            "|   |   |   |   |   |   |   |   |--- class: sad\n",
            "|   |   |   |   |   |   |--- feature_25 >  0.33\n",
            "|   |   |   |   |   |   |   |--- feature_14 <= 0.05\n",
            "|   |   |   |   |   |   |   |   |--- class: sad\n",
            "|   |   |   |   |   |   |   |--- feature_14 >  0.05\n",
            "|   |   |   |   |   |   |   |   |--- feature_31 <= 0.88\n",
            "|   |   |   |   |   |   |   |   |   |--- class: relax\n",
            "|   |   |   |   |   |   |   |   |--- feature_31 >  0.88\n",
            "|   |   |   |   |   |   |   |   |   |--- class: happy\n",
            "|   |   |   |   |   |--- feature_3 >  131.00\n",
            "|   |   |   |   |   |   |--- feature_3 <= 177.83\n",
            "|   |   |   |   |   |   |   |--- class: sad\n",
            "|   |   |   |   |   |   |--- feature_3 >  177.83\n",
            "|   |   |   |   |   |   |   |--- feature_38 <= 0.14\n",
            "|   |   |   |   |   |   |   |   |--- class: sad\n",
            "|   |   |   |   |   |   |   |--- feature_38 >  0.14\n",
            "|   |   |   |   |   |   |   |   |--- class: angry\n",
            "|   |   |   |   |--- feature_22 >  8114.71\n",
            "|   |   |   |   |   |--- class: relax\n",
            "|   |   |   |--- feature_31 >  0.91\n",
            "|   |   |   |   |--- feature_11 <= 0.13\n",
            "|   |   |   |   |   |--- class: happy\n",
            "|   |   |   |   |--- feature_11 >  0.13\n",
            "|   |   |   |   |   |--- class: sad\n",
            "|--- feature_48 >  0.79\n",
            "|   |--- feature_19 <= 1001.62\n",
            "|   |   |--- feature_2 <= 6.38\n",
            "|   |   |   |--- class: angry\n",
            "|   |   |--- feature_2 >  6.38\n",
            "|   |   |   |--- feature_32 <= 0.33\n",
            "|   |   |   |   |--- feature_8 <= 0.31\n",
            "|   |   |   |   |   |--- class: angry\n",
            "|   |   |   |   |--- feature_8 >  0.31\n",
            "|   |   |   |   |   |--- class: relax\n",
            "|   |   |   |--- feature_32 >  0.33\n",
            "|   |   |   |   |--- feature_32 <= 0.92\n",
            "|   |   |   |   |   |--- class: sad\n",
            "|   |   |   |   |--- feature_32 >  0.92\n",
            "|   |   |   |   |   |--- class: angry\n",
            "|   |--- feature_19 >  1001.62\n",
            "|   |   |--- feature_2 <= 5.35\n",
            "|   |   |   |--- feature_13 <= -0.06\n",
            "|   |   |   |   |--- class: happy\n",
            "|   |   |   |--- feature_13 >  -0.06\n",
            "|   |   |   |   |--- class: angry\n",
            "|   |   |--- feature_2 >  5.35\n",
            "|   |   |   |--- feature_8 <= -0.01\n",
            "|   |   |   |   |--- feature_49 <= 0.96\n",
            "|   |   |   |   |   |--- class: angry\n",
            "|   |   |   |   |--- feature_49 >  0.96\n",
            "|   |   |   |   |   |--- feature_7 <= -0.21\n",
            "|   |   |   |   |   |   |--- feature_17 <= 751.66\n",
            "|   |   |   |   |   |   |   |--- class: relax\n",
            "|   |   |   |   |   |   |--- feature_17 >  751.66\n",
            "|   |   |   |   |   |   |   |--- class: sad\n",
            "|   |   |   |   |   |--- feature_7 >  -0.21\n",
            "|   |   |   |   |   |   |--- class: happy\n",
            "|   |   |   |--- feature_8 >  -0.01\n",
            "|   |   |   |   |--- feature_13 <= -0.11\n",
            "|   |   |   |   |   |--- feature_12 <= -0.13\n",
            "|   |   |   |   |   |   |--- class: happy\n",
            "|   |   |   |   |   |--- feature_12 >  -0.13\n",
            "|   |   |   |   |   |   |--- feature_13 <= -0.22\n",
            "|   |   |   |   |   |   |   |--- class: happy\n",
            "|   |   |   |   |   |   |--- feature_13 >  -0.22\n",
            "|   |   |   |   |   |   |   |--- class: sad\n",
            "|   |   |   |   |--- feature_13 >  -0.11\n",
            "|   |   |   |   |   |--- class: happy\n",
            "\n"
          ]
        },
        {
          "output_type": "display_data",
          "data": {
            "text/plain": [
              "<Figure size 1800x1080 with 1 Axes>"
            ],
            "image/png": "[encoded data removed]"
          },
          "metadata": {
            "needs_background": "light"
          }
        }
      ]
    },
    {
      "cell_type": "code",
      "source": [
        "X.shape, y.shape, X_treino.shape, y_treino.shape, X_teste.shape, y_teste.shape"
      ],
      "metadata": {
        "id": "evZmbl7acqRj",
        "colab": {
          "base_uri": "https://localhost:8080/"
        },
        "outputId": "75f0ba5a-33c5-4cf4-ae2c-7c403c01fab6"
      },
      "execution_count": null,
      "outputs": [
        {
          "output_type": "execute_result",
          "data": {
            "text/plain": [
              "((400, 50), (400,), (280, 50), (280,), (120, 50), (120,))"
            ]
          },
          "metadata": {},
          "execution_count": 150
        }
      ]
    },
    {
      "cell_type": "markdown",
      "source": [
        "### Importando métricas do Sklearn"
      ],
      "metadata": {
        "id": "HV-a2bjZcrpF"
      }
    },
    {
      "cell_type": "code",
      "source": [
        "from sklearn.metrics import (recall_score,\n",
        "                             accuracy_score,\n",
        "                             precision_score,\n",
        "                             f1_score)"
      ],
      "metadata": {
        "id": "MkbOMEwzcvL5"
      },
      "execution_count": null,
      "outputs": []
    },
    {
      "cell_type": "markdown",
      "source": [
        "### Acuracidade"
      ],
      "metadata": {
        "id": "PMS_53TEcwmN"
      }
    },
    {
      "cell_type": "code",
      "source": [
        "accuracy_score(y_teste,y_pred)"
      ],
      "metadata": {
        "id": "Qc1KqL9fczZE",
        "colab": {
          "base_uri": "https://localhost:8080/"
        },
        "outputId": "dab1dcde-aa48-449a-97e7-a60af6741ed3"
      },
      "execution_count": null,
      "outputs": [
        {
          "output_type": "execute_result",
          "data": {
            "text/plain": [
              "0.65"
            ]
          },
          "metadata": {},
          "execution_count": 152
        }
      ]
    },
    {
      "cell_type": "markdown",
      "source": [],
      "metadata": {
        "id": "skjJXs4jc0_O"
      }
    },
    {
      "cell_type": "markdown",
      "source": [
        "### Matriz Confusão"
      ],
      "metadata": {
        "id": "lYdgRdiGc7S_"
      }
    },
    {
      "cell_type": "code",
      "source": [
        "from sklearn.metrics import confusion_matrix, ConfusionMatrixDisplay\n",
        "import seaborn as sns"
      ],
      "metadata": {
        "id": "E_kYmUpTdEan"
      },
      "execution_count": null,
      "outputs": []
    },
    {
      "cell_type": "markdown",
      "source": [
        "from sklearn.metrics import confusion_matrix, ConfusionMatrixDisplay\n",
        "import seaborn as sns"
      ],
      "metadata": {
        "id": "3z-cdKr0dA7A"
      }
    },
    {
      "cell_type": "code",
      "source": [
        "cm = confusion_matrix(y_teste, y_pred)\n",
        "ConfusionMatrixDisplay(cm).plot()"
      ],
      "metadata": {
        "id": "irkcmgh7dGEs",
        "colab": {
          "base_uri": "https://localhost:8080/",
          "height": 296
        },
        "outputId": "3be00dac-0bcf-4993-8f66-30bd2cd0c892"
      },
      "execution_count": null,
      "outputs": [
        {
          "output_type": "execute_result",
          "data": {
            "text/plain": [
              "<sklearn.metrics._plot.confusion_matrix.ConfusionMatrixDisplay at 0x7f4a59e42dd0>"
            ]
          },
          "metadata": {},
          "execution_count": 154
        },
        {
          "output_type": "display_data",
          "data": {
            "text/plain": [
              "<Figure size 432x288 with 2 Axes>"
            ],
            "image/png": "[encoded data removed]"
          },
          "metadata": {
            "needs_background": "light"
          }
        }
      ]
    },
    {
      "cell_type": "markdown",
      "source": [
        "# Árvore de Decisão - Diabetes\n"
      ],
      "metadata": {
        "id": "LO2mwVube649"
      }
    },
    {
      "cell_type": "code",
      "source": [
        "import pandas as pd\n",
        "import matplotlib.pyplot as plt\n",
        "from sklearn.tree import DecisionTreeClassifier\n",
        "from sklearn import tree\n",
        "from sklearn.model_selection import train_test_split"
      ],
      "metadata": {
        "id": "tRXxaamxfEvG"
      },
      "execution_count": null,
      "outputs": []
    },
    {
      "cell_type": "code",
      "source": [
        "data_diabetes = pd.read_csv('/content/diabetes.csv')\n",
        "data_acoustic = pd.read_csv('/content/Acoustic Features.csv')"
      ],
      "metadata": {
        "id": "WYoIv88XfGJN"
      },
      "execution_count": null,
      "outputs": []
    },
    {
      "cell_type": "code",
      "source": [
        "data_diabetes.head()"
      ],
      "metadata": {
        "id": "qQky2d6nfGGW",
        "colab": {
          "base_uri": "https://localhost:8080/",
          "height": 206
        },
        "outputId": "158953a8-e84f-479e-985e-3d7dc2f04124"
      },
      "execution_count": null,
      "outputs": [
        {
          "output_type": "execute_result",
          "data": {
            "text/plain": [
              "   Pregnancies  Glucose  BloodPressure  SkinThickness  Insulin   BMI  \\\n",
              "0            6      148             72             35        0  33.6   \n",
              "1            1       85             66             29        0  26.6   \n",
              "2            8      183             64              0        0  23.3   \n",
              "3            1       89             66             23       94  28.1   \n",
              "4            0      137             40             35      168  43.1   \n",
              "\n",
              "   DiabetesPedigreeFunction  Age  Outcome  \n",
              "0                     0.627   50        1  \n",
              "1                     0.351   31        0  \n",
              "2                     0.672   32        1  \n",
              "3                     0.167   21        0  \n",
              "4                     2.288   33        1  "
            ],
            "text/html": [
              "\n",
              "  <div id=\"df-ffe7f21f-9243-4ef9-bbbd-6c19c57ff15e\">\n",
              "    <div class=\"colab-df-container\">\n",
              "      <div>\n",
              "<style scoped>\n",
              "    .dataframe tbody tr th:only-of-type {\n",
              "        vertical-align: middle;\n",
              "    }\n",
              "\n",
              "    .dataframe tbody tr th {\n",
              "        vertical-align: top;\n",
              "    }\n",
              "\n",
              "    .dataframe thead th {\n",
              "        text-align: right;\n",
              "    }\n",
              "</style>\n",
              "<table border=\"1\" class=\"dataframe\">\n",
              "  <thead>\n",
              "    <tr style=\"text-align: right;\">\n",
              "      <th></th>\n",
              "      <th>Pregnancies</th>\n",
              "      <th>Glucose</th>\n",
              "      <th>BloodPressure</th>\n",
              "      <th>SkinThickness</th>\n",
              "      <th>Insulin</th>\n",
              "      <th>BMI</th>\n",
              "      <th>DiabetesPedigreeFunction</th>\n",
              "      <th>Age</th>\n",
              "      <th>Outcome</th>\n",
              "    </tr>\n",
              "  </thead>\n",
              "  <tbody>\n",
              "    <tr>\n",
              "      <th>0</th>\n",
              "      <td>6</td>\n",
              "      <td>148</td>\n",
              "      <td>72</td>\n",
              "      <td>35</td>\n",
              "      <td>0</td>\n",
              "      <td>33.6</td>\n",
              "      <td>0.627</td>\n",
              "      <td>50</td>\n",
              "      <td>1</td>\n",
              "    </tr>\n",
              "    <tr>\n",
              "      <th>1</th>\n",
              "      <td>1</td>\n",
              "      <td>85</td>\n",
              "      <td>66</td>\n",
              "      <td>29</td>\n",
              "      <td>0</td>\n",
              "      <td>26.6</td>\n",
              "      <td>0.351</td>\n",
              "      <td>31</td>\n",
              "      <td>0</td>\n",
              "    </tr>\n",
              "    <tr>\n",
              "      <th>2</th>\n",
              "      <td>8</td>\n",
              "      <td>183</td>\n",
              "      <td>64</td>\n",
              "      <td>0</td>\n",
              "      <td>0</td>\n",
              "      <td>23.3</td>\n",
              "      <td>0.672</td>\n",
              "      <td>32</td>\n",
              "      <td>1</td>\n",
              "    </tr>\n",
              "    <tr>\n",
              "      <th>3</th>\n",
              "      <td>1</td>\n",
              "      <td>89</td>\n",
              "      <td>66</td>\n",
              "      <td>23</td>\n",
              "      <td>94</td>\n",
              "      <td>28.1</td>\n",
              "      <td>0.167</td>\n",
              "      <td>21</td>\n",
              "      <td>0</td>\n",
              "    </tr>\n",
              "    <tr>\n",
              "      <th>4</th>\n",
              "      <td>0</td>\n",
              "      <td>137</td>\n",
              "      <td>40</td>\n",
              "      <td>35</td>\n",
              "      <td>168</td>\n",
              "      <td>43.1</td>\n",
              "      <td>2.288</td>\n",
              "      <td>33</td>\n",
              "      <td>1</td>\n",
              "    </tr>\n",
              "  </tbody>\n",
              "</table>\n",
              "</div>\n",
              "      <button class=\"colab-df-convert\" onclick=\"convertToInteractive('df-ffe7f21f-9243-4ef9-bbbd-6c19c57ff15e')\"\n",
              "              title=\"Convert this dataframe to an interactive table.\"\n",
              "              style=\"display:none;\">\n",
              "        \n",
              "  <svg xmlns=\"http://www.w3.org/2000/svg\" height=\"24px\"viewBox=\"0 0 24 24\"\n",
              "       width=\"24px\">\n",
              "    <path d=\"M0 0h24v24H0V0z\" fill=\"none\"/>\n",
              "    <path d=\"M18.56 5.44l.94 2.06.94-2.06 2.06-.94-2.06-.94-.94-2.06-.94 2.06-2.06.94zm-11 1L8.5 8.5l.94-2.06 2.06-.94-2.06-.94L8.5 2.5l-.94 2.06-2.06.94zm10 10l.94 2.06.94-2.06 2.06-.94-2.06-.94-.94-2.06-.94 2.06-2.06.94z\"/><path d=\"M17.41 7.96l-1.37-1.37c-.4-.4-.92-.59-1.43-.59-.52 0-1.04.2-1.43.59L10.3 9.45l-7.72 7.72c-.78.78-.78 2.05 0 2.83L4 21.41c.39.39.9.59 1.41.59.51 0 1.02-.2 1.41-.59l7.78-7.78 2.81-2.81c.8-.78.8-2.07 0-2.86zM5.41 20L4 18.59l7.72-7.72 1.47 1.35L5.41 20z\"/>\n",
              "  </svg>\n",
              "      </button>\n",
              "      \n",
              "  <style>\n",
              "    .colab-df-container {\n",
              "      display:flex;\n",
              "      flex-wrap:wrap;\n",
              "      gap: 12px;\n",
              "    }\n",
              "\n",
              "    .colab-df-convert {\n",
              "      background-color: #E8F0FE;\n",
              "      border: none;\n",
              "      border-radius: 50%;\n",
              "      cursor: pointer;\n",
              "      display: none;\n",
              "      fill: #1967D2;\n",
              "      height: 32px;\n",
              "      padding: 0 0 0 0;\n",
              "      width: 32px;\n",
              "    }\n",
              "\n",
              "    .colab-df-convert:hover {\n",
              "      background-color: #E2EBFA;\n",
              "      box-shadow: 0px 1px 2px rgba(60, 64, 67, 0.3), 0px 1px 3px 1px rgba(60, 64, 67, 0.15);\n",
              "      fill: #174EA6;\n",
              "    }\n",
              "\n",
              "    [theme=dark] .colab-df-convert {\n",
              "      background-color: #3B4455;\n",
              "      fill: #D2E3FC;\n",
              "    }\n",
              "\n",
              "    [theme=dark] .colab-df-convert:hover {\n",
              "      background-color: #434B5C;\n",
              "      box-shadow: 0px 1px 3px 1px rgba(0, 0, 0, 0.15);\n",
              "      filter: drop-shadow(0px 1px 2px rgba(0, 0, 0, 0.3));\n",
              "      fill: #FFFFFF;\n",
              "    }\n",
              "  </style>\n",
              "\n",
              "      <script>\n",
              "        const buttonEl =\n",
              "          document.querySelector('#df-ffe7f21f-9243-4ef9-bbbd-6c19c57ff15e button.colab-df-convert');\n",
              "        buttonEl.style.display =\n",
              "          google.colab.kernel.accessAllowed ? 'block' : 'none';\n",
              "\n",
              "        async function convertToInteractive(key) {\n",
              "          const element = document.querySelector('#df-ffe7f21f-9243-4ef9-bbbd-6c19c57ff15e');\n",
              "          const dataTable =\n",
              "            await google.colab.kernel.invokeFunction('convertToInteractive',\n",
              "                                                     [key], {});\n",
              "          if (!dataTable) return;\n",
              "\n",
              "          const docLinkHtml = 'Like what you see? Visit the ' +\n",
              "            '<a target=\"_blank\" href=https://colab.research.google.com/notebooks/data_table.ipynb>data table notebook</a>'\n",
              "            + ' to learn more about interactive tables.';\n",
              "          element.innerHTML = '';\n",
              "          dataTable['output_type'] = 'display_data';\n",
              "          await google.colab.output.renderOutput(dataTable, element);\n",
              "          const docLink = document.createElement('div');\n",
              "          docLink.innerHTML = docLinkHtml;\n",
              "          element.appendChild(docLink);\n",
              "        }\n",
              "      </script>\n",
              "    </div>\n",
              "  </div>\n",
              "  "
            ]
          },
          "metadata": {},
          "execution_count": 157
        }
      ]
    },
    {
      "cell_type": "code",
      "source": [
        "data_diabetes.info()"
      ],
      "metadata": {
        "id": "PCdoRW9SfGB2",
        "colab": {
          "base_uri": "https://localhost:8080/"
        },
        "outputId": "982456c1-f887-449b-f65a-70344f97708a"
      },
      "execution_count": null,
      "outputs": [
        {
          "output_type": "stream",
          "name": "stdout",
          "text": [
            "<class 'pandas.core.frame.DataFrame'>\n",
            "RangeIndex: 768 entries, 0 to 767\n",
            "Data columns (total 9 columns):\n",
            " #   Column                    Non-Null Count  Dtype  \n",
            "---  ------                    --------------  -----  \n",
            " 0   Pregnancies               768 non-null    int64  \n",
            " 1   Glucose                   768 non-null    int64  \n",
            " 2   BloodPressure             768 non-null    int64  \n",
            " 3   SkinThickness             768 non-null    int64  \n",
            " 4   Insulin                   768 non-null    int64  \n",
            " 5   BMI                       768 non-null    float64\n",
            " 6   DiabetesPedigreeFunction  768 non-null    float64\n",
            " 7   Age                       768 non-null    int64  \n",
            " 8   Outcome                   768 non-null    int64  \n",
            "dtypes: float64(2), int64(7)\n",
            "memory usage: 54.1 KB\n"
          ]
        }
      ]
    },
    {
      "cell_type": "code",
      "source": [
        "colunas = data_diabetes.columns.drop('Outcome')\n",
        "\n",
        "X = data_diabetes[colunas].values\n",
        "y = data_diabetes['Outcome'].values\n",
        "\n",
        "\n",
        "X_treino, X_teste, y_treino, y_teste = train_test_split(X,\n",
        "                            y, train_size=0.7, test_size=0.3)\n",
        "\n",
        "clf = DecisionTreeClassifier(criterion=\"entropy\")\n",
        "clf.fit(X_treino, y_treino)\n",
        "\n",
        "y_pred = clf.predict(X_teste)\n",
        "\n",
        "text_representation = tree.export_text(clf)\n",
        "print(text_representation)\n",
        "\n",
        "\n",
        "fig = plt.figure(figsize=(25,15))\n",
        "tree.plot_tree(clf,\n",
        "                   feature_names=colunas,\n",
        "                   class_names=['0','1'],\n",
        "                   filled=False)\n",
        "\n",
        "plt.show()\n"
      ],
      "metadata": {
        "id": "JIWgdDD0fF8y",
        "colab": {
          "base_uri": "https://localhost:8080/",
          "height": 1000
        },
        "outputId": "89c1e029-ef24-4e5b-bf3a-e6a0e7f3dd2b"
      },
      "execution_count": null,
      "outputs": [
        {
          "output_type": "stream",
          "name": "stdout",
          "text": [
            "|--- feature_1 <= 127.50\n",
            "|   |--- feature_5 <= 26.35\n",
            "|   |   |--- feature_0 <= 9.50\n",
            "|   |   |   |--- class: 0\n",
            "|   |   |--- feature_0 >  9.50\n",
            "|   |   |   |--- feature_7 <= 30.50\n",
            "|   |   |   |   |--- class: 1\n",
            "|   |   |   |--- feature_7 >  30.50\n",
            "|   |   |   |   |--- class: 0\n",
            "|   |--- feature_5 >  26.35\n",
            "|   |   |--- feature_7 <= 30.50\n",
            "|   |   |   |--- feature_5 <= 32.25\n",
            "|   |   |   |   |--- feature_0 <= 5.50\n",
            "|   |   |   |   |   |--- class: 0\n",
            "|   |   |   |   |--- feature_0 >  5.50\n",
            "|   |   |   |   |   |--- class: 1\n",
            "|   |   |   |--- feature_5 >  32.25\n",
            "|   |   |   |   |--- feature_6 <= 0.50\n",
            "|   |   |   |   |   |--- feature_5 <= 45.35\n",
            "|   |   |   |   |   |   |--- feature_3 <= 25.50\n",
            "|   |   |   |   |   |   |   |--- feature_0 <= 0.50\n",
            "|   |   |   |   |   |   |   |   |--- class: 1\n",
            "|   |   |   |   |   |   |   |--- feature_0 >  0.50\n",
            "|   |   |   |   |   |   |   |   |--- feature_6 <= 0.13\n",
            "|   |   |   |   |   |   |   |   |   |--- class: 1\n",
            "|   |   |   |   |   |   |   |   |--- feature_6 >  0.13\n",
            "|   |   |   |   |   |   |   |   |   |--- class: 0\n",
            "|   |   |   |   |   |   |--- feature_3 >  25.50\n",
            "|   |   |   |   |   |   |   |--- class: 0\n",
            "|   |   |   |   |   |--- feature_5 >  45.35\n",
            "|   |   |   |   |   |   |--- class: 1\n",
            "|   |   |   |   |--- feature_6 >  0.50\n",
            "|   |   |   |   |   |--- feature_5 <= 38.65\n",
            "|   |   |   |   |   |   |--- feature_3 <= 30.50\n",
            "|   |   |   |   |   |   |   |--- feature_1 <= 121.50\n",
            "|   |   |   |   |   |   |   |   |--- feature_7 <= 27.50\n",
            "|   |   |   |   |   |   |   |   |   |--- class: 0\n",
            "|   |   |   |   |   |   |   |   |--- feature_7 >  27.50\n",
            "|   |   |   |   |   |   |   |   |   |--- class: 1\n",
            "|   |   |   |   |   |   |   |--- feature_1 >  121.50\n",
            "|   |   |   |   |   |   |   |   |--- class: 1\n",
            "|   |   |   |   |   |   |--- feature_3 >  30.50\n",
            "|   |   |   |   |   |   |   |--- feature_2 <= 61.00\n",
            "|   |   |   |   |   |   |   |   |--- class: 0\n",
            "|   |   |   |   |   |   |   |--- feature_2 >  61.00\n",
            "|   |   |   |   |   |   |   |   |--- class: 1\n",
            "|   |   |   |   |   |--- feature_5 >  38.65\n",
            "|   |   |   |   |   |   |--- feature_5 <= 45.45\n",
            "|   |   |   |   |   |   |   |--- class: 0\n",
            "|   |   |   |   |   |   |--- feature_5 >  45.45\n",
            "|   |   |   |   |   |   |   |--- feature_0 <= 2.00\n",
            "|   |   |   |   |   |   |   |   |--- class: 1\n",
            "|   |   |   |   |   |   |   |--- feature_0 >  2.00\n",
            "|   |   |   |   |   |   |   |   |--- class: 0\n",
            "|   |   |--- feature_7 >  30.50\n",
            "|   |   |   |--- feature_1 <= 94.00\n",
            "|   |   |   |   |--- feature_1 <= 28.50\n",
            "|   |   |   |   |   |--- class: 1\n",
            "|   |   |   |   |--- feature_1 >  28.50\n",
            "|   |   |   |   |   |--- class: 0\n",
            "|   |   |   |--- feature_1 >  94.00\n",
            "|   |   |   |   |--- feature_6 <= 0.46\n",
            "|   |   |   |   |   |--- feature_6 <= 0.38\n",
            "|   |   |   |   |   |   |--- feature_2 <= 67.00\n",
            "|   |   |   |   |   |   |   |--- feature_4 <= 41.50\n",
            "|   |   |   |   |   |   |   |   |--- class: 1\n",
            "|   |   |   |   |   |   |   |--- feature_4 >  41.50\n",
            "|   |   |   |   |   |   |   |   |--- feature_0 <= 0.50\n",
            "|   |   |   |   |   |   |   |   |   |--- class: 1\n",
            "|   |   |   |   |   |   |   |   |--- feature_0 >  0.50\n",
            "|   |   |   |   |   |   |   |   |   |--- class: 0\n",
            "|   |   |   |   |   |   |--- feature_2 >  67.00\n",
            "|   |   |   |   |   |   |   |--- feature_0 <= 2.50\n",
            "|   |   |   |   |   |   |   |   |--- feature_2 <= 86.00\n",
            "|   |   |   |   |   |   |   |   |   |--- class: 1\n",
            "|   |   |   |   |   |   |   |   |--- feature_2 >  86.00\n",
            "|   |   |   |   |   |   |   |   |   |--- feature_4 <= 110.00\n",
            "|   |   |   |   |   |   |   |   |   |   |--- class: 0\n",
            "|   |   |   |   |   |   |   |   |   |--- feature_4 >  110.00\n",
            "|   |   |   |   |   |   |   |   |   |   |--- class: 1\n",
            "|   |   |   |   |   |   |   |--- feature_0 >  2.50\n",
            "|   |   |   |   |   |   |   |   |--- feature_2 <= 73.00\n",
            "|   |   |   |   |   |   |   |   |   |--- class: 0\n",
            "|   |   |   |   |   |   |   |   |--- feature_2 >  73.00\n",
            "|   |   |   |   |   |   |   |   |   |--- feature_5 <= 29.55\n",
            "|   |   |   |   |   |   |   |   |   |   |--- class: 0\n",
            "|   |   |   |   |   |   |   |   |   |--- feature_5 >  29.55\n",
            "|   |   |   |   |   |   |   |   |   |   |--- feature_2 <= 84.00\n",
            "|   |   |   |   |   |   |   |   |   |   |   |--- truncated branch of depth 2\n",
            "|   |   |   |   |   |   |   |   |   |   |--- feature_2 >  84.00\n",
            "|   |   |   |   |   |   |   |   |   |   |   |--- truncated branch of depth 2\n",
            "|   |   |   |   |   |--- feature_6 >  0.38\n",
            "|   |   |   |   |   |   |--- class: 0\n",
            "|   |   |   |   |--- feature_6 >  0.46\n",
            "|   |   |   |   |   |--- feature_0 <= 6.50\n",
            "|   |   |   |   |   |   |--- feature_1 <= 102.00\n",
            "|   |   |   |   |   |   |   |--- class: 0\n",
            "|   |   |   |   |   |   |--- feature_1 >  102.00\n",
            "|   |   |   |   |   |   |   |--- feature_5 <= 33.05\n",
            "|   |   |   |   |   |   |   |   |--- feature_7 <= 32.50\n",
            "|   |   |   |   |   |   |   |   |   |--- class: 0\n",
            "|   |   |   |   |   |   |   |   |--- feature_7 >  32.50\n",
            "|   |   |   |   |   |   |   |   |   |--- class: 1\n",
            "|   |   |   |   |   |   |   |--- feature_5 >  33.05\n",
            "|   |   |   |   |   |   |   |   |--- feature_3 <= 28.00\n",
            "|   |   |   |   |   |   |   |   |   |--- class: 0\n",
            "|   |   |   |   |   |   |   |   |--- feature_3 >  28.00\n",
            "|   |   |   |   |   |   |   |   |   |--- feature_1 <= 119.00\n",
            "|   |   |   |   |   |   |   |   |   |   |--- class: 1\n",
            "|   |   |   |   |   |   |   |   |   |--- feature_1 >  119.00\n",
            "|   |   |   |   |   |   |   |   |   |   |--- class: 0\n",
            "|   |   |   |   |   |--- feature_0 >  6.50\n",
            "|   |   |   |   |   |   |--- class: 1\n",
            "|--- feature_1 >  127.50\n",
            "|   |--- feature_5 <= 29.95\n",
            "|   |   |--- feature_0 <= 5.50\n",
            "|   |   |   |--- feature_6 <= 0.27\n",
            "|   |   |   |   |--- class: 0\n",
            "|   |   |   |--- feature_6 >  0.27\n",
            "|   |   |   |   |--- feature_2 <= 67.00\n",
            "|   |   |   |   |   |--- class: 0\n",
            "|   |   |   |   |--- feature_2 >  67.00\n",
            "|   |   |   |   |   |--- feature_2 <= 80.00\n",
            "|   |   |   |   |   |   |--- feature_3 <= 13.50\n",
            "|   |   |   |   |   |   |   |--- feature_4 <= 52.50\n",
            "|   |   |   |   |   |   |   |   |--- feature_2 <= 73.50\n",
            "|   |   |   |   |   |   |   |   |   |--- class: 1\n",
            "|   |   |   |   |   |   |   |   |--- feature_2 >  73.50\n",
            "|   |   |   |   |   |   |   |   |   |--- class: 0\n",
            "|   |   |   |   |   |   |   |--- feature_4 >  52.50\n",
            "|   |   |   |   |   |   |   |   |--- class: 0\n",
            "|   |   |   |   |   |   |--- feature_3 >  13.50\n",
            "|   |   |   |   |   |   |   |--- class: 1\n",
            "|   |   |   |   |   |--- feature_2 >  80.00\n",
            "|   |   |   |   |   |   |--- class: 0\n",
            "|   |   |--- feature_0 >  5.50\n",
            "|   |   |   |--- feature_5 <= 25.95\n",
            "|   |   |   |   |--- class: 1\n",
            "|   |   |   |--- feature_5 >  25.95\n",
            "|   |   |   |   |--- feature_2 <= 77.00\n",
            "|   |   |   |   |   |--- class: 0\n",
            "|   |   |   |   |--- feature_2 >  77.00\n",
            "|   |   |   |   |   |--- feature_5 <= 29.70\n",
            "|   |   |   |   |   |   |--- class: 1\n",
            "|   |   |   |   |   |--- feature_5 >  29.70\n",
            "|   |   |   |   |   |   |--- class: 0\n",
            "|   |--- feature_5 >  29.95\n",
            "|   |   |--- feature_1 <= 165.50\n",
            "|   |   |   |--- feature_7 <= 30.50\n",
            "|   |   |   |   |--- feature_2 <= 61.00\n",
            "|   |   |   |   |   |--- class: 1\n",
            "|   |   |   |   |--- feature_2 >  61.00\n",
            "|   |   |   |   |   |--- feature_4 <= 252.50\n",
            "|   |   |   |   |   |   |--- feature_5 <= 43.40\n",
            "|   |   |   |   |   |   |   |--- feature_2 <= 77.00\n",
            "|   |   |   |   |   |   |   |   |--- feature_5 <= 32.45\n",
            "|   |   |   |   |   |   |   |   |   |--- class: 1\n",
            "|   |   |   |   |   |   |   |   |--- feature_5 >  32.45\n",
            "|   |   |   |   |   |   |   |   |   |--- feature_0 <= 0.50\n",
            "|   |   |   |   |   |   |   |   |   |   |--- feature_5 <= 33.75\n",
            "|   |   |   |   |   |   |   |   |   |   |   |--- class: 0\n",
            "|   |   |   |   |   |   |   |   |   |   |--- feature_5 >  33.75\n",
            "|   |   |   |   |   |   |   |   |   |   |   |--- class: 1\n",
            "|   |   |   |   |   |   |   |   |   |--- feature_0 >  0.50\n",
            "|   |   |   |   |   |   |   |   |   |   |--- feature_7 <= 28.50\n",
            "|   |   |   |   |   |   |   |   |   |   |   |--- class: 0\n",
            "|   |   |   |   |   |   |   |   |   |   |--- feature_7 >  28.50\n",
            "|   |   |   |   |   |   |   |   |   |   |   |--- truncated branch of depth 2\n",
            "|   |   |   |   |   |   |   |--- feature_2 >  77.00\n",
            "|   |   |   |   |   |   |   |   |--- class: 0\n",
            "|   |   |   |   |   |   |--- feature_5 >  43.40\n",
            "|   |   |   |   |   |   |   |--- class: 1\n",
            "|   |   |   |   |   |--- feature_4 >  252.50\n",
            "|   |   |   |   |   |   |--- class: 0\n",
            "|   |   |   |--- feature_7 >  30.50\n",
            "|   |   |   |   |--- feature_2 <= 89.00\n",
            "|   |   |   |   |   |--- feature_6 <= 0.23\n",
            "|   |   |   |   |   |   |--- feature_0 <= 6.00\n",
            "|   |   |   |   |   |   |   |--- class: 0\n",
            "|   |   |   |   |   |   |--- feature_0 >  6.00\n",
            "|   |   |   |   |   |   |   |--- feature_3 <= 15.00\n",
            "|   |   |   |   |   |   |   |   |--- class: 1\n",
            "|   |   |   |   |   |   |   |--- feature_3 >  15.00\n",
            "|   |   |   |   |   |   |   |   |--- feature_5 <= 34.00\n",
            "|   |   |   |   |   |   |   |   |   |--- class: 0\n",
            "|   |   |   |   |   |   |   |   |--- feature_5 >  34.00\n",
            "|   |   |   |   |   |   |   |   |   |--- class: 1\n",
            "|   |   |   |   |   |--- feature_6 >  0.23\n",
            "|   |   |   |   |   |   |--- feature_5 <= 33.05\n",
            "|   |   |   |   |   |   |   |--- class: 1\n",
            "|   |   |   |   |   |   |--- feature_5 >  33.05\n",
            "|   |   |   |   |   |   |   |--- feature_5 <= 40.75\n",
            "|   |   |   |   |   |   |   |   |--- feature_7 <= 49.50\n",
            "|   |   |   |   |   |   |   |   |   |--- feature_5 <= 33.95\n",
            "|   |   |   |   |   |   |   |   |   |   |--- class: 0\n",
            "|   |   |   |   |   |   |   |   |   |--- feature_5 >  33.95\n",
            "|   |   |   |   |   |   |   |   |   |   |--- feature_5 <= 34.55\n",
            "|   |   |   |   |   |   |   |   |   |   |   |--- class: 1\n",
            "|   |   |   |   |   |   |   |   |   |   |--- feature_5 >  34.55\n",
            "|   |   |   |   |   |   |   |   |   |   |   |--- truncated branch of depth 5\n",
            "|   |   |   |   |   |   |   |   |--- feature_7 >  49.50\n",
            "|   |   |   |   |   |   |   |   |   |--- class: 1\n",
            "|   |   |   |   |   |   |   |--- feature_5 >  40.75\n",
            "|   |   |   |   |   |   |   |   |--- class: 1\n",
            "|   |   |   |   |--- feature_2 >  89.00\n",
            "|   |   |   |   |   |--- class: 1\n",
            "|   |   |--- feature_1 >  165.50\n",
            "|   |   |   |--- feature_2 <= 93.00\n",
            "|   |   |   |   |--- feature_0 <= 3.50\n",
            "|   |   |   |   |   |--- feature_3 <= 32.50\n",
            "|   |   |   |   |   |   |--- feature_6 <= 0.28\n",
            "|   |   |   |   |   |   |   |--- class: 0\n",
            "|   |   |   |   |   |   |--- feature_6 >  0.28\n",
            "|   |   |   |   |   |   |   |--- feature_6 <= 1.03\n",
            "|   |   |   |   |   |   |   |   |--- class: 1\n",
            "|   |   |   |   |   |   |   |--- feature_6 >  1.03\n",
            "|   |   |   |   |   |   |   |   |--- class: 0\n",
            "|   |   |   |   |   |--- feature_3 >  32.50\n",
            "|   |   |   |   |   |   |--- class: 1\n",
            "|   |   |   |   |--- feature_0 >  3.50\n",
            "|   |   |   |   |   |--- class: 1\n",
            "|   |   |   |--- feature_2 >  93.00\n",
            "|   |   |   |   |--- feature_0 <= 8.00\n",
            "|   |   |   |   |   |--- class: 0\n",
            "|   |   |   |   |--- feature_0 >  8.00\n",
            "|   |   |   |   |   |--- class: 1\n",
            "\n"
          ]
        },
        {
          "output_type": "display_data",
          "data": {
            "text/plain": [
              "<Figure size 1800x1080 with 1 Axes>"
            ],
            "image/png": "[encoded data removed]"
          },
          "metadata": {
            "needs_background": "light"
          }
        }
      ]
    },
    {
      "cell_type": "code",
      "source": [
        "X.shape, y.shape, X_treino.shape, y_treino.shape, X_teste.shape, y_teste.shape"
      ],
      "metadata": {
        "id": "QUj0cPyDfF42",
        "colab": {
          "base_uri": "https://localhost:8080/"
        },
        "outputId": "02502dfa-1a1c-46bf-fcd3-06bc1d9d6b4b"
      },
      "execution_count": null,
      "outputs": [
        {
          "output_type": "execute_result",
          "data": {
            "text/plain": [
              "((768, 8), (768,), (537, 8), (537,), (231, 8), (231,))"
            ]
          },
          "metadata": {},
          "execution_count": 160
        }
      ]
    },
    {
      "cell_type": "markdown",
      "source": [
        "### Importando métricas do Sklearn"
      ],
      "metadata": {
        "id": "xoqHS6-DfU4N"
      }
    },
    {
      "cell_type": "code",
      "source": [
        "from sklearn.metrics import (recall_score,\n",
        "                             accuracy_score,\n",
        "                             precision_score,\n",
        "                             f1_score)"
      ],
      "metadata": {
        "id": "-jJEM7aAfF1w"
      },
      "execution_count": null,
      "outputs": []
    },
    {
      "cell_type": "markdown",
      "source": [
        "### Acuracidade"
      ],
      "metadata": {
        "id": "8iTn-rKtfZGh"
      }
    },
    {
      "cell_type": "code",
      "source": [
        "accuracy_score(y_teste,y_pred)"
      ],
      "metadata": {
        "id": "QE3XNeC5fFxn",
        "colab": {
          "base_uri": "https://localhost:8080/"
        },
        "outputId": "f7b2a7d4-1091-4798-b871-525ffddaf7e2"
      },
      "execution_count": null,
      "outputs": [
        {
          "output_type": "execute_result",
          "data": {
            "text/plain": [
              "0.7229437229437229"
            ]
          },
          "metadata": {},
          "execution_count": 162
        }
      ]
    },
    {
      "cell_type": "markdown",
      "source": [
        "### Matriz Confusão"
      ],
      "metadata": {
        "id": "bzvEPW5Afbc6"
      }
    },
    {
      "cell_type": "code",
      "source": [
        "from sklearn.metrics import confusion_matrix, ConfusionMatrixDisplay\n",
        "import seaborn as sns"
      ],
      "metadata": {
        "id": "Ky9h8-KZfFuV"
      },
      "execution_count": null,
      "outputs": []
    },
    {
      "cell_type": "code",
      "source": [
        "cm = confusion_matrix(y_teste, y_pred)\n",
        "ConfusionMatrixDisplay(cm).plot()"
      ],
      "metadata": {
        "id": "ZgVa50vffFrC",
        "colab": {
          "base_uri": "https://localhost:8080/",
          "height": 298
        },
        "outputId": "83e4263f-f4b9-43a2-9af0-e8d5e9321ade"
      },
      "execution_count": null,
      "outputs": [
        {
          "output_type": "execute_result",
          "data": {
            "text/plain": [
              "<sklearn.metrics._plot.confusion_matrix.ConfusionMatrixDisplay at 0x7f4a57928650>"
            ]
          },
          "metadata": {},
          "execution_count": 164
        },
        {
          "output_type": "display_data",
          "data": {
            "text/plain": [
              "<Figure size 432x288 with 2 Axes>"
            ],
            "image/png": "[encoded data removed]"
          },
          "metadata": {
            "needs_background": "light"
          }
        }
      ]
    }
  ]
}